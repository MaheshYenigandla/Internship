{
 "cells": [
  {
   "cell_type": "code",
   "execution_count": null,
   "id": "52a1cc3c",
   "metadata": {},
   "outputs": [],
   "source": [
    "#program1\n",
    "!pip install selenium"
   ]
  },
  {
   "cell_type": "code",
   "execution_count": null,
   "id": "8ba546c7",
   "metadata": {},
   "outputs": [],
   "source": [
    "import selenium\n",
    "import pandas as pd\n",
    "from selenium import webdriver\n",
    "import warnings\n",
    "warnings.filterwarnings(\"ignore\")\n",
    "import time\n",
    "from time import sleep\n",
    "from selenium.webdriver.common.keys import Keys\n",
    "from selenium.webdriver.support.ui import WebDriverWait\n",
    "from selenium.common.exceptions import NoSuchElementException\n",
    "import requests\n",
    "from bs4 import BeautifulSoup"
   ]
  },
  {
   "cell_type": "code",
   "execution_count": null,
   "id": "f5c8a812",
   "metadata": {},
   "outputs": [],
   "source": [
    "driver_chrome=webdriver.Chrome(\"chromedriver.exe\")"
   ]
  },
  {
   "cell_type": "code",
   "execution_count": null,
   "id": "9667381c",
   "metadata": {},
   "outputs": [],
   "source": [
    "driver_chrome.get('https://en.wikipedia.org/wiki/List_of_most-viewed_YouTube_videos')"
   ]
  },
  {
   "cell_type": "code",
   "execution_count": null,
   "id": "fc85a620",
   "metadata": {},
   "outputs": [],
   "source": [
    "driver_chrome.maximize_window()"
   ]
  },
  {
   "cell_type": "code",
   "execution_count": null,
   "id": "02972582",
   "metadata": {},
   "outputs": [],
   "source": [
    "rank_video=[]\n",
    "name_video=[]\n",
    "artist_video=[]\n",
    "upload_date_video=[]\n",
    "views_video=[]"
   ]
  },
  {
   "cell_type": "code",
   "execution_count": null,
   "id": "fdf7bd0a",
   "metadata": {},
   "outputs": [],
   "source": [
    "url1=\"https://en.wikipedia.org/wiki/List_of_most-viewed_YouTube_videos\""
   ]
  },
  {
   "cell_type": "code",
   "execution_count": null,
   "id": "dcea5e98",
   "metadata": {},
   "outputs": [],
   "source": [
    "req1=requests.get(url1)"
   ]
  },
  {
   "cell_type": "code",
   "execution_count": null,
   "id": "a3488759",
   "metadata": {
    "scrolled": false
   },
   "outputs": [],
   "source": [
    "content1=BeautifulSoup(req1.content)\n",
    "content1"
   ]
  },
  {
   "cell_type": "code",
   "execution_count": null,
   "id": "1cc02aa1",
   "metadata": {},
   "outputs": [],
   "source": [
    "names=driver_chrome.find_elements_by_xpath(\"//a[@class='mw-redirect']\")\n",
    "names"
   ]
  },
  {
   "cell_type": "code",
   "execution_count": null,
   "id": "0bfbfaed",
   "metadata": {},
   "outputs": [],
   "source": [
    "for i in names:\n",
    "    name=i.text\n",
    "    name_video.append(name)\n",
    "print(name_video)"
   ]
  },
  {
   "cell_type": "code",
   "execution_count": null,
   "id": "8c0818df",
   "metadata": {},
   "outputs": [],
   "source": [
    "artists=driver_chrome.find_elements_by_xpath(\"/html/body/div[3]/div[3]/div[5]/div[1]/table[2]/tbody/tr[1]/td[3]/a\")\n",
    "artists"
   ]
  },
  {
   "cell_type": "code",
   "execution_count": null,
   "id": "ccda111f",
   "metadata": {},
   "outputs": [],
   "source": [
    "for i in artists:\n",
    "    art=i.text\n",
    "    artist_video.append(art)\n",
    "print(artist_video)"
   ]
  },
  {
   "cell_type": "code",
   "execution_count": null,
   "id": "cd8cda6d",
   "metadata": {},
   "outputs": [],
   "source": [
    "updates=driver_chrome.find_elements_by_xpath(\"/html/body/div[3]/div[3]/div[5]/div[1]/table[2]/tbody/tr[1]/td[5]\")\n",
    "updates"
   ]
  },
  {
   "cell_type": "code",
   "execution_count": null,
   "id": "0640b3f3",
   "metadata": {},
   "outputs": [],
   "source": [
    "for i in updates:\n",
    "    update=i.text\n",
    "    upload_date_video.append(update)\n",
    "print(upload_date_video)"
   ]
  },
  {
   "cell_type": "code",
   "execution_count": null,
   "id": "04a4874b",
   "metadata": {},
   "outputs": [],
   "source": [
    "views=driver_chrome.find_elements_by_tag_name(\"td\")\n",
    "views"
   ]
  },
  {
   "cell_type": "code",
   "execution_count": null,
   "id": "db5326be",
   "metadata": {},
   "outputs": [],
   "source": [
    "for i in views:\n",
    "    view=i.text\n",
    "    views_video.append(view)\n",
    "print(views_video)"
   ]
  },
  {
   "cell_type": "code",
   "execution_count": null,
   "id": "f7c8b8c1",
   "metadata": {},
   "outputs": [],
   "source": [
    "#program2\n",
    "!pip install selenium"
   ]
  },
  {
   "cell_type": "code",
   "execution_count": null,
   "id": "055f6913",
   "metadata": {},
   "outputs": [],
   "source": [
    "import selenium\n",
    "import pandas as pd\n",
    "from selenium import webdriver\n",
    "import warnings\n",
    "warnings.filterwarnings(\"ignore\")\n",
    "import time\n",
    "from time import sleep\n",
    "from selenium.webdriver.common.keys import Keys\n",
    "from selenium.webdriver.support.ui import WebDriverWait\n",
    "from selenium.common.exceptions import NoSuchElementException\n",
    "import requests\n",
    "from bs4 import BeautifulSoup"
   ]
  },
  {
   "cell_type": "code",
   "execution_count": null,
   "id": "8e942b5d",
   "metadata": {},
   "outputs": [],
   "source": [
    "driver_chrome=webdriver.Chrome(\"chromedriver.exe\")"
   ]
  },
  {
   "cell_type": "code",
   "execution_count": null,
   "id": "d56f28ab",
   "metadata": {},
   "outputs": [],
   "source": [
    "driver_chrome.get('https://www.bcci.tv/')"
   ]
  },
  {
   "cell_type": "code",
   "execution_count": null,
   "id": "127e651a",
   "metadata": {},
   "outputs": [],
   "source": [
    "driver_chrome.maximize_window()"
   ]
  },
  {
   "cell_type": "code",
   "execution_count": null,
   "id": "a31b27f9",
   "metadata": {},
   "outputs": [],
   "source": [
    "inter_button=driver_chrome.find_element_by_xpath(\"/html/body/nav/div[1]/div[2]/ul[1]/li[2]/a\")\n",
    "inter_button.click()\n",
    "time.sleep(4)"
   ]
  },
  {
   "cell_type": "code",
   "execution_count": null,
   "id": "90db9b62",
   "metadata": {},
   "outputs": [],
   "source": [
    "match_title=[]\n",
    "series_cric=[]\n",
    "places_cric=[]\n",
    "dates_cric=[]\n",
    "times_cric=[]"
   ]
  },
  {
   "cell_type": "code",
   "execution_count": null,
   "id": "17aeedea",
   "metadata": {},
   "outputs": [],
   "source": [
    "titles=driver_chrome.find_elements_by_xpath(\"//span[@class='ng-binding']\")\n",
    "titles"
   ]
  },
  {
   "cell_type": "code",
   "execution_count": null,
   "id": "7d1cfc2c",
   "metadata": {},
   "outputs": [],
   "source": [
    "for i in titles:\n",
    "    title=i.text\n",
    "    match_title.append(title)\n",
    "print(match_title)"
   ]
  },
  {
   "cell_type": "code",
   "execution_count": null,
   "id": "287d3505",
   "metadata": {},
   "outputs": [],
   "source": [
    "series=driver_chrome.find_elements_by_xpath(\"//span[@class='matchOrderText ng-binding ng-scope']\")\n",
    "series"
   ]
  },
  {
   "cell_type": "code",
   "execution_count": null,
   "id": "977b81b5",
   "metadata": {},
   "outputs": [],
   "source": [
    "for i in series:\n",
    "    ser=i.text\n",
    "    series_cric.append(ser)\n",
    "print(series_cric)"
   ]
  },
  {
   "cell_type": "code",
   "execution_count": null,
   "id": "63028eb4",
   "metadata": {},
   "outputs": [],
   "source": [
    "places=driver_chrome.find_elements_by_xpath(\"//span[@class='ng-binding ng-scope']\")\n",
    "places"
   ]
  },
  {
   "cell_type": "code",
   "execution_count": null,
   "id": "7bbc8ec6",
   "metadata": {},
   "outputs": [],
   "source": [
    "for i in places:\n",
    "    place=i.text\n",
    "    places_cric.append(place)\n",
    "print(places_cric)"
   ]
  },
  {
   "cell_type": "code",
   "execution_count": null,
   "id": "a894193c",
   "metadata": {},
   "outputs": [],
   "source": [
    "dates=driver_chrome.find_elements_by_xpath(\"//h5[@class='ng-binding']\")\n",
    "dates"
   ]
  },
  {
   "cell_type": "code",
   "execution_count": null,
   "id": "f2869730",
   "metadata": {},
   "outputs": [],
   "source": [
    "for i in dates:\n",
    "    date=i.text\n",
    "    dates_cric.append(date)\n",
    "print(dates_cric)"
   ]
  },
  {
   "cell_type": "code",
   "execution_count": null,
   "id": "de87a9d7",
   "metadata": {},
   "outputs": [],
   "source": [
    "times=driver_chrome.find_elements_by_xpath(\"//h5[@class='text-right ng-binding']\")\n",
    "times"
   ]
  },
  {
   "cell_type": "code",
   "execution_count": null,
   "id": "ff6c30f9",
   "metadata": {},
   "outputs": [],
   "source": [
    "for i in times:\n",
    "    time=i.text\n",
    "    times_cric.append(time)\n",
    "print(times_cric)"
   ]
  },
  {
   "cell_type": "code",
   "execution_count": null,
   "id": "76935c21",
   "metadata": {},
   "outputs": [],
   "source": [
    "#program3\n",
    "!pip install selenium"
   ]
  },
  {
   "cell_type": "code",
   "execution_count": null,
   "id": "5bf664ad",
   "metadata": {},
   "outputs": [],
   "source": [
    "import selenium\n",
    "import pandas as pd\n",
    "from selenium import webdriver\n",
    "import warnings\n",
    "warnings.filterwarnings(\"ignore\")\n",
    "import time\n",
    "from time import sleep\n",
    "from selenium.webdriver.common.keys import Keys\n",
    "from selenium.webdriver.support.ui import WebDriverWait\n",
    "from selenium.common.exceptions import NoSuchElementException\n",
    "import requests\n",
    "from bs4 import BeautifulSoup\n"
   ]
  },
  {
   "cell_type": "code",
   "execution_count": null,
   "id": "294ece59",
   "metadata": {},
   "outputs": [],
   "source": [
    "driver_chrome=webdriver.Chrome(\"chromedriver.exe\")"
   ]
  },
  {
   "cell_type": "code",
   "execution_count": null,
   "id": "cfb59daa",
   "metadata": {},
   "outputs": [],
   "source": [
    "driver_chrome.get('https://www.guru99.com/')"
   ]
  },
  {
   "cell_type": "code",
   "execution_count": null,
   "id": "fa744be4",
   "metadata": {},
   "outputs": [],
   "source": [
    "driver_chrome.maximize_window()"
   ]
  },
  {
   "cell_type": "code",
   "execution_count": null,
   "id": "735beb9d",
   "metadata": {},
   "outputs": [],
   "source": [
    "selenium=driver_chrome.find_element_by_xpath(\"/html/body/div[1]/div/div/div/main/div/article/div/div[1]/div[2]/div[1]/div/ul[1]/li[3]/a\")\n",
    "selenium.click()\n",
    "time.sleep(4)"
   ]
  },
  {
   "cell_type": "code",
   "execution_count": null,
   "id": "3a797382",
   "metadata": {},
   "outputs": [],
   "source": [
    "url=\"https://www.guru99.com/exception-handling-selenium.html\""
   ]
  },
  {
   "cell_type": "code",
   "execution_count": null,
   "id": "c4de64cd",
   "metadata": {},
   "outputs": [],
   "source": [
    "req=requests.get(url)"
   ]
  },
  {
   "cell_type": "code",
   "execution_count": null,
   "id": "40594fd1",
   "metadata": {},
   "outputs": [],
   "source": [
    "content=BeautifulSoup(req.content)\n",
    "content"
   ]
  },
  {
   "cell_type": "code",
   "execution_count": null,
   "id": "891e3d6e",
   "metadata": {},
   "outputs": [],
   "source": [
    "exceptions=driver_chrome.find_element_by_xpath(\"/html/body/div[1]/div/div/div/main/div/article/div/div/table[5]/tbody/tr[34]/td[1]/a\")\n",
    "expections.click()"
   ]
  },
  {
   "cell_type": "code",
   "execution_count": null,
   "id": "5fa1b9a9",
   "metadata": {},
   "outputs": [],
   "source": [
    "exp_names=[]\n",
    "exp_des=[]"
   ]
  },
  {
   "cell_type": "code",
   "execution_count": null,
   "id": "396abc4c",
   "metadata": {},
   "outputs": [],
   "source": [
    "names=driver_chrome.find_elements_by_xpath(\"//table[@class='table table-striped']\")\n",
    "names"
   ]
  },
  {
   "cell_type": "code",
   "execution_count": null,
   "id": "3bb35086",
   "metadata": {},
   "outputs": [],
   "source": [
    "for i in names:\n",
    "    name=i.text\n",
    "    exp_names.append(name)\n",
    "exp_names"
   ]
  },
  {
   "cell_type": "code",
   "execution_count": null,
   "id": "ef9b09a2",
   "metadata": {},
   "outputs": [],
   "source": [
    "description=driver_chrome.find_elements_by_xpath(\"//table[@class='table table-striped']\")\n",
    "description"
   ]
  },
  {
   "cell_type": "code",
   "execution_count": null,
   "id": "a3c3cdfc",
   "metadata": {},
   "outputs": [],
   "source": [
    "for i in description:\n",
    "    des=i.text\n",
    "    exp_des.append(des)\n",
    "exp_des"
   ]
  },
  {
   "cell_type": "code",
   "execution_count": null,
   "id": "a0adc3f0",
   "metadata": {},
   "outputs": [],
   "source": [
    "#program5\n",
    "!pip install selenium"
   ]
  },
  {
   "cell_type": "code",
   "execution_count": null,
   "id": "f4328983",
   "metadata": {},
   "outputs": [],
   "source": [
    "import selenium\n",
    "import pandas as pd\n",
    "from selenium import webdriver\n",
    "import warnings\n",
    "warnings.filterwarnings(\"ignore\")\n",
    "import time\n",
    "from time import sleep\n",
    "from selenium.webdriver.common.keys import Keys\n",
    "from selenium.webdriver.support.ui import WebDriverWait\n",
    "from selenium.common.exceptions import NoSuchElementException\n",
    "import requests\n",
    "from bs4 import BeautifulSoup"
   ]
  },
  {
   "cell_type": "code",
   "execution_count": null,
   "id": "1db44965",
   "metadata": {},
   "outputs": [],
   "source": [
    "driver_chrome=webdriver.Chrome(\"chromedriver.exe\")"
   ]
  },
  {
   "cell_type": "code",
   "execution_count": null,
   "id": "7b2bcce7",
   "metadata": {},
   "outputs": [],
   "source": [
    "driver_chrome.get('https://github.com/')"
   ]
  },
  {
   "cell_type": "code",
   "execution_count": null,
   "id": "2375ecc0",
   "metadata": {},
   "outputs": [],
   "source": [
    "driver_chrome.maximize_window()"
   ]
  },
  {
   "cell_type": "code",
   "execution_count": null,
   "id": "dbfe30e9",
   "metadata": {},
   "outputs": [],
   "source": [
    "explore_button=driver_chrome.find_element_by_xpath(\"/html/body/div[1]/header/div/div[2]/nav/ul/li[4]/details/summary\")\n",
    "explore_button.click()\n",
    "time.sleep(4)"
   ]
  },
  {
   "cell_type": "code",
   "execution_count": null,
   "id": "8260e844",
   "metadata": {},
   "outputs": [],
   "source": [
    "trending=driver_chrome.find_element_by_xpath(\"/html/body/div[1]/header/div/div[2]/nav/ul/li[4]/details/div/ul/li[5]/a\")\n",
    "trending.click()"
   ]
  },
  {
   "cell_type": "code",
   "execution_count": null,
   "id": "e32f6313",
   "metadata": {},
   "outputs": [],
   "source": [
    "rep_title=[]\n",
    "rep_des=[]\n",
    "con_count=[]\n",
    "lan_used=[]"
   ]
  },
  {
   "cell_type": "code",
   "execution_count": null,
   "id": "bc835b91",
   "metadata": {},
   "outputs": [],
   "source": [
    "titles=driver_chrome.find_elements_by_xpath(\"//h1[@class='h3 lh-condensed']\")\n",
    "titles"
   ]
  },
  {
   "cell_type": "code",
   "execution_count": null,
   "id": "ffe19e66",
   "metadata": {},
   "outputs": [],
   "source": [
    "for i in titles:\n",
    "    title=i.text\n",
    "    rep_title.append(title)\n",
    "print(rep_title)"
   ]
  },
  {
   "cell_type": "code",
   "execution_count": null,
   "id": "c2e02a1f",
   "metadata": {},
   "outputs": [],
   "source": [
    "description=driver_chrome.find_elements_by_xpath(\"//p[@class='col-9 color-fg-muted my-1 pr-4']\")\n",
    "description"
   ]
  },
  {
   "cell_type": "code",
   "execution_count": null,
   "id": "c286a415",
   "metadata": {},
   "outputs": [],
   "source": [
    "for i in description:\n",
    "    des=i.text\n",
    "    rep_des.append(des)\n",
    "print(rep_des)"
   ]
  },
  {
   "cell_type": "code",
   "execution_count": null,
   "id": "90faf0cc",
   "metadata": {},
   "outputs": [],
   "source": [
    "contributors=driver_chrome.find_elements_by_xpath(\"//a[@class='Link--muted d-inline-block mr-3']\")\n",
    "contributors"
   ]
  },
  {
   "cell_type": "code",
   "execution_count": null,
   "id": "aff09c05",
   "metadata": {},
   "outputs": [],
   "source": [
    "for i in contributors:\n",
    "    con=i.text\n",
    "    con_count.append(con)\n",
    "print(con_count)"
   ]
  },
  {
   "cell_type": "code",
   "execution_count": null,
   "id": "554f5824",
   "metadata": {},
   "outputs": [],
   "source": [
    "languages=driver_chrome.find_elements_by_xpath(\"/html/body/div[4]/main/div[3]/div/div[2]/article[2]/div[2]/span[1]/span[2]\")\n",
    "languages"
   ]
  },
  {
   "cell_type": "code",
   "execution_count": null,
   "id": "9726ae0e",
   "metadata": {},
   "outputs": [],
   "source": [
    "for i in languages:\n",
    "    lan=i.text\n",
    "    lan_used.append(lan)\n",
    "print(lan_used)"
   ]
  },
  {
   "cell_type": "code",
   "execution_count": null,
   "id": "5004ff48",
   "metadata": {},
   "outputs": [],
   "source": [
    "#program6\n",
    "!pip install selenium"
   ]
  },
  {
   "cell_type": "code",
   "execution_count": null,
   "id": "641b3d93",
   "metadata": {},
   "outputs": [],
   "source": [
    "import selenium\n",
    "import pandas as pd\n",
    "from selenium import webdriver\n",
    "import warnings\n",
    "warnings.filterwarnings(\"ignore\")\n",
    "import time\n",
    "from time import sleep\n",
    "from selenium.webdriver.common.keys import Keys\n",
    "from selenium.webdriver.support.ui import WebDriverWait\n",
    "from selenium.common.exceptions import NoSuchElementException\n",
    "import requests\n",
    "from bs4 import BeautifulSoup"
   ]
  },
  {
   "cell_type": "code",
   "execution_count": null,
   "id": "eb7b6741",
   "metadata": {},
   "outputs": [],
   "source": [
    "driver_chrome=webdriver.Chrome(\"chromedriver.exe\")"
   ]
  },
  {
   "cell_type": "code",
   "execution_count": null,
   "id": "3e38d593",
   "metadata": {},
   "outputs": [],
   "source": [
    "time.sleep(4)\n",
    "driver_chrome.get('https://www.billboard.com/')"
   ]
  },
  {
   "cell_type": "code",
   "execution_count": null,
   "id": "21e016cd",
   "metadata": {},
   "outputs": [],
   "source": [
    "driver_chrome.maximize_window()"
   ]
  },
  {
   "cell_type": "code",
   "execution_count": null,
   "id": "c7fb2997",
   "metadata": {},
   "outputs": [],
   "source": [
    "charts_button=driver_chrome.find_element_by_xpath(\"/html/body/div[3]/header/div[1]/div/div/div[2]/div/nav/ul/li[1]/a\")\n",
    "charts_button.click()\n",
    "time.sleep(4)"
   ]
  },
  {
   "cell_type": "code",
   "execution_count": null,
   "id": "d353be6d",
   "metadata": {},
   "outputs": [],
   "source": [
    "hot100_button=driver_chrome.find_element_by_xpath(\"/html/body/div[3]/div[6]/div/div/div/ul/li[1]/ul/li[2]/a\")\n"
   ]
  },
  {
   "cell_type": "code",
   "execution_count": null,
   "id": "41976b37",
   "metadata": {},
   "outputs": [],
   "source": [
    "song_names=[]\n",
    "artist_names=[]\n",
    "last_week_ranks=[]\n",
    "peak_ranks=[]\n",
    "weeks_on_board=[]"
   ]
  },
  {
   "cell_type": "code",
   "execution_count": null,
   "id": "201affdb",
   "metadata": {},
   "outputs": [],
   "source": [
    "url=\"https://www.billboard.com/charts/hot-100/\""
   ]
  },
  {
   "cell_type": "code",
   "execution_count": null,
   "id": "7f81f821",
   "metadata": {},
   "outputs": [],
   "source": [
    "req=requests.get(url)"
   ]
  },
  {
   "cell_type": "code",
   "execution_count": null,
   "id": "7a6f7604",
   "metadata": {},
   "outputs": [],
   "source": [
    "content=BeautifulSoup(req.content)\n",
    "content"
   ]
  },
  {
   "cell_type": "code",
   "execution_count": null,
   "id": "62574289",
   "metadata": {},
   "outputs": [],
   "source": [
    "data=content.find_all('h3',{'class':'c-title  a-no-trucate a-font-primary-bold-s u-letter-spacing-0021 lrv-u-font-size-18@tablet lrv-u-font-size-16 u-line-height-125 u-line-height-normal@mobile-max a-truncate-ellipsis u-max-width-330 u-max-width-230@tablet-only'})"
   ]
  },
  {
   "cell_type": "code",
   "execution_count": null,
   "id": "1beef06b",
   "metadata": {},
   "outputs": [],
   "source": [
    "for i in data:\n",
    "    names=i.find('h3',attrs={'class':'c-title  a-no-trucate a-font-primary-bold-s u-letter-spacing-0021 lrv-u-font-size-18@tablet lrv-u-font-size-16 u-line-height-125 u-line-height-normal@mobile-max a-truncate-ellipsis u-max-width-330 u-max-width-230@tablet-only'})\n",
    "    song_names.append(names.text)\n",
    "    "
   ]
  },
  {
   "cell_type": "code",
   "execution_count": null,
   "id": "8c0eed0b",
   "metadata": {},
   "outputs": [],
   "source": [
    "print(song_names)"
   ]
  },
  {
   "cell_type": "code",
   "execution_count": null,
   "id": "da296f1f",
   "metadata": {},
   "outputs": [],
   "source": [
    "names=driver_chrome.find_elements_by_id(\"//h3[@id='title-of-a-story']\")\n",
    "names"
   ]
  },
  {
   "cell_type": "code",
   "execution_count": null,
   "id": "02ff0429",
   "metadata": {},
   "outputs": [],
   "source": [
    "for i in names:\n",
    "    name=i.text\n",
    "    song_names.append(name)\n",
    "print(song_names)"
   ]
  },
  {
   "cell_type": "code",
   "execution_count": null,
   "id": "3eae1033",
   "metadata": {},
   "outputs": [],
   "source": [
    "ranks=driver_chrome.find_elements_by_xpath(\"//span[@class='c-label  a-font-primary-m lrv-u-padding-tb-050@mobile-max']\")\n",
    "ranks"
   ]
  },
  {
   "cell_type": "code",
   "execution_count": null,
   "id": "f477e878",
   "metadata": {},
   "outputs": [],
   "source": [
    "for i in ranks:\n",
    "    rank=i.text\n",
    "    last_week_ranks.append(rank)\n",
    "print(last_week_ranks)"
   ]
  },
  {
   "cell_type": "code",
   "execution_count": null,
   "id": "323cab55",
   "metadata": {},
   "outputs": [],
   "source": [
    "ranks_p=driver_chrome.find_elements_by_xpath(\"//span[@class='c-label  a-font-primary-m lrv-u-padding-tb-050@mobile-max']\")\n",
    "ranks_p"
   ]
  },
  {
   "cell_type": "code",
   "execution_count": null,
   "id": "6fab9137",
   "metadata": {},
   "outputs": [],
   "source": [
    "for i in ranks_p:\n",
    "    rankp=i.text\n",
    "    peak_ranks.append(rankp)\n",
    "print(peak_ranks)"
   ]
  },
  {
   "cell_type": "code",
   "execution_count": null,
   "id": "5f0a1538",
   "metadata": {},
   "outputs": [],
   "source": [
    "weeks=driver_chrome.find_elements_by_xpath(\"/html/body/div[3]/main/div[2]/div[3]/div/div/div/div[2]/div[3]/ul/li[4]/ul/li[7]/ul/li[5]/span\")\n",
    "weeks"
   ]
  },
  {
   "cell_type": "code",
   "execution_count": null,
   "id": "92184302",
   "metadata": {},
   "outputs": [],
   "source": [
    "for i in weeks:\n",
    "    week=i.text\n",
    "    weeks_on_board.append(week)\n",
    "print(weeks_on_board)"
   ]
  },
  {
   "cell_type": "code",
   "execution_count": null,
   "id": "6a9c943a",
   "metadata": {},
   "outputs": [],
   "source": [
    "#program9\n",
    "!pip install selenium"
   ]
  },
  {
   "cell_type": "code",
   "execution_count": null,
   "id": "efbe8d90",
   "metadata": {},
   "outputs": [],
   "source": [
    "import selenium\n",
    "import pandas as pd\n",
    "from selenium import webdriver\n",
    "import warnings\n",
    "warnings.filterwarnings(\"ignore\")\n",
    "import time\n",
    "from time import sleep\n",
    "from selenium.webdriver.common.keys import Keys\n",
    "from selenium.webdriver.support.ui import WebDriverWait\n",
    "from selenium.common.exceptions import NoSuchElementException\n",
    "import requests\n",
    "from bs4 import BeautifulSoup"
   ]
  },
  {
   "cell_type": "code",
   "execution_count": null,
   "id": "7257993c",
   "metadata": {},
   "outputs": [],
   "source": [
    "driver_chrome=webdriver.Chrome(\"chromedriver.exe\")"
   ]
  },
  {
   "cell_type": "code",
   "execution_count": null,
   "id": "27c23dc6",
   "metadata": {},
   "outputs": [],
   "source": [
    "driver_chrome.get('https://www.imdb.com/list/ls095964455/')"
   ]
  },
  {
   "cell_type": "code",
   "execution_count": null,
   "id": "981f7e19",
   "metadata": {},
   "outputs": [],
   "source": [
    "driver_chrome.maximize_window()"
   ]
  },
  {
   "cell_type": "code",
   "execution_count": null,
   "id": "fcaa1c36",
   "metadata": {},
   "outputs": [],
   "source": [
    "movie_names=[]\n",
    "year_span=[]\n",
    "genre_mov=[]\n",
    "run_time=[]\n",
    "ratings=[]\n",
    "votes=[]"
   ]
  },
  {
   "cell_type": "code",
   "execution_count": null,
   "id": "4133438e",
   "metadata": {},
   "outputs": [],
   "source": [
    "names=driver_chrome.find_elements_by_xpath(\"//h3[@class='lister-item-header']\")\n",
    "names"
   ]
  },
  {
   "cell_type": "code",
   "execution_count": null,
   "id": "b640ea32",
   "metadata": {},
   "outputs": [],
   "source": [
    "for i in names:\n",
    "    name=i.text\n",
    "    movie_names.append(name)\n",
    "print(movie_names)"
   ]
  },
  {
   "cell_type": "code",
   "execution_count": null,
   "id": "7a2180ad",
   "metadata": {},
   "outputs": [],
   "source": [
    "years=driver_chrome.find_elements_by_xpath(\"//span[@class='lister-item-year text-muted unbold']\")\n",
    "years"
   ]
  },
  {
   "cell_type": "code",
   "execution_count": null,
   "id": "ba02bf81",
   "metadata": {},
   "outputs": [],
   "source": [
    "for i in years:\n",
    "    year=i.text\n",
    "    year_span.append(year)\n",
    "print(year_span)"
   ]
  },
  {
   "cell_type": "code",
   "execution_count": null,
   "id": "dc8e3d29",
   "metadata": {},
   "outputs": [],
   "source": [
    "genre=driver_chrome.find_elements_by_xpath(\"//span[@class='genre']\")\n",
    "genre"
   ]
  },
  {
   "cell_type": "code",
   "execution_count": null,
   "id": "21f65720",
   "metadata": {},
   "outputs": [],
   "source": [
    "for i in genre:\n",
    "    gen=i.text\n",
    "    genre_mov.append(gen)\n",
    "print(genre_mov)"
   ]
  },
  {
   "cell_type": "code",
   "execution_count": null,
   "id": "ad9c9231",
   "metadata": {},
   "outputs": [],
   "source": [
    "time=driver_chrome.find_elements_by_xpath(\"//span[@class='runtime']\")\n",
    "time"
   ]
  },
  {
   "cell_type": "code",
   "execution_count": null,
   "id": "db9ca6c0",
   "metadata": {},
   "outputs": [],
   "source": [
    "for i in time:\n",
    "    run=i.text\n",
    "    run_time.append(run)\n",
    "print(run_time)"
   ]
  },
  {
   "cell_type": "code",
   "execution_count": null,
   "id": "83202649",
   "metadata": {},
   "outputs": [],
   "source": [
    "rates=driver_chrome.find_elements_by_xpath(\"//span[@class='ipl-rating-star__rating']\")\n",
    "rates"
   ]
  },
  {
   "cell_type": "code",
   "execution_count": null,
   "id": "234a11fd",
   "metadata": {},
   "outputs": [],
   "source": [
    "for i in rates:\n",
    "    rate=i.text\n",
    "    ratings.append(rate)\n",
    "print(ratings)"
   ]
  },
  {
   "cell_type": "code",
   "execution_count": null,
   "id": "5866181d",
   "metadata": {},
   "outputs": [],
   "source": [
    "vot_mov=driver_chrome.find_elements_by_xpath(\"//span[@class='text-muted']\")\n",
    "vot_mov"
   ]
  },
  {
   "cell_type": "code",
   "execution_count": null,
   "id": "2148c700",
   "metadata": {},
   "outputs": [],
   "source": [
    "for i in vot_mov:\n",
    "    vote=i.text\n",
    "    votes.append(vote)\n",
    "print(votes)"
   ]
  },
  {
   "cell_type": "code",
   "execution_count": null,
   "id": "2fd97b17",
   "metadata": {},
   "outputs": [],
   "source": [
    "#program10\n",
    "!pip install selenium"
   ]
  },
  {
   "cell_type": "code",
   "execution_count": null,
   "id": "85a19d27",
   "metadata": {},
   "outputs": [],
   "source": [
    "import selenium\n",
    "import pandas as pd\n",
    "from selenium import webdriver\n",
    "import warnings\n",
    "warnings.filterwarnings(\"ignore\")\n",
    "import time\n",
    "from time import sleep\n",
    "from selenium.webdriver.common.keys import Keys\n",
    "from selenium.webdriver.support.ui import WebDriverWait\n",
    "from selenium.common.exceptions import NoSuchElementException\n",
    "import requests\n",
    "from bs4 import BeautifulSoup"
   ]
  },
  {
   "cell_type": "code",
   "execution_count": null,
   "id": "ae24b03c",
   "metadata": {},
   "outputs": [],
   "source": [
    "driver_chrome=webdriver.Chrome(\"chromedriver.exe\")"
   ]
  },
  {
   "cell_type": "code",
   "execution_count": null,
   "id": "6852acd7",
   "metadata": {},
   "outputs": [],
   "source": [
    "driver_chrome.get('https://archive.ics.uci.edu/ml/index.php')"
   ]
  },
  {
   "cell_type": "code",
   "execution_count": null,
   "id": "ea214c55",
   "metadata": {},
   "outputs": [],
   "source": [
    "driver_chrome.maximize_window()"
   ]
  },
  {
   "cell_type": "code",
   "execution_count": null,
   "id": "6f5047d1",
   "metadata": {},
   "outputs": [],
   "source": [
    "view_button=driver_chrome.find_element_by_xpath(\"/html/body/table[1]/tbody/tr/td[2]/span[2]/a\")\n",
    "view_button.click()"
   ]
  },
  {
   "cell_type": "code",
   "execution_count": null,
   "id": "c8a74a19",
   "metadata": {},
   "outputs": [],
   "source": [
    "url=\"https://archive.ics.uci.edu/ml/datasets.php\""
   ]
  },
  {
   "cell_type": "code",
   "execution_count": null,
   "id": "d1451fb9",
   "metadata": {},
   "outputs": [],
   "source": [
    "req=requests.get(url)"
   ]
  },
  {
   "cell_type": "code",
   "execution_count": null,
   "id": "baa66df8",
   "metadata": {},
   "outputs": [],
   "source": [
    "content=BeautifulSoup(req.content)\n",
    "content"
   ]
  },
  {
   "cell_type": "code",
   "execution_count": null,
   "id": "c8e9a7b7",
   "metadata": {},
   "outputs": [],
   "source": [
    "data=content.find_all('p',{'class':'normal'})"
   ]
  },
  {
   "cell_type": "code",
   "execution_count": null,
   "id": "c9d90b79",
   "metadata": {},
   "outputs": [],
   "source": [
    "data=driver_chrome.find_elements_by_xpath(\"/html/body/table[2]/tbody/tr/td[2]/table[2]/tbody/tr[2]/td[1]/table/tbody/tr/td[2]/p/b/a\")\n",
    "data"
   ]
  },
  {
   "cell_type": "code",
   "execution_count": null,
   "id": "54ac4d02",
   "metadata": {},
   "outputs": [],
   "source": [
    "data_url=driver_chrome.find_elements_by_xpath(\"//p[@class='normal']\")"
   ]
  },
  {
   "cell_type": "code",
   "execution_count": null,
   "id": "2bd0afdc",
   "metadata": {},
   "outputs": [],
   "source": [
    "for i in data:\n",
    "    rest_link=i.text\n",
    "    data_url.append(rest_link)\n",
    "print(data_url)"
   ]
  },
  {
   "cell_type": "code",
   "execution_count": null,
   "id": "ab12e59c",
   "metadata": {},
   "outputs": [],
   "source": [
    "data_url"
   ]
  },
  {
   "cell_type": "code",
   "execution_count": null,
   "id": "5487bc36",
   "metadata": {},
   "outputs": [],
   "source": [
    "dataset_names=[]\n",
    "dataset_types=[]\n",
    "task_type=[]\n",
    "attribute_types=[]\n",
    "no_of_instances=[]\n",
    "no_of_attributes=[]\n",
    "years=[]\n",
    "all_details"
   ]
  },
  {
   "cell_type": "code",
   "execution_count": null,
   "id": "2760fd8b",
   "metadata": {},
   "outputs": [],
   "source": [
    "names=driver_chrome.find_elements_by_xpath(\"//h2[@class='a-size-mini a-spacing-none a-color-base s-line-clamp-2']\")\n",
    "names"
   ]
  },
  {
   "cell_type": "code",
   "execution_count": null,
   "id": "4eb66be4",
   "metadata": {},
   "outputs": [],
   "source": [
    "for i in names:\n",
    "    name=i.text\n",
    "    dataset_names.append(name)\n",
    "dataset_names"
   ]
  },
  {
   "cell_type": "code",
   "execution_count": null,
   "id": "d78e132a",
   "metadata": {},
   "outputs": [],
   "source": [
    "details=driver_chrome.find_elements_by_xpath(\"//p[@class='normal']\")\n",
    "details"
   ]
  },
  {
   "cell_type": "code",
   "execution_count": null,
   "id": "70a45ccf",
   "metadata": {},
   "outputs": [],
   "source": [
    "for i in details:\n",
    "    de=i.text\n",
    "    all_details.append(de)\n",
    "all_details"
   ]
  },
  {
   "cell_type": "code",
   "execution_count": null,
   "id": "b42eea06",
   "metadata": {},
   "outputs": [],
   "source": [
    "tasks=driver_chrome.find_elements_by_xpath(\"//p[@class='normal']\")\n",
    "tasks"
   ]
  },
  {
   "cell_type": "code",
   "execution_count": null,
   "id": "30cd897e",
   "metadata": {},
   "outputs": [],
   "source": [
    "for i in tasks:\n",
    "    task=i.text\n",
    "    task_type.append(task)\n",
    "task_type"
   ]
  },
  {
   "cell_type": "code",
   "execution_count": null,
   "id": "1c4c0ebe",
   "metadata": {},
   "outputs": [],
   "source": []
  }
 ],
 "metadata": {
  "kernelspec": {
   "display_name": "Python 3 (ipykernel)",
   "language": "python",
   "name": "python3"
  },
  "language_info": {
   "codemirror_mode": {
    "name": "ipython",
    "version": 3
   },
   "file_extension": ".py",
   "mimetype": "text/x-python",
   "name": "python",
   "nbconvert_exporter": "python",
   "pygments_lexer": "ipython3",
   "version": "3.9.12"
  }
 },
 "nbformat": 4,
 "nbformat_minor": 5
}
