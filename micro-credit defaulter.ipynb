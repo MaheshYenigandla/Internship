{
 "cells": [
  {
   "cell_type": "code",
   "execution_count": null,
   "id": "722ed57c",
   "metadata": {},
   "outputs": [],
   "source": [
    "import pandas as pd # for data wrangling purpose\n",
    "import numpy as np # Basic computation library\n",
    "import seaborn as sns # For Visualization \n",
    "import matplotlib.pyplot as plt # ploting package\n",
    "%matplotlib inline\n",
    "import warnings # Filtering warnings\n",
    "warnings.filterwarnings('ignore')"
   ]
  },
  {
   "cell_type": "code",
   "execution_count": null,
   "id": "7fd505c1",
   "metadata": {},
   "outputs": [],
   "source": [
    "df= pd.read_csv('Data file.csv')"
   ]
  },
  {
   "cell_type": "code",
   "execution_count": null,
   "id": "6789612e",
   "metadata": {},
   "outputs": [],
   "source": [
    "print('No. of Rows :',df.shape[0])\n",
    "print('No. of Columns :',df.shape[1])\n",
    "pd.set_option('display.max_columns',None) # # This will enable us to see truncated columns\n",
    "df.head()"
   ]
  },
  {
   "cell_type": "code",
   "execution_count": null,
   "id": "a97d8263",
   "metadata": {},
   "outputs": [],
   "source": [
    "df.columns.to_series().groupby(df.dtypes).groups"
   ]
  },
  {
   "cell_type": "code",
   "execution_count": null,
   "id": "7dab2e37",
   "metadata": {},
   "outputs": [],
   "source": [
    "df.drop(['Unnamed: 0'],axis=1,inplace=True)"
   ]
  },
  {
   "cell_type": "code",
   "execution_count": null,
   "id": "ac7d5799",
   "metadata": {},
   "outputs": [],
   "source": [
    "df['pdate']=pd.to_datetime(df['pdate'])\n",
    "df['Day']=df['pdate'].apply(lambda x:x.day)\n",
    "df['Month']=df['pdate'].apply(lambda x:x.month)\n",
    "df['Year']=df['pdate'].apply(lambda x:x.year)\n",
    "df.head()"
   ]
  },
  {
   "cell_type": "code",
   "execution_count": null,
   "id": "7f6714a1",
   "metadata": {},
   "outputs": [],
   "source": [
    "df.drop(['pdate'],axis=1,inplace=True)"
   ]
  },
  {
   "cell_type": "code",
   "execution_count": null,
   "id": "e40a9ce9",
   "metadata": {},
   "outputs": [],
   "source": [
    "df.drop(['Year'],axis=1,inplace=True)"
   ]
  },
  {
   "cell_type": "code",
   "execution_count": null,
   "id": "2bf94e4a",
   "metadata": {},
   "outputs": [],
   "source": [
    "df.duplicated().sum()\n",
    "df.duplicated('msisdn').sum() "
   ]
  },
  {
   "cell_type": "code",
   "execution_count": null,
   "id": "2d7ebd1c",
   "metadata": {},
   "outputs": [],
   "source": [
    "df.drop_duplicates(keep='last',inplace=True)\n",
    "df.shape"
   ]
  },
  {
   "cell_type": "code",
   "execution_count": null,
   "id": "e9c1c969",
   "metadata": {},
   "outputs": [],
   "source": [
    "df.isin(['NA','N/A','-',' ','?',' ?']).sum().any()"
   ]
  },
  {
   "cell_type": "code",
   "execution_count": null,
   "id": "258d7b49",
   "metadata": {},
   "outputs": [],
   "source": [
    "sns.set_palette('coolwarm')\n",
    "plt.figure(figsize=(10,8))\n",
    "sns.heatmap(df.isnull())\n",
    "plt.show()"
   ]
  },
  {
   "cell_type": "code",
   "execution_count": null,
   "id": "c775c31c",
   "metadata": {},
   "outputs": [],
   "source": [
    "df.describe().T.style.background_gradient(subset=['mean','std','50%','count'], cmap='RdPu')\n"
   ]
  },
  {
   "cell_type": "code",
   "execution_count": null,
   "id": "b876975a",
   "metadata": {},
   "outputs": [],
   "source": [
    "df.describe(include=object)\n"
   ]
  },
  {
   "cell_type": "code",
   "execution_count": null,
   "id": "97185851",
   "metadata": {},
   "outputs": [],
   "source": [
    "df['aon'].describe()\n"
   ]
  },
  {
   "cell_type": "code",
   "execution_count": null,
   "id": "b0a97256",
   "metadata": {},
   "outputs": [],
   "source": [
    "999860/365\n",
    "df[df['aon']<0].value_counts().sum()\n",
    "df[df['aon'] > 3650].value_counts().sum()  # Assume people stay one network for 10 years.\n"
   ]
  },
  {
   "cell_type": "code",
   "execution_count": null,
   "id": "1d9d90ab",
   "metadata": {},
   "outputs": [],
   "source": [
    "df['aon']=abs(df['aon'])\n",
    "df['daily_decr30']=abs(df['daily_decr30'])\n",
    "df['daily_decr90']=abs(df['daily_decr90'])\n",
    "df['rental30']=abs(df['rental30'])\n",
    "df['rental90']=abs(df['rental90'])\n",
    "df['last_rech_date_ma']=abs(df['last_rech_date_ma'])\n",
    "df['last_rech_date_da']=abs(df['last_rech_date_da'])"
   ]
  },
  {
   "cell_type": "code",
   "execution_count": null,
   "id": "c7176800",
   "metadata": {},
   "outputs": [],
   "source": [
    "df['maxamnt_loans30'].describe()"
   ]
  },
  {
   "cell_type": "code",
   "execution_count": null,
   "id": "a34aa139",
   "metadata": {},
   "outputs": [],
   "source": [
    "df.loc[(df['maxamnt_loans30'] != 6.0) & (df['maxamnt_loans30'] != 12.0)\n",
    "       & (df['maxamnt_loans30']!=0.0), 'maxamnt_loans30']=0.0"
   ]
  },
  {
   "cell_type": "code",
   "execution_count": null,
   "id": "7d7d4ace",
   "metadata": {},
   "outputs": [],
   "source": [
    "df['maxamnt_loans30'].value_counts()\n"
   ]
  },
  {
   "cell_type": "code",
   "execution_count": null,
   "id": "ac34ef63",
   "metadata": {},
   "outputs": [],
   "source": [
    "df.to_csv('Clean_data_file.csv',sep=',',index=False)\n"
   ]
  },
  {
   "cell_type": "code",
   "execution_count": null,
   "id": "fff42b1f",
   "metadata": {},
   "outputs": [],
   "source": [
    "df=pd.read_csv('Clean_data_file.csv')\n",
    "print('No. of Rows :',df.shape[0])\n",
    "print('No. of Columns :',df.shape[1])\n",
    "pd.set_option('display.max_columns',None) # # This will enable us to see truncated columns\n",
    "df.head()"
   ]
  },
  {
   "cell_type": "code",
   "execution_count": null,
   "id": "6ee1bc27",
   "metadata": {},
   "outputs": [],
   "source": [
    "plt.rcParams[\"figure.autolayout\"] = True\n",
    "sns.set_palette('husl')\n",
    "f,ax=plt.subplots(1,2,figsize=(12,6))\n",
    "\n",
    "df['label'].value_counts().plot.pie(explode=[0,0.1],autopct='%3.1f%%',\n",
    "                                          textprops ={ 'fontweight': 'bold','fontsize':18}, ax=ax[0],shadow=True)\n",
    "ax[0].set_title('Label Distribution', fontsize=20,fontweight ='bold')\n",
    "ax[0].set_ylabel('')\n",
    "\n",
    "sns.countplot('label',data=df,ax=ax[1])\n",
    "ax[1].set_title('Target Variable Label Distribution',fontsize=18,fontweight ='bold')\n",
    "ax[1].set_xlabel(\"Label Class\",fontsize=18,fontweight ='bold')\n",
    "ax[1].set_ylabel(\"No. of Customer\",fontsize=18,fontweight ='bold')\n",
    "plt.xticks(fontsize=18,fontweight ='bold')\n",
    "plt.show()"
   ]
  },
  {
   "cell_type": "code",
   "execution_count": null,
   "id": "94ce3211",
   "metadata": {},
   "outputs": [],
   "source": [
    "plt.rcParams[\"figure.autolayout\"] = True\n",
    "sns.set_palette('husl')\n",
    "f,ax=plt.subplots(1,2,figsize=(12,6))\n",
    "\n",
    "df['Month'].value_counts().plot.pie(explode=[0,0.05,0.05],autopct='%3.1f%%',\n",
    "                                          textprops ={ 'fontweight': 'bold','fontsize':18}, ax=ax[0],shadow=True)\n",
    "ax[0].set_title('Monthwise Customer Distribution', fontsize=20,fontweight ='bold')\n",
    "ax[0].set_ylabel('')\n",
    "\n",
    "sns.countplot('Month',hue='label',data=df,ax=ax[1])\n",
    "ax[1].set_title('Month Vs Default Distribution',fontsize=18,fontweight ='bold')\n",
    "ax[1].set_xlabel(\"Label-Month\",fontsize=18,fontweight ='bold')\n",
    "ax[1].set_ylabel(\"No. of Customer\",fontsize=18,fontweight ='bold')\n",
    "plt.xticks(fontsize=18,fontweight ='bold')\n",
    "plt.show()"
   ]
  },
  {
   "cell_type": "code",
   "execution_count": null,
   "id": "055a5a90",
   "metadata": {},
   "outputs": [],
   "source": [
    "sns.set_style('whitegrid')\n",
    "plt.figure(figsize=(10,5))\n",
    "sns.countplot(x='Day',data=df,palette='muted',order= df['Day'].value_counts().index)\n",
    "plt.title('Data recorded on the basis of days')\n",
    "plt.xlabel('Days')\n",
    "plt.ylabel('Count of people')\n",
    "plt.show()"
   ]
  },
  {
   "cell_type": "code",
   "execution_count": null,
   "id": "fdd2c77c",
   "metadata": {},
   "outputs": [],
   "source": [
    "#Maximum amount of loan taken by people in last 30 and 90 days\n",
    "plt.figure(figsize = (10,10))\n",
    "plt.subplot(311)\n",
    "sns.countplot(x='maxamnt_loans30',data=df,palette='muted',order=df['maxamnt_loans30'].value_counts().index)\n",
    "plt.title('Maximum amount of loan taken by people in the last 30 days',fontsize=18,fontweight ='bold')\n",
    "plt.xlabel('Loan amount to be paid',fontsize=18,fontweight ='bold')\n",
    "plt.ylabel('No. of Customer',fontsize=18,fontweight ='bold')\n",
    "plt.show()\n",
    "\n",
    "plt.figure(figsize = (10,10))\n",
    "plt.subplot(312)\n",
    "sns.countplot(x='maxamnt_loans90',data=df,palette='Set1',order=df['maxamnt_loans90'].value_counts().index)\n",
    "plt.title('Maximum amount of loan taken by people in the last 90 days',fontsize=18,fontweight ='bold')\n",
    "plt.xlabel('Loan amount to be paid',fontsize=18,fontweight ='bold')\n",
    "plt.ylabel('No. of Customer',fontsize=18,fontweight ='bold')\n",
    "plt.show()\n",
    "print(df['maxamnt_loans30'].value_counts())\n",
    "print('\\n')\n",
    "print(df['maxamnt_loans90'].value_counts())"
   ]
  },
  {
   "cell_type": "code",
   "execution_count": null,
   "id": "de8374cb",
   "metadata": {},
   "outputs": [],
   "source": [
    "plt.figure(figsize=(30,18))\n",
    "pd =sns.countplot(x = \"cnt_loans30\" ,  data=df)\n",
    "for p in pd.patches:\n",
    "    pd.annotate(format(p.get_height(), '.0f'), \n",
    "                   (p.get_x() + p.get_width() / 2., p.get_height()), \n",
    "                   ha = 'center', va = 'center', size=18, xytext = (0, 20), textcoords = 'offset points')\n",
    "plt.xticks(rotation= 90)\n",
    "plt.xlabel(\"Number of Times loans taken by Customer\",fontsize=18,fontweight ='bold')\n",
    "plt.ylabel(\"Count \" ,size=15)\n",
    "plt.title (\"No of loans taken by users in 30 days\" ,fontsize=18,fontweight ='bold')\n",
    "plt.tight_layout()\n",
    "plt.show()"
   ]
  },
  {
   "cell_type": "code",
   "execution_count": null,
   "id": "c2caf74e",
   "metadata": {},
   "outputs": [],
   "source": [
    "plt.figure(figsize=(8,6))\n",
    "pd =sns.countplot(x = \"maxamnt_loans90\" ,  data=df  , hue= 'label')\n",
    "for p in pd.patches:\n",
    "    pd.annotate(format(p.get_height(), '.0f'), \n",
    "                   (p.get_x() + p.get_width() / 2., p.get_height()), \n",
    "                   ha = 'center', va = 'center', size=18, xytext = (0, 10), textcoords = 'offset points')\n",
    "plt.xlabel(\"Amount of loan taken by the user in last 90 days with payback status\",fontsize=15,fontweight ='bold')\n",
    "plt.ylabel(\"Count \" ,size=15)\n",
    "plt.title (\"Customers paid loan amount within 5 days status with label {1:Non-defaulter, 0:defaulter} \"\n",
    "           ,fontsize=15,fontweight ='bold')\n",
    "plt.tight_layout()\n",
    "plt.show()"
   ]
  },
  {
   "cell_type": "code",
   "execution_count": null,
   "id": "c5ac7a60",
   "metadata": {},
   "outputs": [],
   "source": [
    "#Checking the number of loans taken by people in last 30 days vs Amount of loan taken by the people in last 90 days.\n",
    "plt.figure(figsize=(18,8))\n",
    "sns.barplot(x=\"cnt_loans30\",y='amnt_loans30', data=df)\n",
    "plt.title('Number of loans taken by people in the last 30 days vs Amount of loan taken by people in last 30 days',fontsize=18,fontweight ='bold')\n",
    "plt.xlabel('Number of loans taken in 30 days',fontsize=18,fontweight ='bold')\n",
    "plt.ylabel('Amount of loan taken in 30 days',fontsize=18,fontweight ='bold')\n",
    "plt.show()"
   ]
  },
  {
   "cell_type": "code",
   "execution_count": null,
   "id": "ab1cddc9",
   "metadata": {},
   "outputs": [],
   "source": [
    "plt.figure(figsize=(18,8))\n",
    "sns.barplot(x=\"cnt_loans30\",y='payback30',hue='label', data=df)\n",
    "plt.title('maximum number of loans taken vs Average payback time in last 30 days',fontsize=18,fontweight ='bold')\n",
    "plt.xlabel('Number of loans taken in 30 days',fontsize=18,fontweight ='bold')\n",
    "plt.ylabel('Average payback time in days over last 30 days',fontsize=18,fontweight ='bold')\n",
    "plt.show()"
   ]
  },
  {
   "cell_type": "code",
   "execution_count": null,
   "id": "e6292124",
   "metadata": {},
   "outputs": [],
   "source": [
    "plt.figure(figsize=(15,8))\n",
    "sns.catplot(y = \"daily_decr30\", x = \"Day\", data = df.sort_values(\"daily_decr30\", ascending = False),\n",
    "            kind=\"boxen\", height = 4, aspect = 3)\n",
    "plt.show()"
   ]
  },
  {
   "cell_type": "code",
   "execution_count": null,
   "id": "ca36197a",
   "metadata": {},
   "outputs": [],
   "source": [
    "df.columns.to_series().groupby(df.dtypes).groups\n",
    "df.drop(['msisdn', 'pcircle'],axis=1,inplace=True)\n"
   ]
  },
  {
   "cell_type": "code",
   "execution_count": null,
   "id": "cefcaa5e",
   "metadata": {},
   "outputs": [],
   "source": [
    "plt.figure(figsize=(25,35),facecolor='white')\n",
    "plotnumber=1\n",
    "\n",
    "for column in df:\n",
    "    if plotnumber<=36:\n",
    "        ax=plt.subplot(9,4,plotnumber)\n",
    "        sns.boxplot(df[column],color='gold')\n",
    "        plt.xlabel(column,fontsize=20)\n",
    "    plotnumber+=1\n",
    "plt.tight_layout()\n",
    "plt.show()"
   ]
  },
  {
   "cell_type": "code",
   "execution_count": null,
   "id": "e2dba6d2",
   "metadata": {},
   "outputs": [],
   "source": [
    "df1=df.copy()\n"
   ]
  },
  {
   "cell_type": "code",
   "execution_count": null,
   "id": "88420717",
   "metadata": {},
   "outputs": [],
   "source": [
    "from scipy.stats import zscore\n",
    "z = np.abs(zscore(df))\n",
    "threshold = 3\n",
    "df2 = df1[(z<3).all(axis = 1)]\n",
    "\n",
    "print (\"Shape of the dataframe before removing outliers: \", df1.shape)\n",
    "print (\"Shape of the dataframe after removing outliers: \", df2.shape)\n",
    "print (\"Percentage of data loss post outlier removal: \", (df1.shape[0]-df2.shape[0])/df1.shape[0]*100)\n",
    "\n",
    "df1=df2.copy() # reassigning the changed dataframe name to our original dataframe name"
   ]
  },
  {
   "cell_type": "code",
   "execution_count": null,
   "id": "c86ab1ed",
   "metadata": {},
   "outputs": [],
   "source": [
    "df.shape"
   ]
  },
  {
   "cell_type": "code",
   "execution_count": null,
   "id": "f5b81493",
   "metadata": {},
   "outputs": [],
   "source": [
    "df1=df.copy()\n",
    "Q1 = df1.quantile(0)\n",
    "Q3= df1.quantile(0.99)\n",
    "IQR = Q3 - Q1\n",
    "print(IQR)"
   ]
  },
  {
   "cell_type": "code",
   "execution_count": null,
   "id": "a7aa2304",
   "metadata": {},
   "outputs": [],
   "source": [
    "data = df1[~((df1 < (Q1 - 1.5 * IQR)) |(df1 > (Q3 + 1.5 * IQR))).any(axis=1)]\n",
    "print(data.shape)"
   ]
  },
  {
   "cell_type": "code",
   "execution_count": null,
   "id": "abddd019",
   "metadata": {},
   "outputs": [],
   "source": [
    "print(\"\\033[1m\"+'Percentage Data Loss :'+\"\\033[0m\",((209592-198174)/209592)*100,'%')\n"
   ]
  },
  {
   "cell_type": "code",
   "execution_count": null,
   "id": "08220971",
   "metadata": {},
   "outputs": [],
   "source": [
    "plt.figure(figsize=(25,35),facecolor='white')\n",
    "plotnumber=1\n",
    "sns.set_palette('mako')\n",
    "for column in data:\n",
    "    if plotnumber<=36:\n",
    "        ax=plt.subplot(9,4,plotnumber)\n",
    "        sns.distplot(data[column])\n",
    "        plt.xlabel(column,fontsize=20)\n",
    "    plotnumber+=1\n",
    "plt.tight_layout()\n",
    "plt.show()"
   ]
  },
  {
   "cell_type": "code",
   "execution_count": null,
   "id": "1da2737f",
   "metadata": {},
   "outputs": [],
   "source": [
    "data.skew()"
   ]
  },
  {
   "cell_type": "code",
   "execution_count": null,
   "id": "4a2d98ac",
   "metadata": {},
   "outputs": [],
   "source": [
    "df.columns\n"
   ]
  },
  {
   "cell_type": "code",
   "execution_count": null,
   "id": "f9626509",
   "metadata": {},
   "outputs": [],
   "source": [
    "data.drop(['fr_da_rech30'],axis=1,inplace=True)\n",
    "data.drop(['fr_da_rech90'],axis=1,inplace=True)\n"
   ]
  },
  {
   "cell_type": "code",
   "execution_count": null,
   "id": "f9fcdfd6",
   "metadata": {},
   "outputs": [],
   "source": [
    "skew_fea=['aon','daily_decr30', 'daily_decr90', 'rental30','rental90','last_rech_date_ma', 'last_rech_date_da',\n",
    "          'last_rech_amt_ma','cnt_ma_rech30', 'fr_ma_rech30', 'sumamnt_ma_rech30','medianamnt_ma_rech30', \n",
    "          'medianmarechprebal30', 'cnt_ma_rech90','fr_ma_rech90', 'sumamnt_ma_rech90', 'medianamnt_ma_rech90',\n",
    "          'medianmarechprebal90', 'cnt_da_rech30','cnt_da_rech90', 'cnt_loans30', 'amnt_loans30',\n",
    "          'maxamnt_loans30', 'medianamnt_loans30', 'cnt_loans90', 'amnt_loans90',\n",
    "          'maxamnt_loans90','medianamnt_loans90', 'payback30', 'payback90']"
   ]
  },
  {
   "cell_type": "code",
   "execution_count": null,
   "id": "9b3c9c47",
   "metadata": {},
   "outputs": [],
   "source": [
    "from sklearn.preprocessing import PowerTransformer\n",
    "scaler = PowerTransformer(method='yeo-johnson')"
   ]
  },
  {
   "cell_type": "code",
   "execution_count": null,
   "id": "83f7a78d",
   "metadata": {},
   "outputs": [],
   "source": [
    "data[skew_fea] = scaler.fit_transform(data[skew_fea].values)\n"
   ]
  },
  {
   "cell_type": "code",
   "execution_count": null,
   "id": "cdb7667f",
   "metadata": {},
   "outputs": [],
   "source": [
    "data.skew()\n"
   ]
  },
  {
   "cell_type": "code",
   "execution_count": null,
   "id": "ce4012ea",
   "metadata": {},
   "outputs": [],
   "source": [
    "data.corr()\n"
   ]
  },
  {
   "cell_type": "code",
   "execution_count": null,
   "id": "92dc6713",
   "metadata": {},
   "outputs": [],
   "source": [
    "plt.figure(figsize=(25,20))\n",
    "sns.heatmap(data.corr(),linecolor='black', vmin=-1, vmax=1, annot=True, square=True, fmt='0.3f', \n",
    "            annot_kws={'size':10}, cmap=\"rainbow\")\n",
    "plt.xticks(fontsize=12)\n",
    "plt.yticks(fontsize=12)\n",
    "plt.show()"
   ]
  },
  {
   "cell_type": "code",
   "execution_count": null,
   "id": "54584b16",
   "metadata": {},
   "outputs": [],
   "source": [
    "plt.figure(figsize = (24,8))\n",
    "data.corr()['label'].drop(['label']).sort_values(ascending=False).plot(kind='bar',cmap = 'spring')\n",
    "plt.xlabel('Features',fontsize=15,fontweight='bold')\n",
    "plt.ylabel('label',fontsize=15,fontweight='bold')\n",
    "plt.title('Correlation of features with Target Variable label',fontsize = 20,fontweight='bold')\n",
    "plt.show()"
   ]
  },
  {
   "cell_type": "code",
   "execution_count": null,
   "id": "94f2bf32",
   "metadata": {},
   "outputs": [],
   "source": [
    "# Splitting data in target and dependent feature\n",
    "X = data.drop(['label'], axis =1)\n",
    "Y = data['label']"
   ]
  },
  {
   "cell_type": "code",
   "execution_count": null,
   "id": "3ad81ec3",
   "metadata": {},
   "outputs": [],
   "source": [
    "from sklearn.preprocessing import StandardScaler\n",
    "scaler= StandardScaler()\n",
    "X_scale = scaler.fit_transform(X)"
   ]
  },
  {
   "cell_type": "code",
   "execution_count": null,
   "id": "8924f99d",
   "metadata": {},
   "outputs": [],
   "source": [
    "data.label.value_counts()\n"
   ]
  },
  {
   "cell_type": "code",
   "execution_count": null,
   "id": "ca034a9c",
   "metadata": {},
   "outputs": [],
   "source": [
    "from imblearn.over_sampling import SMOTE\n",
    "df.shape"
   ]
  },
  {
   "cell_type": "code",
   "execution_count": null,
   "id": "efc604f7",
   "metadata": {},
   "outputs": [],
   "source": [
    "# Oversampleing using SMOTE Techniques\n",
    "oversample = SMOTE()\n",
    "X_scale, Y = oversample.fit_resample(X_scale, Y)"
   ]
  },
  {
   "cell_type": "code",
   "execution_count": null,
   "id": "db6253f2",
   "metadata": {},
   "outputs": [],
   "source": [
    "Y.value_counts()\n"
   ]
  },
  {
   "cell_type": "code",
   "execution_count": null,
   "id": "c0d491cd",
   "metadata": {},
   "outputs": [],
   "source": [
    "from statsmodels.stats.outliers_influence import variance_inflation_factor\n",
    "vif = pd.DataFrame()\n",
    "vif[\"VIF values\"] = [variance_inflation_factor(X_scale,i) for i in range(len(X.columns))]\n",
    "vif[\"Features\"] = X.columns\n",
    "vif"
   ]
  },
  {
   "cell_type": "code",
   "execution_count": null,
   "id": "2a67b0e4",
   "metadata": {},
   "outputs": [],
   "source": [
    "#plot the graph to find the principal components\n",
    "from sklearn.decomposition import PCA\n",
    "pca =PCA()\n",
    "x_pca =pca.fit_transform(X_scale)\n",
    "plt.figure(figsize=(10,10))\n",
    "plt.plot(np.cumsum(pca.explained_variance_ratio_), 'bo-')\n",
    "plt.xlabel('Number of components')\n",
    "plt.ylabel('Variance %')\n",
    "plt.title('Explained Variance Ratio')\n",
    "plt.grid()\n",
    "plt.show()"
   ]
  },
  {
   "cell_type": "code",
   "execution_count": null,
   "id": "282e3430",
   "metadata": {},
   "outputs": [],
   "source": [
    "pca_new = PCA(n_components=11)\n",
    "x_new = pca_new.fit_transform(X_scale)"
   ]
  },
  {
   "cell_type": "code",
   "execution_count": null,
   "id": "dcd0cc2d",
   "metadata": {},
   "outputs": [],
   "source": [
    "principle_x=pd.DataFrame(x_new,columns=np.arange(11))\n"
   ]
  },
  {
   "cell_type": "code",
   "execution_count": null,
   "id": "71632755",
   "metadata": {},
   "outputs": [],
   "source": [
    "from sklearn.model_selection import train_test_split\n",
    "from sklearn.linear_model import LogisticRegression\n",
    "from sklearn.naive_bayes import GaussianNB\n",
    "from sklearn.svm import SVC\n",
    "from sklearn.tree import DecisionTreeClassifier\n",
    "from sklearn.neighbors import KNeighborsClassifier\n",
    "from sklearn.ensemble import RandomForestClassifier\n",
    "from sklearn.ensemble import ExtraTreesClassifier\n",
    "from sklearn.neighbors import KNeighborsClassifier\n",
    "from sklearn.metrics import accuracy_score, confusion_matrix,classification_report,f1_score"
   ]
  },
  {
   "cell_type": "code",
   "execution_count": null,
   "id": "a25ed01f",
   "metadata": {},
   "outputs": [],
   "source": [
    "X_train, X_test, Y_train, Y_test = train_test_split(principle_x, Y, random_state=99, test_size=.33)\n",
    "print('Training feature matrix size:',X_train.shape)\n",
    "print('Training target vector size:',Y_train.shape)\n",
    "print('Test feature matrix size:',X_test.shape)\n",
    "print('Test target vector size:',Y_test.shape)"
   ]
  },
  {
   "cell_type": "code",
   "execution_count": null,
   "id": "ae1f98c4",
   "metadata": {},
   "outputs": [],
   "source": [
    "X_train, X_test, Y_train, Y_test = train_test_split(principle_x, Y, random_state=62, test_size=.33)\n",
    "log_reg=LogisticRegression()\n",
    "log_reg.fit(X_train,Y_train)\n",
    "y_pred=log_reg.predict(X_test)\n",
    "print('\\033[1m'+'Logistics Regression Evaluation'+'\\033[0m')\n",
    "print('\\n')\n",
    "print('\\033[1m'+'Accuracy Score of Logistics Regression :'+'\\033[0m', accuracy_score(Y_test, y_pred))\n",
    "print('\\n')\n",
    "print('\\033[1m'+'Confusion matrix of Logistics Regression :'+'\\033[0m \\n',confusion_matrix(Y_test, y_pred))\n",
    "print('\\n')\n",
    "print('\\033[1m'+'classification Report of Logistics Regression'+'\\033[0m \\n',classification_report(Y_test, y_pred))"
   ]
  },
  {
   "cell_type": "code",
   "execution_count": null,
   "id": "9b4bea8d",
   "metadata": {},
   "outputs": [],
   "source": [
    "from sklearn.model_selection import cross_val_score\n",
    "CVscore = cross_val_score(log_reg, principle_x, Y, cv =5)\n",
    "print('\\033[1m'+'Cross Validation Score', log_reg, ':'+'\\033[0m\\n')\n",
    "print(\"CVScore :\" ,CVscore)\n",
    "print(\"Mean CV Score :\",CVscore.mean())\n",
    "print(\"Std deviation :\",CVscore.std())"
   ]
  },
  {
   "cell_type": "code",
   "execution_count": null,
   "id": "0a188648",
   "metadata": {},
   "outputs": [],
   "source": [
    "from sklearn.metrics import roc_auc_score\n",
    "from sklearn.metrics import roc_curve\n",
    "from sklearn.metrics import plot_roc_curve\n",
    "disp = plot_roc_curve(log_reg,X_test,Y_test)   \n",
    "plt.legend(prop={'size':11}, loc='lower right')\n",
    "plt.title('AOC ROC Curve ',fontsize=20,fontweight='bold')\n",
    "plt.show()\n",
    "auc_score = roc_auc_score(Y_test, log_reg.predict(X_test))\n",
    "print('\\033[1m'+'Auc Score :'+'\\033[0m\\n',auc_score)"
   ]
  },
  {
   "cell_type": "code",
   "execution_count": null,
   "id": "16d88ad9",
   "metadata": {},
   "outputs": [],
   "source": [
    "X_train, X_test, Y_train, Y_test = train_test_split(principle_x, Y, random_state=62, test_size=.33)\n",
    "dtc=DecisionTreeClassifier()\n",
    "dtc.fit(X_train,Y_train)\n",
    "y_pred=dtc.predict(X_test)\n",
    "print('\\033[1m'+'Decision Tree Classifier Evaluation'+'\\033[0m')\n",
    "print('\\n')\n",
    "print('\\033[1m'+'Accuracy Score of Decision Tree Classifier :'+'\\033[0m', accuracy_score(Y_test, y_pred))\n",
    "print('\\n')\n",
    "print('\\033[1m'+'Confusion matrix of Decision Tree Classifier :'+'\\033[0m \\n',confusion_matrix(Y_test, y_pred))\n",
    "print('\\n')\n",
    "print('\\033[1m'+'classification Report of Decision Tree Classifier'+'\\033[0m \\n',classification_report(Y_test, y_pred))"
   ]
  },
  {
   "cell_type": "code",
   "execution_count": null,
   "id": "5c6ccb5a",
   "metadata": {},
   "outputs": [],
   "source": [
    "from sklearn.model_selection import cross_val_score\n",
    "CVscore = cross_val_score(dtc, principle_x, Y, cv =5)\n",
    "print('\\033[1m'+'Cross Validation Score', dtc, ':'+'\\033[0m\\n')\n",
    "print(\"CVScore :\" ,CVscore)\n",
    "print(\"Mean CV Score :\",CVscore.mean())\n",
    "print(\"Std deviation :\",CVscore.std())"
   ]
  },
  {
   "cell_type": "code",
   "execution_count": null,
   "id": "2dbfeabe",
   "metadata": {},
   "outputs": [],
   "source": [
    "from sklearn.metrics import roc_auc_score\n",
    "from sklearn.metrics import roc_curve\n",
    "from sklearn.metrics import plot_roc_curve\n",
    "disp = plot_roc_curve(dtc,X_test,Y_test)   \n",
    "plt.legend(prop={'size':11}, loc='lower right')\n",
    "plt.title('AOC ROC Curve ',fontsize=20,fontweight='bold')\n",
    "plt.show()\n",
    "auc_score = roc_auc_score(Y_test, dtc.predict(X_test))\n",
    "print('\\033[1m'+'Auc Score :'+'\\033[0m\\n',auc_score)"
   ]
  },
  {
   "cell_type": "code",
   "execution_count": null,
   "id": "f8d9d0af",
   "metadata": {},
   "outputs": [],
   "source": [
    "X_train, X_test, Y_train, Y_test = train_test_split(principle_x, Y, random_state=62, test_size=.33)\n",
    "rfc=RandomForestClassifier()\n",
    "rfc.fit(X_train,Y_train)\n",
    "y_pred=rfc.predict(X_test)\n",
    "print('\\033[1m'+'Random Forest Classifier Evaluation'+'\\033[0m')\n",
    "print('\\n')\n",
    "print('\\033[1m'+'Accuracy Score of Random Forest Classifier :'+'\\033[0m', accuracy_score(Y_test, y_pred))\n",
    "print('\\n')\n",
    "print('\\033[1m'+'Confusion matrix of Random Forest Classifier :'+'\\033[0m \\n',confusion_matrix(Y_test, y_pred))\n",
    "print('\\n')\n",
    "print('\\033[1m'+'classification Report of Random Forest Classifier'+'\\033[0m \\n',classification_report(Y_test, y_pred))"
   ]
  },
  {
   "cell_type": "code",
   "execution_count": null,
   "id": "c403c2db",
   "metadata": {},
   "outputs": [],
   "source": [
    "from sklearn.model_selection import cross_val_score\n",
    "CVscore = cross_val_score(rfc, principle_x, Y, cv =5)\n",
    "print('\\033[1m'+'Cross Validation Score', rfc, ':'+'\\033[0m\\n')\n",
    "print(\"CVScore :\" ,CVscore)\n",
    "print(\"Mean CV Score :\",CVscore.mean())\n",
    "print(\"Std deviation :\",CVscore.std())"
   ]
  },
  {
   "cell_type": "code",
   "execution_count": null,
   "id": "bb164be4",
   "metadata": {},
   "outputs": [],
   "source": [
    "from sklearn.metrics import roc_auc_score\n",
    "from sklearn.metrics import roc_curve\n",
    "from sklearn.metrics import plot_roc_curve\n",
    "disp = plot_roc_curve(rfc,X_test,Y_test)   \n",
    "plt.legend(prop={'size':11}, loc='lower right')\n",
    "plt.title('AOC ROC Curve ',fontsize=20,fontweight='bold')\n",
    "plt.show()\n",
    "auc_score = roc_auc_score(Y_test, rfc.predict(X_test))\n",
    "print('\\033[1m'+'Auc Score :'+'\\033[0m\\n',auc_score)"
   ]
  },
  {
   "cell_type": "code",
   "execution_count": null,
   "id": "acd30a3d",
   "metadata": {},
   "outputs": [],
   "source": [
    "X_train, X_test, Y_train, Y_test = train_test_split(principle_x, Y, random_state=62, test_size=.33)\n",
    "etc=ExtraTreesClassifier()\n",
    "etc.fit(X_train,Y_train)\n",
    "y_pred=etc.predict(X_test)\n",
    "print('\\033[1m'+'Extra Trees Classifier Evaluation'+'\\033[0m')\n",
    "print('\\n')\n",
    "print('\\033[1m'+'Accuracy Score of Extra Trees Classifier :'+'\\033[0m', accuracy_score(Y_test, y_pred))\n",
    "print('\\n')\n",
    "print('\\033[1m'+'Confusion matrix of Extra Trees Classifier :'+'\\033[0m \\n',confusion_matrix(Y_test, y_pred))\n",
    "print('\\n')\n",
    "print('\\033[1m'+'classification Report of Extra Trees Classifier'+'\\033[0m \\n',classification_report(Y_test, y_pred))"
   ]
  },
  {
   "cell_type": "code",
   "execution_count": null,
   "id": "775c0cfb",
   "metadata": {},
   "outputs": [],
   "source": [
    "from sklearn.model_selection import cross_val_score\n",
    "CVscore = cross_val_score(etc, principle_x, Y, cv =5)\n",
    "print('\\033[1m'+'Cross Validation Score', etc, ':'+'\\033[0m\\n')\n",
    "print(\"CVScore :\" ,CVscore)\n",
    "print(\"Mean CV Score :\",CVscore.mean())\n",
    "print(\"Std deviation :\",CVscore.std())"
   ]
  },
  {
   "cell_type": "code",
   "execution_count": null,
   "id": "e4172945",
   "metadata": {},
   "outputs": [],
   "source": [
    "from sklearn.metrics import roc_auc_score\n",
    "from sklearn.metrics import roc_curve\n",
    "from sklearn.metrics import plot_roc_curve\n",
    "disp = plot_roc_curve(etc,X_test,Y_test)   \n",
    "plt.legend(prop={'size':11}, loc='lower right')\n",
    "plt.title('AOC ROC Curve ',fontsize=20,fontweight='bold')\n",
    "plt.show()\n",
    "auc_score = roc_auc_score(Y_test, etc.predict(X_test))\n",
    "print('\\033[1m'+'Auc Score :'+'\\033[0m\\n',auc_score)"
   ]
  },
  {
   "cell_type": "code",
   "execution_count": null,
   "id": "83d652e8",
   "metadata": {},
   "outputs": [],
   "source": [
    "from sklearn.model_selection import GridSearchCV\n",
    "parameter= {'criterion' : ['gini', 'entropy'],\n",
    "             'max_features':['auto','sqrt','log2'] }"
   ]
  },
  {
   "cell_type": "code",
   "execution_count": null,
   "id": "cb7f0248",
   "metadata": {},
   "outputs": [],
   "source": [
    "GCV = GridSearchCV(ExtraTreesClassifier(),parameter,verbose=10)\n",
    "GCV.fit(X_train,Y_train)"
   ]
  },
  {
   "cell_type": "code",
   "execution_count": null,
   "id": "265e7120",
   "metadata": {},
   "outputs": [],
   "source": [
    "GCV.best_params_"
   ]
  },
  {
   "cell_type": "code",
   "execution_count": null,
   "id": "3d24f90a",
   "metadata": {},
   "outputs": [],
   "source": [
    "X_train, X_test, Y_train, Y_test = train_test_split(principle_x, Y, random_state=62, test_size=.33)\n",
    "etc=ExtraTreesClassifier(criterion='gini', max_features = 'auto')\n",
    "etc.fit(X_train,Y_train)\n",
    "y_pred=etc.predict(X_test)\n",
    "print('\\033[1m'+'Extra Trees Classifier Evaluation'+'\\033[0m')\n",
    "print('\\n')\n",
    "print('\\033[1m'+'Accuracy Score of Extra Trees Classifier :'+'\\033[0m', accuracy_score(Y_test, y_pred))\n",
    "print('\\n')\n",
    "print('\\033[1m'+'Confusion matrix of Extra Trees Classifier :'+'\\033[0m \\n',confusion_matrix(Y_test, y_pred))\n",
    "print('\\n')\n",
    "print('\\033[1m'+'classification Report of Extra Trees Classifier'+'\\033[0m \\n',classification_report(Y_test, y_pred))"
   ]
  },
  {
   "cell_type": "code",
   "execution_count": null,
   "id": "dc110831",
   "metadata": {},
   "outputs": [],
   "source": [
    "from sklearn.model_selection import cross_val_score\n",
    "CVscore = cross_val_score(etc, principle_x, Y, cv =5)\n",
    "print('\\033[1m'+'Cross Validation Score', etc, ':'+'\\033[0m\\n')\n",
    "print(\"CVScore :\" ,CVscore)\n",
    "print(\"Mean CV Score :\",CVscore.mean())\n",
    "print(\"Std deviation :\",CVscore.std())"
   ]
  },
  {
   "cell_type": "code",
   "execution_count": null,
   "id": "97e17824",
   "metadata": {},
   "outputs": [],
   "source": [
    "from sklearn.metrics import roc_auc_score\n",
    "from sklearn.metrics import roc_curve\n",
    "from sklearn.metrics import plot_roc_curve\n",
    "disp = plot_roc_curve(etc,X_test,Y_test)   \n",
    "plt.legend(prop={'size':11}, loc='lower right')\n",
    "plt.title('AOC ROC Curve of Final Model',fontsize=20,fontweight='bold')\n",
    "plt.show()\n",
    "auc_score = roc_auc_score(Y_test, etc.predict(X_test))\n",
    "print('\\033[1m'+'Auc Score :'+'\\033[0m\\n',auc_score)"
   ]
  },
  {
   "cell_type": "code",
   "execution_count": null,
   "id": "df4f69e1",
   "metadata": {},
   "outputs": [],
   "source": [
    "import joblib\n",
    "joblib.dump(etc,'Micro_Credit_Defaulter_Final.pkl')"
   ]
  },
  {
   "cell_type": "code",
   "execution_count": null,
   "id": "8f6bdd68",
   "metadata": {},
   "outputs": [],
   "source": [
    "prediction = etc.predict(X_test)\n"
   ]
  },
  {
   "cell_type": "code",
   "execution_count": null,
   "id": "ca0d46d0",
   "metadata": {},
   "outputs": [],
   "source": [
    "Actual = np.array(Y_test)\n",
    "df_Pred = pd.DataFrame()\n",
    "df_Pred[\"Predicted Values\"] = prediction\n",
    "df_Pred[\"Actual Values\"] = Actual\n",
    "df_Pred"
   ]
  },
  {
   "cell_type": "code",
   "execution_count": null,
   "id": "4190ba73",
   "metadata": {},
   "outputs": [],
   "source": []
  }
 ],
 "metadata": {
  "kernelspec": {
   "display_name": "Python 3 (ipykernel)",
   "language": "python",
   "name": "python3"
  },
  "language_info": {
   "codemirror_mode": {
    "name": "ipython",
    "version": 3
   },
   "file_extension": ".py",
   "mimetype": "text/x-python",
   "name": "python",
   "nbconvert_exporter": "python",
   "pygments_lexer": "ipython3",
   "version": "3.9.12"
  }
 },
 "nbformat": 4,
 "nbformat_minor": 5
}
