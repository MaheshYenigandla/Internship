{
 "cells": [
  {
   "cell_type": "code",
   "execution_count": null,
   "id": "fce8d66a",
   "metadata": {},
   "outputs": [],
   "source": [
    "#Importing warning library to avoid any warnings\n",
    "import pandas as pd # for data wrangling purpose\n",
    "import numpy as np # Basic computation library\n",
    "import seaborn as sns # For Visualization \n",
    "import matplotlib.pyplot as plt # ploting package\n",
    "%matplotlib inline\n",
    "import warnings # Filtering warnings\n",
    "warnings.filterwarnings('ignore')"
   ]
  },
  {
   "cell_type": "code",
   "execution_count": null,
   "id": "ab966b08",
   "metadata": {},
   "outputs": [],
   "source": [
    "# Importing dataset excel file using pandas.\n",
    "df=pd.read_csv('Rating_Prediction_dataset.csv') "
   ]
  },
  {
   "cell_type": "code",
   "execution_count": null,
   "id": "b8423215",
   "metadata": {},
   "outputs": [],
   "source": [
    "print('No. of Rows :',df.shape[0])\n",
    "print('No. of Columns :',df.shape[1])\n",
    "pd.set_option('display.max_columns',None) # # This will enable us to see truncated columns\n",
    "df.head()"
   ]
  },
  {
   "cell_type": "code",
   "execution_count": null,
   "id": "b10322ed",
   "metadata": {},
   "outputs": [],
   "source": [
    "df.drop('Unnamed: 0',axis=1,inplace=True)"
   ]
  },
  {
   "cell_type": "code",
   "execution_count": null,
   "id": "f2d83db7",
   "metadata": {},
   "outputs": [],
   "source": [
    "df.info"
   ]
  },
  {
   "cell_type": "code",
   "execution_count": null,
   "id": "d56ca145",
   "metadata": {},
   "outputs": [],
   "source": [
    "plt.figure(figsize=(10,7))\n",
    "sns.heatmap(df.isnull(),cmap=\"cool_r\")\n",
    "plt.show()\n",
    "df.isnull().sum()"
   ]
  },
  {
   "cell_type": "code",
   "execution_count": null,
   "id": "48275c8f",
   "metadata": {},
   "outputs": [],
   "source": [
    "df['Product_Review'].fillna('Review Not Available',inplace=True)\n",
    "df.isnull().sum().any()  #Checking after filling them\n"
   ]
  },
  {
   "cell_type": "code",
   "execution_count": null,
   "id": "51b70d59",
   "metadata": {},
   "outputs": [],
   "source": [
    "# Pie & Count plot of Ratings\n",
    "plt.rcParams[\"figure.autolayout\"] = True\n",
    "sns.set_palette('Set2_r')\n",
    "f,ax=plt.subplots(1,2,figsize=(15,7))\n",
    "df['Ratings'].value_counts().plot.pie(autopct='%2.1f%%',\n",
    "                                textprops ={'fontsize':16 ,'fontweight' :'bold'}, ax=ax[0],shadow=True)\n",
    "ax[0].set_title('Ratings Pie Chart', fontsize=20,fontweight ='bold')\n",
    "ax[0].set_ylabel('')\n",
    "sns.countplot('Ratings',data=df,ax=ax[1])\n",
    "ax[1].set_title('Ratings Distribution',fontsize=18,fontweight ='bold')\n",
    "ax[1].set_xlabel(\"Ratings\",fontsize=18,fontweight ='bold')\n",
    "ax[1].set_ylabel(\"No. of Review\",fontsize=18,fontweight ='bold')\n",
    "plt.xticks(fontsize=18,fontweight ='bold')\n",
    "plt.tight_layout()\n",
    "plt.show()\n",
    "print('Value Counts of Rating:')\n",
    "df['Ratings'].value_counts()"
   ]
  },
  {
   "cell_type": "code",
   "execution_count": null,
   "id": "f9142a3a",
   "metadata": {},
   "outputs": [],
   "source": [
    "print(\"Average rating given by users is \" + str(df['Ratings'].mean()))\n"
   ]
  },
  {
   "cell_type": "code",
   "execution_count": null,
   "id": "a78e4ad2",
   "metadata": {},
   "outputs": [],
   "source": [
    "!pip install wordcloud\n"
   ]
  },
  {
   "cell_type": "code",
   "execution_count": null,
   "id": "6f2edc6e",
   "metadata": {},
   "outputs": [],
   "source": [
    "#Importing required libraries\n",
    "import re \n",
    "import string\n",
    "import nltk\n",
    "from nltk.corpus import stopwords\n",
    "from nltk.tokenize import word_tokenize\n",
    "from nltk.stem import SnowballStemmer, WordNetLemmatizer\n",
    "from sklearn.feature_extraction.text import CountVectorizer, TfidfVectorizer\n",
    "from wordcloud import WordCloud"
   ]
  },
  {
   "cell_type": "code",
   "execution_count": null,
   "id": "df36a827",
   "metadata": {},
   "outputs": [],
   "source": [
    "def clean_text(df, df_column_name):\n",
    "    \n",
    "    #Converting all messages to lowercase\n",
    "    df[df_column_name] = df[df_column_name].str.lower()\n",
    "\n",
    "    #Replace email addresses with 'email'\n",
    "    df[df_column_name] = df[df_column_name].str.replace(r'^.+@[^\\.].*\\.[a-z]{2,}$','emailaddress')\n",
    "\n",
    "    #Replace URLs with 'webaddress'\n",
    "    df[df_column_name] = df[df_column_name].str.replace(r'^http\\://[a-zA-Z0-9\\-\\.]+\\.[a-zA-Z]{2,3}(/\\S*)?$','webaddress')\n",
    "\n",
    "    #Replace money symbols with 'dollars' (£ can by typed with ALT key + 156)\n",
    "    df[df_column_name] = df[df_column_name].str.replace(r'£|\\$', 'dollars')\n",
    "      \n",
    "    #Replace 10 digit phone numbers (formats include paranthesis, spaces, no spaces, dashes) with 'phonenumber'\n",
    "    df[df_column_name] = df[df_column_name].str.replace(r'^\\(?[\\d]{3}\\)?[\\s-]?[\\d]{3}[\\s-]?[\\d]{4}$','phonenumber')\n",
    "    \n",
    "    #Replace numbers with 'numbr'\n",
    "    df[df_column_name] = df[df_column_name].str.replace(r'\\d+(\\.\\d+)?', 'numbr')\n",
    "\n",
    "    #Remove punctuation\n",
    "    df[df_column_name] = df[df_column_name].str.replace(r'[^\\w\\d\\s]', ' ')\n",
    "\n",
    "    #Replace whitespace between terms with a single space\n",
    "    df[df_column_name] = df[df_column_name].str.replace(r'\\s+', ' ')\n",
    "\n",
    "    #Remove leading and trailing whitespace\n",
    "    df[df_column_name] = df[df_column_name].str.replace(r'^\\s+|\\s+?$', '')\n",
    "    \n",
    "    #Remove stopwords\n",
    "    stop_words = set(stopwords.words('english') + ['u', 'ü', 'â', 'ur', '4', '2', 'im', 'dont', 'doin', 'ure'])\n",
    "    df[df_column_name] = df[df_column_name].apply(lambda x: ' '.join(term for term in x.split() if term not in stop_words))"
   ]
  },
  {
   "cell_type": "code",
   "execution_count": null,
   "id": "a8962571",
   "metadata": {},
   "outputs": [],
   "source": [
    "#Calling the class\n",
    "clean_text(df, 'Product_Review')\n",
    "df['Product_Review'].tail(3)"
   ]
  },
  {
   "cell_type": "code",
   "execution_count": null,
   "id": "b6985d46",
   "metadata": {},
   "outputs": [],
   "source": [
    "df['Product_Review'].tail(3)"
   ]
  },
  {
   "cell_type": "code",
   "execution_count": null,
   "id": "a2939795",
   "metadata": {},
   "outputs": [],
   "source": [
    "#Tokenizing the data using RegexpTokenizer\n",
    "from nltk.tokenize import RegexpTokenizer\n",
    "tokenizer=RegexpTokenizer(r'\\w+')\n",
    "df['Product_Review'] = df['Product_Review'].apply(lambda x: tokenizer.tokenize(x.lower()))\n",
    "df.head()"
   ]
  },
  {
   "cell_type": "code",
   "execution_count": null,
   "id": "1c5535f5",
   "metadata": {},
   "outputs": [],
   "source": [
    "# Lemmatizing and then Stemming with Snowball to get root words and further reducing characters\n",
    "stemmer = SnowballStemmer(\"english\")\n",
    "import gensim\n",
    "def lemmatize_stemming(text):\n",
    "    return stemmer.stem(WordNetLemmatizer().lemmatize(text,pos='v'))\n",
    "\n",
    "#Tokenize and Lemmatize\n",
    "def preprocess(text):\n",
    "    result=[]\n",
    "    for token in text:\n",
    "        if len(token)>=3:\n",
    "            result.append(lemmatize_stemming(token))\n",
    "            \n",
    "    return result"
   ]
  },
  {
   "cell_type": "code",
   "execution_count": null,
   "id": "9ec5099c",
   "metadata": {},
   "outputs": [],
   "source": [
    "#Processing review with above Function\n",
    "processed_review = []\n",
    "\n",
    "for doc in df.Product_Review:\n",
    "    processed_review.append(preprocess(doc))\n",
    "    \n",
    "print(len(processed_review))\n",
    "processed_review[:3]"
   ]
  },
  {
   "cell_type": "code",
   "execution_count": null,
   "id": "b0ee39db",
   "metadata": {},
   "outputs": [],
   "source": [
    "df['clean_review']=processed_review  #Assigning this to the dataframe\n",
    "df.head()"
   ]
  },
  {
   "cell_type": "code",
   "execution_count": null,
   "id": "43f34f9c",
   "metadata": {},
   "outputs": [],
   "source": [
    "df['Product_Review'] = df['clean_review'].apply(lambda x:' '.join(y for y in x))\n",
    "df.head()"
   ]
  },
  {
   "cell_type": "code",
   "execution_count": null,
   "id": "a001ae6e",
   "metadata": {},
   "outputs": [],
   "source": [
    "#Getting sense of words in Rating 1\n",
    "one = df['Product_Review'][df['Ratings']==1.0]\n",
    "one_cloud = WordCloud(width=900,height=600,background_color='white',max_words=250).generate(' '.join(one))\n",
    "plt.figure(figsize=(12,9),facecolor='r')\n",
    "plt.imshow(one_cloud)\n",
    "plt.axis('off')\n",
    "plt.title('Word Cloud for Rating 1',fontsize=18,fontweight ='bold')\n",
    "plt.tight_layout(pad=0)\n",
    "plt.show()"
   ]
  },
  {
   "cell_type": "code",
   "execution_count": null,
   "id": "2d51141d",
   "metadata": {},
   "outputs": [],
   "source": [
    "#Getting sense of words in Rating 2\n",
    "one = df['Product_Review'][df['Ratings']==2.0]\n",
    "one_cloud = WordCloud(width=900,height=600,background_color='white',max_words=250).generate(' '.join(one))\n",
    "plt.figure(figsize=(12,9),facecolor='r')\n",
    "plt.imshow(one_cloud)\n",
    "plt.axis('off')\n",
    "plt.title('Word Cloud for Rating 2',fontsize=18,fontweight ='bold')\n",
    "plt.tight_layout(pad=0)\n",
    "plt.show()"
   ]
  },
  {
   "cell_type": "code",
   "execution_count": null,
   "id": "a8a8633b",
   "metadata": {},
   "outputs": [],
   "source": [
    "#Getting sense of words in Rating 3\n",
    "one = df['Product_Review'][df['Ratings']==3.0]\n",
    "one_cloud = WordCloud(width=900,height=600,background_color='white',max_words=250).generate(' '.join(one))\n",
    "plt.figure(figsize=(12,9),facecolor='r')\n",
    "plt.imshow(one_cloud)\n",
    "plt.axis('off')\n",
    "plt.title('Word Cloud for Rating 3',fontsize=18,fontweight ='bold')\n",
    "plt.tight_layout(pad=0)\n",
    "plt.show()"
   ]
  },
  {
   "cell_type": "code",
   "execution_count": null,
   "id": "27c266be",
   "metadata": {},
   "outputs": [],
   "source": [
    "#Getting sense of words in Rating 4\n",
    "one = df['Product_Review'][df['Ratings']==4.0]\n",
    "one_cloud = WordCloud(width=900,height=600,background_color='white',max_words=250).generate(' '.join(one))\n",
    "plt.figure(figsize=(12,9),facecolor='r')\n",
    "plt.imshow(one_cloud)\n",
    "plt.axis('off')\n",
    "plt.title('Word Cloud for Rating 4',fontsize=18,fontweight ='bold')\n",
    "plt.tight_layout(pad=0)\n",
    "plt.show()"
   ]
  },
  {
   "cell_type": "code",
   "execution_count": null,
   "id": "f1fe1a76",
   "metadata": {},
   "outputs": [],
   "source": [
    "# Getting sense of words in Rating 5\n",
    "one = df['Product_Review'][df['Ratings']==5.0]\n",
    "one_cloud = WordCloud(width=900,height=600,background_color='white',max_words=250).generate(' '.join(one))\n",
    "plt.figure(figsize=(12,9),facecolor='r')\n",
    "plt.imshow(one_cloud)\n",
    "plt.axis('off')\n",
    "plt.title('Word Cloud for Rating 5',fontsize=18,fontweight ='bold')\n",
    "plt.tight_layout(pad=0)\n",
    "plt.show()"
   ]
  },
  {
   "cell_type": "code",
   "execution_count": null,
   "id": "334256ca",
   "metadata": {},
   "outputs": [],
   "source": [
    "# Converting text into numeric using TfidfVectorizer\n",
    "tf = TfidfVectorizer()\n",
    "features = tf.fit_transform(df['Product_Review'])\n",
    "X=features\n",
    "Y=df[['Ratings']]"
   ]
  },
  {
   "cell_type": "code",
   "execution_count": null,
   "id": "a7c65150",
   "metadata": {},
   "outputs": [],
   "source": [
    "X.shape\n",
    "Y.shape"
   ]
  },
  {
   "cell_type": "code",
   "execution_count": null,
   "id": "416263ec",
   "metadata": {},
   "outputs": [],
   "source": [
    "#Importing Machine learning Model library\n",
    "from sklearn.linear_model import LogisticRegression\n",
    "from sklearn.naive_bayes import MultinomialNB\n",
    "from sklearn.tree import DecisionTreeClassifier\n",
    "from sklearn.neighbors import KNeighborsClassifier\n",
    "from sklearn.ensemble import RandomForestClassifier\n",
    "from sklearn.ensemble import AdaBoostClassifier\n",
    "from sklearn.ensemble import GradientBoostingClassifier\n",
    "from sklearn.model_selection import train_test_split,cross_val_score\n",
    "from sklearn.metrics import confusion_matrix,classification_report,accuracy_score"
   ]
  },
  {
   "cell_type": "code",
   "execution_count": null,
   "id": "447267f5",
   "metadata": {},
   "outputs": [],
   "source": [
    "X_train, X_test, Y_train, Y_test = train_test_split(X, Y, random_state=67, test_size=.3)\n",
    "print('Training feature matrix size:',X_train.shape)\n",
    "print('Training target vector size:',Y_train.shape)\n",
    "print('Test feature matrix size:',X_test.shape)\n",
    "print('Test target vector size:',Y_test.shape)"
   ]
  },
  {
   "cell_type": "code",
   "execution_count": null,
   "id": "e7717f84",
   "metadata": {},
   "outputs": [],
   "source": [
    "from sklearn.linear_model import LogisticRegression\n",
    "from sklearn.metrics import accuracy_score, confusion_matrix,classification_report,f1_score\n",
    "maxAccu=0\n",
    "maxRS=0\n",
    "for i in range(50,100):\n",
    "    X_train,X_test,Y_train,Y_test = train_test_split(X,Y,test_size = 0.3, random_state=i)\n",
    "    log_reg=LogisticRegression()\n",
    "    log_reg.fit(X_train,Y_train)\n",
    "    y_pred=log_reg.predict(X_test)\n",
    "    acc=accuracy_score(Y_test,y_pred)\n",
    "    if acc>maxAccu:\n",
    "        maxAccu=acc\n",
    "        maxRS=i\n",
    "print('Best accuracy is', maxAccu ,'on Random_state', maxRS)"
   ]
  },
  {
   "cell_type": "code",
   "execution_count": null,
   "id": "cc249529",
   "metadata": {},
   "outputs": [],
   "source": [
    "# Creating train_test_split using best random_state\n",
    "X_train, X_test, Y_train, Y_test = train_test_split(X, Y, random_state=71, test_size=.3)"
   ]
  },
  {
   "cell_type": "code",
   "execution_count": null,
   "id": "29ecb730",
   "metadata": {},
   "outputs": [],
   "source": [
    "X_train, X_test, Y_train, Y_test = train_test_split(X, Y, random_state=71, test_size=.3)\n",
    "log_reg=LogisticRegression()\n",
    "log_reg.fit(X_train,Y_train)\n",
    "y_pred=log_reg.predict(X_test)\n",
    "print('\\033[1m'+'Logistics Regression Evaluation'+'\\033[0m')\n",
    "print('\\n')\n",
    "print('\\033[1m'+'Accuracy Score of Logistics Regression :'+'\\033[0m', accuracy_score(Y_test, y_pred))\n",
    "print('\\n')\n",
    "print('\\033[1m'+'Confusion matrix of Logistics Regression :'+'\\033[0m \\n',confusion_matrix(Y_test, y_pred))\n",
    "print('\\n')\n",
    "print('\\033[1m'+'classification Report of Logistics Regression'+'\\033[0m \\n',classification_report(Y_test, y_pred))"
   ]
  },
  {
   "cell_type": "code",
   "execution_count": null,
   "id": "e1b80099",
   "metadata": {},
   "outputs": [],
   "source": [
    "from sklearn.model_selection import cross_val_score\n",
    "CVscore = cross_val_score(log_reg, X, Y, cv =5)\n",
    "print('\\033[1m'+'Cross Validation Score', log_reg, ':'+'\\033[0m\\n')\n",
    "print(\"CVScore :\" ,CVscore)\n",
    "print(\"Mean CV Score :\",CVscore.mean())\n",
    "print(\"Std deviation :\",CVscore.std())"
   ]
  },
  {
   "cell_type": "code",
   "execution_count": null,
   "id": "3e81f0ca",
   "metadata": {},
   "outputs": [],
   "source": [
    "dtc=DecisionTreeClassifier()\n",
    "dtc.fit(X_train,Y_train)\n",
    "y_pred=dtc.predict(X_test)\n",
    "print('\\033[1m'+'Decision Tree Classifier Evaluation'+'\\033[0m')\n",
    "print('\\n')\n",
    "print('\\033[1m'+'Accuracy Score of Decision Tree Classifier :'+'\\033[0m', accuracy_score(Y_test, y_pred))\n",
    "print('\\n')\n",
    "print('\\033[1m'+'Confusion matrix of Decision Tree Classifier :'+'\\033[0m \\n',confusion_matrix(Y_test, y_pred))\n",
    "print('\\n')\n",
    "print('\\033[1m'+'classification Report of Decision Tree Classifier'+'\\033[0m \\n',classification_report(Y_test, y_pred))"
   ]
  },
  {
   "cell_type": "code",
   "execution_count": null,
   "id": "fa1d787a",
   "metadata": {},
   "outputs": [],
   "source": [
    "from sklearn.model_selection import cross_val_score\n",
    "CVscore = cross_val_score(dtc, X, Y, cv =5)\n",
    "print('\\033[1m'+'Cross Validation Score', dtc, ':'+'\\033[0m\\n')\n",
    "print(\"CVScore :\" ,CVscore)\n",
    "print(\"Mean CV Score :\",CVscore.mean())\n",
    "print(\"Std deviation :\",CVscore.std())"
   ]
  },
  {
   "cell_type": "code",
   "execution_count": null,
   "id": "2148b56d",
   "metadata": {},
   "outputs": [],
   "source": [
    "rfc=RandomForestClassifier()\n",
    "rfc.fit(X_train,Y_train)\n",
    "y_pred=rfc.predict(X_test)\n",
    "print('\\033[1m'+'Random Forest Classifier'+'\\033[0m')\n",
    "print('\\n')\n",
    "print('\\033[1m'+'Accuracy Score of Random Forest Classifier :'+'\\033[0m', accuracy_score(Y_test, y_pred))\n",
    "print('\\n')\n",
    "print('\\033[1m'+'Confusion matrix of Random Forest Classifier :'+'\\033[0m \\n',confusion_matrix(Y_test, y_pred))\n",
    "print('\\n')\n",
    "print('\\033[1m'+'classification Report of Random Forest Classifier'+'\\033[0m \\n',classification_report(Y_test, y_pred))"
   ]
  },
  {
   "cell_type": "code",
   "execution_count": null,
   "id": "22ca3ba8",
   "metadata": {},
   "outputs": [],
   "source": [
    "from sklearn.model_selection import cross_val_score\n",
    "CVscore = cross_val_score(rfc, X, Y, cv =5)\n",
    "print('\\033[1m'+'Cross Validation Score', rfc, ':'+'\\033[0m\\n')\n",
    "print(\"CVScore :\" ,CVscore)\n",
    "print(\"Mean CV Score :\",CVscore.mean())\n",
    "print(\"Std deviation :\",CVscore.std())"
   ]
  },
  {
   "cell_type": "code",
   "execution_count": null,
   "id": "fdc62aff",
   "metadata": {},
   "outputs": [],
   "source": [
    "adbc=AdaBoostClassifier()\n",
    "adbc.fit(X_train,Y_train)\n",
    "y_pred=adbc.predict(X_test)\n",
    "print('\\033[1m'+'AdaBoost Classifier Evaluation'+'\\033[0m')\n",
    "print('\\n')\n",
    "print('\\033[1m'+'Accuracy Score of AdaBoost Classifier :'+'\\033[0m', accuracy_score(Y_test, y_pred))\n",
    "print('\\n')\n",
    "print('\\033[1m'+'Confusion matrix of AdaBoost Classifier :'+'\\033[0m \\n',confusion_matrix(Y_test, y_pred))\n",
    "print('\\n')\n",
    "print('\\033[1m'+'classification Report of AdaBoost Classifier'+'\\033[0m \\n',classification_report(Y_test, y_pred))"
   ]
  },
  {
   "cell_type": "code",
   "execution_count": null,
   "id": "2fece09b",
   "metadata": {},
   "outputs": [],
   "source": [
    "from sklearn.model_selection import cross_val_score\n",
    "CVscore = cross_val_score(adbc, X, Y, cv =5)\n",
    "print('\\033[1m'+'Cross Validation Score',adbc, ':'+'\\033[0m\\n')\n",
    "print(\"CVScore :\" ,CVscore)\n",
    "print(\"Mean CV Score :\",CVscore.mean())\n",
    "print(\"Std deviation :\",CVscore.std())"
   ]
  },
  {
   "cell_type": "code",
   "execution_count": null,
   "id": "9ef509fb",
   "metadata": {},
   "outputs": [],
   "source": [
    "grad_bc=GradientBoostingClassifier()\n",
    "grad_bc.fit(X_train,Y_train)\n",
    "y_pred=grad_bc.predict(X_test)\n",
    "print('\\033[1m'+'Gradient Boosting Classifier Evaluation'+'\\033[0m')\n",
    "print('\\n')\n",
    "print('\\033[1m'+'Accuracy Score of Gradient Boosting Classifier :'+'\\033[0m', accuracy_score(Y_test, y_pred))\n",
    "print('\\n')\n",
    "print('\\033[1m'+'Confusion matrix of Gradient Boosting Classifier :'+'\\033[0m \\n',confusion_matrix(Y_test, y_pred))\n",
    "print('\\n')\n",
    "print('\\033[1m'+'classification Report of Gradient Boosting Classifier'+'\\033[0m \\n',classification_report(Y_test, y_pred))"
   ]
  },
  {
   "cell_type": "code",
   "execution_count": null,
   "id": "e8d4ac54",
   "metadata": {},
   "outputs": [],
   "source": [
    "from sklearn.model_selection import cross_val_score\n",
    "CVscore = cross_val_score(grad_bc, X, Y, cv =5)\n",
    "print('\\033[1m'+'Cross Validation Score', grad_bc, ':'+'\\033[0m\\n')\n",
    "print(\"CVScore :\" ,CVscore)\n",
    "print(\"Mean CV Score :\",CVscore.mean())\n",
    "print(\"Std deviation :\",CVscore.std())"
   ]
  },
  {
   "cell_type": "code",
   "execution_count": null,
   "id": "18201951",
   "metadata": {},
   "outputs": [],
   "source": [
    "from sklearn.model_selection import GridSearchCV\n"
   ]
  },
  {
   "cell_type": "code",
   "execution_count": null,
   "id": "35602e4a",
   "metadata": {},
   "outputs": [],
   "source": [
    "parameter = { 'max_features': ['auto', 'log2'], \n",
    "              'criterion':['gini','entropy'],\n",
    "              'n_estimators': [75,100,150]}"
   ]
  },
  {
   "cell_type": "code",
   "execution_count": null,
   "id": "2ed32399",
   "metadata": {},
   "outputs": [],
   "source": [
    "GCV = GridSearchCV(RandomForestClassifier(),parameter,verbose=10)\n",
    "GCV.fit(X_train,Y_train)"
   ]
  },
  {
   "cell_type": "code",
   "execution_count": null,
   "id": "2eff58eb",
   "metadata": {},
   "outputs": [],
   "source": [
    "GCV.best_params_\n"
   ]
  },
  {
   "cell_type": "code",
   "execution_count": null,
   "id": "995cd28c",
   "metadata": {},
   "outputs": [],
   "source": [
    "Final_mod = RandomForestClassifier(criterion='entropy',n_estimators= 150,max_features='auto')\n",
    "Final_mod.fit(X_train,Y_train)\n",
    "y_pred=Final_mod.predict(X_test)\n",
    "print('\\033[1m'+'Final Random Forest Classifier Model'+'\\033[0m')\n",
    "print('\\033[1m'+'Accuracy Score :'+'\\033[0m\\n', accuracy_score(Y_test, y_pred))\n",
    "print('\\n')\n",
    "print('\\033[1m'+'Confusion matrix of Random Forest Classifier :'+'\\033[0m \\n',confusion_matrix(Y_test, y_pred))\n",
    "print('\\n')\n",
    "print('\\033[1m'+'Classification Report of Random Forest Classifier'+'\\033[0m \\n',classification_report(Y_test, y_pred))"
   ]
  },
  {
   "cell_type": "code",
   "execution_count": null,
   "id": "c770d990",
   "metadata": {},
   "outputs": [],
   "source": [
    "import joblib\n",
    "joblib.dump(Final_mod,'Review_Rating_Prediction.pkl')"
   ]
  },
  {
   "cell_type": "code",
   "execution_count": null,
   "id": "fd2f6ffd",
   "metadata": {},
   "outputs": [],
   "source": []
  },
  {
   "cell_type": "code",
   "execution_count": null,
   "id": "22aaf56a",
   "metadata": {},
   "outputs": [],
   "source": []
  },
  {
   "cell_type": "code",
   "execution_count": null,
   "id": "0616c9ce",
   "metadata": {},
   "outputs": [],
   "source": []
  },
  {
   "cell_type": "code",
   "execution_count": null,
   "id": "468ed107",
   "metadata": {},
   "outputs": [],
   "source": []
  },
  {
   "cell_type": "code",
   "execution_count": null,
   "id": "2296f98a",
   "metadata": {},
   "outputs": [],
   "source": []
  },
  {
   "cell_type": "code",
   "execution_count": null,
   "id": "1d499ad1",
   "metadata": {},
   "outputs": [],
   "source": []
  },
  {
   "cell_type": "code",
   "execution_count": null,
   "id": "3a504cf8",
   "metadata": {},
   "outputs": [],
   "source": []
  },
  {
   "cell_type": "code",
   "execution_count": null,
   "id": "ea8c5a77",
   "metadata": {},
   "outputs": [],
   "source": []
  },
  {
   "cell_type": "code",
   "execution_count": null,
   "id": "297b42ff",
   "metadata": {},
   "outputs": [],
   "source": []
  },
  {
   "cell_type": "code",
   "execution_count": null,
   "id": "a5b241f3",
   "metadata": {},
   "outputs": [],
   "source": []
  },
  {
   "cell_type": "code",
   "execution_count": null,
   "id": "d73dbe70",
   "metadata": {},
   "outputs": [],
   "source": []
  },
  {
   "cell_type": "code",
   "execution_count": null,
   "id": "3c566bab",
   "metadata": {},
   "outputs": [],
   "source": []
  },
  {
   "cell_type": "code",
   "execution_count": null,
   "id": "b3bbbf4f",
   "metadata": {},
   "outputs": [],
   "source": []
  },
  {
   "cell_type": "code",
   "execution_count": null,
   "id": "13ba8cb0",
   "metadata": {},
   "outputs": [],
   "source": []
  },
  {
   "cell_type": "code",
   "execution_count": null,
   "id": "fbae0e74",
   "metadata": {},
   "outputs": [],
   "source": []
  },
  {
   "cell_type": "code",
   "execution_count": null,
   "id": "9dfad25e",
   "metadata": {},
   "outputs": [],
   "source": []
  },
  {
   "cell_type": "code",
   "execution_count": null,
   "id": "7492f801",
   "metadata": {},
   "outputs": [],
   "source": []
  },
  {
   "cell_type": "code",
   "execution_count": null,
   "id": "8f582a84",
   "metadata": {},
   "outputs": [],
   "source": []
  },
  {
   "cell_type": "code",
   "execution_count": null,
   "id": "25870c3a",
   "metadata": {},
   "outputs": [],
   "source": []
  },
  {
   "cell_type": "code",
   "execution_count": null,
   "id": "b9c97268",
   "metadata": {},
   "outputs": [],
   "source": []
  },
  {
   "cell_type": "code",
   "execution_count": null,
   "id": "d15d9474",
   "metadata": {},
   "outputs": [],
   "source": []
  },
  {
   "cell_type": "code",
   "execution_count": null,
   "id": "c690214b",
   "metadata": {},
   "outputs": [],
   "source": []
  },
  {
   "cell_type": "code",
   "execution_count": null,
   "id": "1c329764",
   "metadata": {},
   "outputs": [],
   "source": []
  },
  {
   "cell_type": "code",
   "execution_count": null,
   "id": "ee100810",
   "metadata": {},
   "outputs": [],
   "source": []
  },
  {
   "cell_type": "code",
   "execution_count": null,
   "id": "0c7e4aa1",
   "metadata": {},
   "outputs": [],
   "source": []
  },
  {
   "cell_type": "code",
   "execution_count": null,
   "id": "897c5cb6",
   "metadata": {},
   "outputs": [],
   "source": []
  },
  {
   "cell_type": "code",
   "execution_count": null,
   "id": "ef3ee3fa",
   "metadata": {},
   "outputs": [],
   "source": []
  },
  {
   "cell_type": "code",
   "execution_count": null,
   "id": "b272bfd6",
   "metadata": {},
   "outputs": [],
   "source": []
  },
  {
   "cell_type": "code",
   "execution_count": null,
   "id": "140d4e15",
   "metadata": {},
   "outputs": [],
   "source": []
  },
  {
   "cell_type": "code",
   "execution_count": null,
   "id": "c08f6382",
   "metadata": {},
   "outputs": [],
   "source": []
  },
  {
   "cell_type": "code",
   "execution_count": null,
   "id": "2ca2a535",
   "metadata": {},
   "outputs": [],
   "source": []
  },
  {
   "cell_type": "code",
   "execution_count": null,
   "id": "595eab59",
   "metadata": {},
   "outputs": [],
   "source": []
  },
  {
   "cell_type": "code",
   "execution_count": null,
   "id": "a27e5764",
   "metadata": {},
   "outputs": [],
   "source": []
  },
  {
   "cell_type": "code",
   "execution_count": null,
   "id": "669b33bc",
   "metadata": {},
   "outputs": [],
   "source": []
  },
  {
   "cell_type": "code",
   "execution_count": null,
   "id": "28264ceb",
   "metadata": {},
   "outputs": [],
   "source": []
  },
  {
   "cell_type": "code",
   "execution_count": null,
   "id": "61d588e6",
   "metadata": {},
   "outputs": [],
   "source": []
  },
  {
   "cell_type": "code",
   "execution_count": null,
   "id": "725afe98",
   "metadata": {},
   "outputs": [],
   "source": []
  },
  {
   "cell_type": "code",
   "execution_count": null,
   "id": "e3c3236d",
   "metadata": {},
   "outputs": [],
   "source": []
  },
  {
   "cell_type": "code",
   "execution_count": null,
   "id": "3e0778e6",
   "metadata": {},
   "outputs": [],
   "source": []
  },
  {
   "cell_type": "code",
   "execution_count": null,
   "id": "c23a6489",
   "metadata": {},
   "outputs": [],
   "source": []
  },
  {
   "cell_type": "code",
   "execution_count": null,
   "id": "a0c9b5cd",
   "metadata": {},
   "outputs": [],
   "source": []
  },
  {
   "cell_type": "code",
   "execution_count": null,
   "id": "0cd98cb7",
   "metadata": {},
   "outputs": [],
   "source": []
  },
  {
   "cell_type": "code",
   "execution_count": null,
   "id": "97cb4d79",
   "metadata": {},
   "outputs": [],
   "source": []
  },
  {
   "cell_type": "code",
   "execution_count": null,
   "id": "1fe416be",
   "metadata": {},
   "outputs": [],
   "source": []
  }
 ],
 "metadata": {
  "kernelspec": {
   "display_name": "Python 3 (ipykernel)",
   "language": "python",
   "name": "python3"
  },
  "language_info": {
   "codemirror_mode": {
    "name": "ipython",
    "version": 3
   },
   "file_extension": ".py",
   "mimetype": "text/x-python",
   "name": "python",
   "nbconvert_exporter": "python",
   "pygments_lexer": "ipython3",
   "version": "3.9.12"
  }
 },
 "nbformat": 4,
 "nbformat_minor": 5
}
