{
 "cells": [
  {
   "cell_type": "code",
   "execution_count": null,
   "id": "7cbe10a0",
   "metadata": {},
   "outputs": [],
   "source": [
    "#Importing required libraries\n",
    "import pandas as pd\n",
    "import selenium\n",
    "from selenium import webdriver\n",
    "from selenium.common.exceptions import NoSuchElementException , StaleElementReferenceException\n",
    "import time\n",
    "import warnings\n",
    "warnings.filterwarnings('ignore')"
   ]
  },
  {
   "cell_type": "code",
   "execution_count": null,
   "id": "8495ade3",
   "metadata": {},
   "outputs": [],
   "source": [
    "#Connect to web driver\n",
    "driver =webdriver.Chrome(r\"C:\\chromedriver.exe\")"
   ]
  },
  {
   "cell_type": "code",
   "execution_count": null,
   "id": "a647e070",
   "metadata": {},
   "outputs": [],
   "source": [
    "driver.get('https://www.amazon.in/')\n"
   ]
  },
  {
   "cell_type": "code",
   "execution_count": null,
   "id": "0578dfa0",
   "metadata": {},
   "outputs": [],
   "source": [
    " #Searching headphones in the search bar and clicking the search button\n",
    "search_bar=driver.find_element_by_id('twotabsearchtextbox')\n",
    "search_bar.send_keys(\"headphones\")\n",
    "driver.find_element_by_id('nav-search-submit-button').click()"
   ]
  },
  {
   "cell_type": "code",
   "execution_count": null,
   "id": "3e618f54",
   "metadata": {},
   "outputs": [],
   "source": [
    "# Creating empty lists\n",
    "Product_URL=[]\n",
    "Ratings=[]\n",
    "Review=[]\n",
    "\n",
    "#Getting URLs of the product\n",
    "for i in range(1,4):\n",
    "    URL = driver.find_elements_by_xpath(\"//div[@class='a-section a-spacing-medium']/div[2]/div[2]/div/div/h2/a\")\n",
    "    for i in URL:\n",
    "        Product_URL.append(i.get_attribute('href'))\n",
    "      \n",
    "    try:\n",
    "        next_btn=driver.find_element_by_xpath(\"//li[@class='a-last']/a\").click()\n",
    "    except NoSuchElementException:\n",
    "        pass\n",
    "    \n",
    "for i in Product_URL:\n",
    "    driver.get(i)\n",
    "    \n",
    "    # Clicking the rating\n",
    "    try:\n",
    "        driver.find_element_by_xpath(\"//a[1][@id='acrCustomerReviewLink']\").click()\n",
    "    except NoSuchElementException:\n",
    "        print(\"No rating\")\n",
    "        pass\n",
    "    \n",
    "    #Clicking to see all reviews\n",
    "    try:\n",
    "        driver.find_element_by_xpath(\"//a[@class='a-link-emphasis a-text-bold']\").click()\n",
    "    except NoSuchElementException:\n",
    "        pass\n",
    "    \n",
    "    #Scrapping the details\n",
    "    Start_page=1\n",
    "    End_page=50\n",
    "    for page in range(Start_page,End_page+1):\n",
    "        try:\n",
    "            Reviews=driver.find_elements_by_xpath(\"//div[@class='a-row a-spacing-small review-data']/span/span\")\n",
    "            for r in Reviews:\n",
    "                Review.append(r.text.replace('\\n',''))\n",
    "        except NoSuchElementException:\n",
    "            Review.append(\"Not Available\")\n",
    "        try:\n",
    "            Rating=driver.find_elements_by_xpath(\"//div[@class='a-section celwidget']/div[2]/a[1]\")\n",
    "            for i in Rating:\n",
    "                rating=i.get_attribute('title')\n",
    "                Ratings.append(rating[:3])\n",
    "        except NoSuchElementException:\n",
    "            Ratings.append(\"Not available\")      \n",
    "        \n",
    "        #Looping for going to next page automatically\n",
    "        try:\n",
    "            next_page=driver.find_element_by_xpath(\"//div[@id='cm_cr-pagination_bar']/ul/li[2]/a\")\n",
    "            if next_page.text=='Next Page':\n",
    "                next_page.click()\n",
    "                time.sleep(2)\n",
    "        except NoSuchElementException:\n",
    "            pass"
   ]
  },
  {
   "cell_type": "code",
   "execution_count": null,
   "id": "ef594478",
   "metadata": {},
   "outputs": [],
   "source": [
    "print(len(Review),len(Ratings))\n",
    "headphones=pd.DataFrame({'Product_Review':Review[:9000],'Ratings':Ratings[:9000]})\n"
   ]
  },
  {
   "cell_type": "code",
   "execution_count": null,
   "id": "423ac51c",
   "metadata": {},
   "outputs": [],
   "source": [
    "# Getting the website to driver\n",
    "driver.get('https://www.amazon.in/')"
   ]
  },
  {
   "cell_type": "code",
   "execution_count": null,
   "id": "8a012ba5",
   "metadata": {},
   "outputs": [],
   "source": [
    "# Searching laptops in the search bar and clicking the search button\n",
    "search_bar=driver.find_element_by_id('twotabsearchtextbox')\n",
    "search_bar.send_keys(\"laptops\")\n",
    "driver.find_element_by_id('nav-search-submit-button').click()"
   ]
  },
  {
   "cell_type": "code",
   "execution_count": null,
   "id": "b4dbc9c0",
   "metadata": {},
   "outputs": [],
   "source": [
    "#Creating empty lists\n",
    "Product_URL=[]\n",
    "Ratings=[]\n",
    "Review=[]\n",
    "\n",
    "#Getting URLs of the product\n",
    "for i in range(1,4):\n",
    "    URL = driver.find_elements_by_xpath(\"//div[@class='a-section a-spacing-medium']/div[2]/div[2]/div/div/h2/a\")\n",
    "    for i in URL:\n",
    "        Product_URL.append(i.get_attribute('href'))\n",
    "    try:\n",
    "        next_btn=driver.find_element_by_xpath(\"//li[@class='a-last']/a\").click()\n",
    "    except NoSuchElementException:\n",
    "        pass\n",
    "    \n",
    "for i in Product_URL:\n",
    "    driver.get(i)\n",
    "    \n",
    "    #Clicking the rating\n",
    "    try:\n",
    "        driver.find_element_by_xpath(\"//a[1][@id='acrCustomerReviewLink']\").click()\n",
    "    except NoSuchElementException:\n",
    "        print(\"No rating\")\n",
    "        pass\n",
    "    \n",
    "    #Clicking to see all reviews\n",
    "    try:\n",
    "        driver.find_element_by_xpath(\"//a[@class='a-link-emphasis a-text-bold']\").click()\n",
    "    except NoSuchElementException:\n",
    "        pass\n",
    "    \n",
    "    #Scrapping the details\n",
    "    Start_page=1\n",
    "    End_page=80\n",
    "    for page in range(Start_page,End_page+1):\n",
    "        try:\n",
    "            Reviews=driver.find_elements_by_xpath(\"//div[@class='a-row a-spacing-small review-data']/span/span\")\n",
    "            for r in Reviews:\n",
    "                Review.append(r.text.replace('\\n',''))\n",
    "        except NoSuchElementException:\n",
    "            Review.append(\"Not Available\")\n",
    "        try:\n",
    "            Rating=driver.find_elements_by_xpath(\"//div[@class='a-section celwidget']/div[2]/a[1]\")\n",
    "            for i in Rating:\n",
    "                rating=i.get_attribute('title')\n",
    "                Ratings.append(rating[:3])\n",
    "        except NoSuchElementException:\n",
    "            Ratings.append(\"Not available\")      \n",
    "                   \n",
    "        # Looping for going to next page automatically\n",
    "        try:\n",
    "            next_page=driver.find_element_by_xpath(\"//div[@id='cm_cr-pagination_bar']/ul/li[2]/a\")\n",
    "            if next_page.text=='Next Page':\n",
    "                next_page.click()\n",
    "                time.sleep(2)\n",
    "        except NoSuchElementException:\n",
    "            pass"
   ]
  },
  {
   "cell_type": "code",
   "execution_count": null,
   "id": "dbb94c35",
   "metadata": {},
   "outputs": [],
   "source": [
    "print(len(Review),len(Ratings))\n"
   ]
  },
  {
   "cell_type": "code",
   "execution_count": null,
   "id": "a4c54239",
   "metadata": {},
   "outputs": [],
   "source": [
    "laptops=pd.DataFrame({'Product_Review':Review[:11000],'Ratings':Ratings[:11000]})\n"
   ]
  },
  {
   "cell_type": "code",
   "execution_count": null,
   "id": "b4fa9b0d",
   "metadata": {},
   "outputs": [],
   "source": [
    "# Getting the website to driver\n",
    "driver.get('https://www.amazon.in/')"
   ]
  },
  {
   "cell_type": "code",
   "execution_count": null,
   "id": "1c201df9",
   "metadata": {},
   "outputs": [],
   "source": [
    "#Searching dslr in the search bar and clicking the search button\n",
    "search_bar=driver.find_element_by_id('twotabsearchtextbox')\n",
    "search_bar.send_keys(\"dslr\")\n",
    "driver.find_element_by_id('nav-search-submit-button').click()"
   ]
  },
  {
   "cell_type": "code",
   "execution_count": null,
   "id": "f6676607",
   "metadata": {},
   "outputs": [],
   "source": [
    "#Creating empty lists\n",
    "Product_URL=[]\n",
    "Ratings=[]\n",
    "Review=[]\n",
    "\n",
    "#Getting URLs of the product\n",
    "for i in range(1,4):\n",
    "    URL = driver.find_elements_by_xpath(\"//div[@class='a-section a-spacing-medium']/div[2]/div[2]/div/div/h2/a\")\n",
    "    for i in URL:\n",
    "        Product_URL.append(i.get_attribute('href'))\n",
    "    try:\n",
    "        next_btn=driver.find_element_by_xpath(\"//li[@class='a-last']/a\").click()\n",
    "    except NoSuchElementException:\n",
    "        pass\n",
    "    \n",
    "for i in Product_URL:\n",
    "    driver.get(i)\n",
    "    \n",
    "    #Clicking the rating\n",
    "    try:\n",
    "        driver.find_element_by_xpath(\"//a[1][@id='acrCustomerReviewLink']\").click()\n",
    "    except NoSuchElementException:\n",
    "        print(\"No rating\")\n",
    "        pass\n",
    "    \n",
    "    #Clicking to see all reviews\n",
    "    try:\n",
    "        driver.find_element_by_xpath(\"//a[@class='a-link-emphasis a-text-bold']\").click()\n",
    "    except NoSuchElementException:\n",
    "        pass\n",
    "    \n",
    "    #Scrapping the details\n",
    "    Start_page=1\n",
    "    End_page=100\n",
    "    for page in range(Start_page,End_page+1):\n",
    "        try:\n",
    "            Reviews=driver.find_elements_by_xpath(\"//div[@class='a-row a-spacing-small review-data']/span/span\")\n",
    "            for r in Reviews:\n",
    "                Review.append(r.text.replace('\\n',''))\n",
    "        except NoSuchElementException:\n",
    "            Review.append(\"Not Available\")\n",
    "        try:\n",
    "            Rating=driver.find_elements_by_xpath(\"//div[@class='a-section celwidget']/div[2]/a[1]\")\n",
    "            for i in Rating:\n",
    "                rating=i.get_attribute('title')\n",
    "                Ratings.append(rating[:3])\n",
    "        except NoSuchElementException:\n",
    "            Ratings.append(\"Not available\")      \n",
    "          \n",
    "        #Looping for going to next page automatically\n",
    "        try:\n",
    "            next_page=driver.find_element_by_xpath(\"//div[@id='cm_cr-pagination_bar']/ul/li[2]/a\")\n",
    "            if next_page.text=='Next Page':\n",
    "                next_page.click()\n",
    "                time.sleep(2)\n",
    "        except NoSuchElementException:\n",
    "            pass"
   ]
  },
  {
   "cell_type": "code",
   "execution_count": null,
   "id": "bbe159bc",
   "metadata": {},
   "outputs": [],
   "source": [
    "print(len(Review),len(Ratings))\n"
   ]
  },
  {
   "cell_type": "code",
   "execution_count": null,
   "id": "7127c003",
   "metadata": {},
   "outputs": [],
   "source": [
    "camera=pd.DataFrame({'Product_Review':Review[:10000],'Ratings':Ratings[:10000]})\n"
   ]
  },
  {
   "cell_type": "code",
   "execution_count": null,
   "id": "a5f310c4",
   "metadata": {},
   "outputs": [],
   "source": [
    "#Getting the website to driver\n",
    "driver.get('https://www.amazon.in/')"
   ]
  },
  {
   "cell_type": "code",
   "execution_count": null,
   "id": "cff882d2",
   "metadata": {},
   "outputs": [],
   "source": [
    "#Searching phones in the search bar and clicking the search button\n",
    "search_bar=driver.find_element_by_id('twotabsearchtextbox')\n",
    "search_bar.send_keys(\"phones\")\n",
    "driver.find_element_by_id('nav-search-submit-button').click()"
   ]
  },
  {
   "cell_type": "code",
   "execution_count": null,
   "id": "79c9d7ca",
   "metadata": {},
   "outputs": [],
   "source": [
    "#Creating empty lists\n",
    "Product_URL=[]\n",
    "Ratings=[]\n",
    "Review=[]\n",
    "\n",
    "#Getting URLs of the product\n",
    "for i in range(1,4):\n",
    "    URL = driver.find_elements_by_xpath(\"//div[@class='a-section a-spacing-medium']/div[2]/div[2]/div/div/h2/a\")\n",
    "    for i in URL:\n",
    "        Product_URL.append(i.get_attribute('href'))\n",
    "    try:\n",
    "        next_btn=driver.find_element_by_xpath(\"//li[@class='a-last']/a\").click()\n",
    "    except NoSuchElementException:\n",
    "        pass\n",
    "    \n",
    "for i in Product_URL:\n",
    "    driver.get(i)\n",
    "    \n",
    "    #Clicking the rating\n",
    "    try:\n",
    "        driver.find_element_by_xpath(\"//a[1][@id='acrCustomerReviewLink']\").click()\n",
    "    except NoSuchElementException:\n",
    "        print(\"No rating\")\n",
    "        pass\n",
    "    \n",
    "    #Clicking to see all reviews\n",
    "    try:\n",
    "        driver.find_element_by_xpath(\"//a[@class='a-link-emphasis a-text-bold']\").click()\n",
    "    except NoSuchElementException:\n",
    "        pass\n",
    "    \n",
    "    #Scrapping the details\n",
    "    Start_page=1\n",
    "    End_page=60\n",
    "    for page in range(Start_page,End_page+1):\n",
    "        try:\n",
    "            Reviews=driver.find_elements_by_xpath(\"//div[@class='a-row a-spacing-small review-data']/span/span\")\n",
    "            for r in Reviews:\n",
    "                Review.append(r.text.replace('\\n',''))\n",
    "        except NoSuchElementException:\n",
    "            Review.append(\"Not Available\")\n",
    "        try:\n",
    "            Rating=driver.find_elements_by_xpath(\"//div[@class='a-section celwidget']/div[2]/a[1]\")\n",
    "            for i in Rating:\n",
    "                rating=i.get_attribute('title')\n",
    "                Ratings.append(rating[:3])\n",
    "        except NoSuchElementException:\n",
    "            Ratings.append(\"Not available\")      \n",
    "        \n",
    "        #Looping for going to next page automatically\n",
    "        try:\n",
    "            next_page=driver.find_element_by_xpath(\"//div[@id='cm_cr-pagination_bar']/ul/li[2]/a\")\n",
    "            if next_page.text=='Next Page':\n",
    "                next_page.click()\n",
    "                time.sleep(2)\n",
    "        except NoSuchElementException:\n",
    "            pass"
   ]
  },
  {
   "cell_type": "code",
   "execution_count": null,
   "id": "73d6b826",
   "metadata": {},
   "outputs": [],
   "source": [
    "print(len(Review),len(Ratings))\n"
   ]
  },
  {
   "cell_type": "code",
   "execution_count": null,
   "id": "f010cbbb",
   "metadata": {},
   "outputs": [],
   "source": [
    "phones=pd.DataFrame({'Product_Review':Review[:10000],'Ratings':Ratings[:10000]})\n"
   ]
  },
  {
   "cell_type": "code",
   "execution_count": null,
   "id": "73695f46",
   "metadata": {},
   "outputs": [],
   "source": [
    "driver.close()\n"
   ]
  },
  {
   "cell_type": "code",
   "execution_count": null,
   "id": "8dc08096",
   "metadata": {},
   "outputs": [],
   "source": [
    "driver =webdriver.Chrome(r\"C:\\chromedriver.exe \")\n"
   ]
  },
  {
   "cell_type": "code",
   "execution_count": null,
   "id": "d84a02e9",
   "metadata": {},
   "outputs": [],
   "source": [
    "driver.get('https://www.flipkart.com/apple-iphone-11-black-64-gb/product-reviews/itm4e5041ba101fd?pid=MOBFWQ6BXGJCEYNY&lid=LSTMOBFWQ6BXGJCEYNYZXSHRJ&marketplace=FLIPKART')\n"
   ]
  },
  {
   "cell_type": "code",
   "execution_count": null,
   "id": "ee45b0ab",
   "metadata": {},
   "outputs": [],
   "source": [
    "#Taking the empty lists\n",
    "Ratings=[]\n",
    "Review=[]\n",
    "\n",
    "#As there are nearly 10 reviews per page, we will check for 400+ pages and scrap the required data\n",
    "#Now we will take a for loop and scrap\n",
    "for i in range(0,410):\n",
    "    for j in driver.find_elements_by_xpath(\"//div[@class='_3LWZlK _1BLPMq']\"):\n",
    "        Ratings.append(j.text)\n",
    "    for j in driver.find_elements_by_xpath(\"//div[@class='t-ZTKy']\"):\n",
    "        Review.append(j.text)\n",
    "        \n",
    "    #Path for next page as it changes for every page. We are appending numbers as pages change  \n",
    "    k=i+1\n",
    "    next_page=\"https://www.flipkart.com/apple-iphone-11-black-64-gb/product-reviews/itm4e5041ba101fd?pid=MOBFWQ6BXGJCEYNY&lid=LSTMOBFWQ6BXGJCEYNYZXSHRJ&marketplace=FLIPKART&page=\"+str(k) \n",
    "    driver.get(next_page)"
   ]
  },
  {
   "cell_type": "code",
   "execution_count": null,
   "id": "ce15438d",
   "metadata": {},
   "outputs": [],
   "source": [
    "print(len(Ratings),len(Review))\n"
   ]
  },
  {
   "cell_type": "code",
   "execution_count": null,
   "id": "ba764dab",
   "metadata": {},
   "outputs": [],
   "source": [
    "f_phones=pd.DataFrame({'Product_Review':Review[:3700],'Ratings':Ratings[:3700]})\n"
   ]
  },
  {
   "cell_type": "code",
   "execution_count": null,
   "id": "095d64c3",
   "metadata": {},
   "outputs": [],
   "source": [
    "f_phones.head()\n"
   ]
  },
  {
   "cell_type": "code",
   "execution_count": null,
   "id": "e0a9f15f",
   "metadata": {},
   "outputs": [],
   "source": [
    "f_phones.tail()\n"
   ]
  },
  {
   "cell_type": "code",
   "execution_count": null,
   "id": "52828d06",
   "metadata": {},
   "outputs": [],
   "source": [
    "driver.close()\n"
   ]
  },
  {
   "cell_type": "code",
   "execution_count": null,
   "id": "0da8c276",
   "metadata": {},
   "outputs": [],
   "source": [
    "# Connect to web driver\n",
    "driver =webdriver.Chrome(r\"C:\\Users\\Femina\\Downloads\\chromedriver_win32 (1)\\chromedriver.exe \")"
   ]
  },
  {
   "cell_type": "code",
   "execution_count": null,
   "id": "a3e7ae7f",
   "metadata": {},
   "outputs": [],
   "source": [
    "driver.get('https://www.flipkart.com/poco-m3-power-black-64-gb/product-reviews/itmb49cc10841be2?pid=MOBFZTCUTAYPJHHR&lid=LSTMOBFZTCUTAYPJHHR2ZVC1N&marketplace=FLIPKART')\n"
   ]
  },
  {
   "cell_type": "code",
   "execution_count": null,
   "id": "5b5ad262",
   "metadata": {},
   "outputs": [],
   "source": [
    "#Taking the empty lists\n",
    "Ratings=[]\n",
    "Review=[]\n",
    "\n",
    "#As there are nearly 10 reviews per page, we will check for 400+ pages and scrap the required data\n",
    "#Now we will take a for loop and scrap\n",
    "for i in range(0,650):\n",
    "    for j in driver.find_elements_by_xpath(\"//div[@class='_3LWZlK _1BLPMq']\"):\n",
    "        Ratings.append(j.text)\n",
    "    for j in driver.find_elements_by_xpath(\"//div[@class='t-ZTKy']\"):\n",
    "        Review.append(j.text)\n",
    "        \n",
    "    #Path for next page as it changes for every page. We are appending numbers as pages change  \n",
    "    k=i+1\n",
    "    next_page=\"https://www.flipkart.com/poco-m3-power-black-64-gb/product-reviews/itmb49cc10841be2?pid=MOBFZTCUTAYPJHHR&lid=LSTMOBFZTCUTAYPJHHR2ZVC1N&marketplace=FLIPKART&page=\"+str(k) \n",
    "    driver.get(next_page)"
   ]
  },
  {
   "cell_type": "code",
   "execution_count": null,
   "id": "f398d3c6",
   "metadata": {},
   "outputs": [],
   "source": [
    "print(len(Review),len(Ratings))\n"
   ]
  },
  {
   "cell_type": "code",
   "execution_count": null,
   "id": "0115cafe",
   "metadata": {},
   "outputs": [],
   "source": [
    "f_poco=pd.DataFrame({'Product_Review':Review[:5200],'Ratings':Ratings[:5200]})\n"
   ]
  },
  {
   "cell_type": "code",
   "execution_count": null,
   "id": "7cc5f438",
   "metadata": {},
   "outputs": [],
   "source": [
    "f_poco.head()\n"
   ]
  },
  {
   "cell_type": "code",
   "execution_count": null,
   "id": "f9b101c7",
   "metadata": {},
   "outputs": [],
   "source": [
    "f_poco.tail()\n"
   ]
  },
  {
   "cell_type": "code",
   "execution_count": null,
   "id": "de1e604b",
   "metadata": {},
   "outputs": [],
   "source": [
    "driver.close()\n"
   ]
  },
  {
   "cell_type": "code",
   "execution_count": null,
   "id": "6a571b55",
   "metadata": {},
   "outputs": [],
   "source": [
    "# Connect to web driver\n",
    "driver =webdriver.Chrome(r\"C:\\Users\\Femina\\Downloads\\chromedriver_win32 (1)\\chromedriver.exe \")"
   ]
  },
  {
   "cell_type": "code",
   "execution_count": null,
   "id": "fd2e2481",
   "metadata": {},
   "outputs": [],
   "source": [
    "driver.get('https://www.flipkart.com/tp-link-tl-wr841n-300mbps-wireless-n-router/product-reviews/itmf48vgyfyx8m4f?pid=RTRD7HN3JJYF6WN2&lid=LSTRTRD7HN3JJYF6WN20ZITXQ&marketplace=FLIPKART')\n"
   ]
  },
  {
   "cell_type": "code",
   "execution_count": null,
   "id": "b659b50a",
   "metadata": {},
   "outputs": [],
   "source": [
    "#Taking the empty lists\n",
    "Ratings=[]\n",
    "Review=[]\n",
    "\n",
    "#As there are nearly 10 reviews per page, we will check for 400+ pages and scrap the required data\n",
    "#Now we will take a for loop and scrap\n",
    "for i in range(0,150):\n",
    "    for j in driver.find_elements_by_xpath(\"//div[@class='_3LWZlK _1BLPMq']\"):\n",
    "        Ratings.append(j.text)\n",
    "    for j in driver.find_elements_by_xpath(\"//div[@class='t-ZTKy']\"):\n",
    "        Review.append(j.text)\n",
    "        \n",
    "    #Path for next page as it changes for every page. We are appending numbers as pages change  \n",
    "    k=i+1\n",
    "    next_page=\"https://www.flipkart.com/tp-link-tl-wr841n-300mbps-wireless-n-router/product-reviews/itmf48vgyfyx8m4f?pid=RTRD7HN3JJYF6WN2&lid=LSTRTRD7HN3JJYF6WN20ZITXQ&marketplace=FLIPKART&page=\"+str(k) \n",
    "    driver.get(next_page)"
   ]
  },
  {
   "cell_type": "code",
   "execution_count": null,
   "id": "ddd42054",
   "metadata": {},
   "outputs": [],
   "source": [
    "print(len(Review),len(Ratings))\n"
   ]
  },
  {
   "cell_type": "code",
   "execution_count": null,
   "id": "6fec5698",
   "metadata": {},
   "outputs": [],
   "source": [
    "router=pd.DataFrame({'Product_Review':Review[:1000],'Ratings':Ratings[:1000]})\n"
   ]
  },
  {
   "cell_type": "code",
   "execution_count": null,
   "id": "c9e8b0a2",
   "metadata": {},
   "outputs": [],
   "source": [
    "router.head()\n"
   ]
  },
  {
   "cell_type": "code",
   "execution_count": null,
   "id": "c6325c58",
   "metadata": {},
   "outputs": [],
   "source": [
    "router.tail()\n"
   ]
  },
  {
   "cell_type": "code",
   "execution_count": null,
   "id": "ddd1c50e",
   "metadata": {},
   "outputs": [],
   "source": [
    "driver.close()\n"
   ]
  },
  {
   "cell_type": "code",
   "execution_count": null,
   "id": "19f06f38",
   "metadata": {},
   "outputs": [],
   "source": [
    "# Combining all dataframes into a single dataframe\n",
    "ratings_data=headphones.append([laptops,camera,phones,f_phones,f_poco,router],ignore_index=True)\n",
    "ratings_data"
   ]
  },
  {
   "cell_type": "code",
   "execution_count": null,
   "id": "58762ec0",
   "metadata": {},
   "outputs": [],
   "source": [
    "ratings_data.to_csv('Rating_Prediction_dataset.csv')\n"
   ]
  }
 ],
 "metadata": {
  "kernelspec": {
   "display_name": "Python 3 (ipykernel)",
   "language": "python",
   "name": "python3"
  },
  "language_info": {
   "codemirror_mode": {
    "name": "ipython",
    "version": 3
   },
   "file_extension": ".py",
   "mimetype": "text/x-python",
   "name": "python",
   "nbconvert_exporter": "python",
   "pygments_lexer": "ipython3",
   "version": "3.9.12"
  }
 },
 "nbformat": 4,
 "nbformat_minor": 5
}
