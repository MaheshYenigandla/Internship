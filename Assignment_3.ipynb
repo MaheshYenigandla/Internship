{
 "cells": [
  {
   "cell_type": "code",
   "execution_count": null,
   "id": "723ee525",
   "metadata": {},
   "outputs": [],
   "source": [
    "#1-2 python program to scrap the products from amazon\n",
    "!pip install selenium"
   ]
  },
  {
   "cell_type": "code",
   "execution_count": null,
   "id": "34738196",
   "metadata": {},
   "outputs": [],
   "source": [
    "import selenium\n",
    "import pandas as pd\n",
    "from selenium import webdriver\n",
    "import warnings\n",
    "warnings.filterwarnings(\"ignore\")\n",
    "import time\n",
    "from time import sleep\n",
    "from selenium.webdriver.common.keys import Keys\n",
    "from selenium.webdriver.support.ui import WebDriverWait\n",
    "from selenium.common.exceptions import NoSuchElementException\n",
    "import requests\n",
    "from bs4 import BeautifulSoup\n"
   ]
  },
  {
   "cell_type": "code",
   "execution_count": null,
   "id": "9db6c418",
   "metadata": {},
   "outputs": [],
   "source": [
    "driver_chrome=webdriver.Chrome(\"chromedriver.exe\")"
   ]
  },
  {
   "cell_type": "code",
   "execution_count": null,
   "id": "9620f837",
   "metadata": {},
   "outputs": [],
   "source": [
    "driver_chrome.get('https://www.amazon.in/')"
   ]
  },
  {
   "cell_type": "code",
   "execution_count": null,
   "id": "98dd0f1e",
   "metadata": {},
   "outputs": [],
   "source": [
    "driver_chrome.maximize_window()"
   ]
  },
  {
   "cell_type": "code",
   "execution_count": null,
   "id": "1888b9ad",
   "metadata": {},
   "outputs": [],
   "source": [
    "amazon_search=driver_chrome.find_element_by_xpath(\"/html/body/div[1]/header/div/div[1]/div[2]/div/form/div[2]/div[1]/input\")\n",
    "amazon_search.send_keys(input('enter the product'))\n"
   ]
  },
  {
   "cell_type": "code",
   "execution_count": null,
   "id": "70d67019",
   "metadata": {},
   "outputs": [],
   "source": [
    "search_button=driver_chrome.find_element_by_xpath(\"/html/body/div[1]/header/div/div[1]/div[2]/div/form/div[3]/div/span/input\")\n",
    "search_button.click()"
   ]
  },
  {
   "cell_type": "code",
   "execution_count": null,
   "id": "93f9db18",
   "metadata": {},
   "outputs": [],
   "source": [
    "brand_name=[]\n",
    "product_description=[]\n",
    "prices_product=[]\n",
    "return_or_exchange=[]\n",
    "expected_delivery=[]\n",
    "avalibilty_product=[]\n",
    "product_url=[]\n",
    "start_link=\"https://www.amazon.in/\""
   ]
  },
  {
   "cell_type": "code",
   "execution_count": null,
   "id": "9edc2b03",
   "metadata": {},
   "outputs": [],
   "source": [
    "url=\"https://www.amazon.in/s?k=guitars&crid=1936J39C3W46P&sprefix=guitars%2Caps%2C572&ref=nb_sb_noss_1\""
   ]
  },
  {
   "cell_type": "code",
   "execution_count": null,
   "id": "672b3f85",
   "metadata": {},
   "outputs": [],
   "source": [
    "req=requests.get(url)"
   ]
  },
  {
   "cell_type": "code",
   "execution_count": null,
   "id": "fa4495e0",
   "metadata": {},
   "outputs": [],
   "source": [
    "content=BeautifulSoup(req.content)\n",
    "content"
   ]
  },
  {
   "cell_type": "code",
   "execution_count": null,
   "id": "65689070",
   "metadata": {},
   "outputs": [],
   "source": [
    "for i in data:\n",
    "    rest_link=i.find('a')['href']\n",
    "    product_url.append(start_link+rest_link)\n",
    "print(product_url)"
   ]
  },
  {
   "cell_type": "code",
   "execution_count": null,
   "id": "3f22bc22",
   "metadata": {},
   "outputs": [],
   "source": [
    "for i in range(3):\n",
    "    urls=driver_chrome.find_elements_by_xpath(\"/html/body/div[1]/div[2]/div[1]/div[1]/div/span[3]/div[2]/div[3]/div/div/div/div/div/div/div[1]/div/span/a\")\n",
    "    urls\n",
    "    "
   ]
  },
  {
   "cell_type": "code",
   "execution_count": null,
   "id": "2d8f0e46",
   "metadata": {},
   "outputs": [],
   "source": [
    "for i in urls:\n",
    "    url=i.get_attribute(href)\n",
    "    product_url.append(url)\n",
    "product_url"
   ]
  },
  {
   "cell_type": "code",
   "execution_count": null,
   "id": "8bd76f87",
   "metadata": {},
   "outputs": [],
   "source": [
    "for i in range(3):\n",
    "    brands=driver_chrome.find_elements_by_xpath(\"//h2[@class='a-size-mini a-spacing-none a-color-base s-line-clamp-2']\")\n",
    "    brands"
   ]
  },
  {
   "cell_type": "code",
   "execution_count": null,
   "id": "9976dffe",
   "metadata": {},
   "outputs": [],
   "source": [
    "for i in brands:\n",
    "    brand=i.text\n",
    "    brand_name.append(brand)\n",
    "brand_name"
   ]
  },
  {
   "cell_type": "code",
   "execution_count": null,
   "id": "1dd103e3",
   "metadata": {},
   "outputs": [],
   "source": [
    "next_button=driver_chrome.find_element_by_xpath(\"/html/body/div[1]/div[2]/div[1]/div[1]/div/span[3]/div[2]/div[66]/div/div/span/a[3]\")\n",
    "next_button.click()"
   ]
  },
  {
   "cell_type": "code",
   "execution_count": null,
   "id": "40f0402b",
   "metadata": {},
   "outputs": [],
   "source": [
    "for i in range(3):\n",
    "    brands=driver_chrome.find_elements_by_xpath(\"//span[@class='a-size-base-plus a-color-base']\")\n",
    "    brands"
   ]
  },
  {
   "cell_type": "code",
   "execution_count": null,
   "id": "5ee426a9",
   "metadata": {},
   "outputs": [],
   "source": [
    "for i in brands:\n",
    "    brand=i.text\n",
    "    brand_name.append(brand)\n",
    "brand_name"
   ]
  },
  {
   "cell_type": "code",
   "execution_count": null,
   "id": "fc33cc45",
   "metadata": {},
   "outputs": [],
   "source": [
    "next_button_1=driver_chrome.find_element_by_xpath(\"/html/body/div[1]/div[2]/div[1]/div[1]/div/span[3]/div[2]/div[67]/div/div/span/a[4]\")\n",
    "next_button_1.click()"
   ]
  },
  {
   "cell_type": "code",
   "execution_count": null,
   "id": "9185c683",
   "metadata": {},
   "outputs": [],
   "source": [
    "for i in range(3):\n",
    "    brands=driver_chrome.find_elements_by_xpath(\"//span[@class='a-size-base-plus a-color-base']\")\n",
    "    brands"
   ]
  },
  {
   "cell_type": "code",
   "execution_count": null,
   "id": "ed69e508",
   "metadata": {},
   "outputs": [],
   "source": [
    "for i in brands:\n",
    "    brand=i.text\n",
    "    brand_name.append(brand)\n",
    "brand_name"
   ]
  },
  {
   "cell_type": "code",
   "execution_count": null,
   "id": "ea06e713",
   "metadata": {},
   "outputs": [],
   "source": [
    "previous_button=driver_chrome.find_element_by_xpath(\"/html/body/div[1]/div[2]/div[1]/div[1]/div/span[3]/div[2]/div[66]/div/div/span/a[3]\")\n",
    "previous_button.click()"
   ]
  },
  {
   "cell_type": "code",
   "execution_count": null,
   "id": "1ba4ae52",
   "metadata": {},
   "outputs": [],
   "source": [
    "previous_button=driver_chrome.find_element_by_xpath(\"/html/body/div[1]/div[2]/div[1]/div[1]/div/span[3]/div[2]/div[67]/div/div/span/a[2]\")\n",
    "previous_button.click()"
   ]
  },
  {
   "cell_type": "code",
   "execution_count": null,
   "id": "a7121074",
   "metadata": {},
   "outputs": [],
   "source": [
    "for i in range(3):\n",
    "    descriptions=driver_chrome.find_elements_by_xpath(\"//span[@class='a-color-information a-text-bold']\")\n",
    "    descriptions"
   ]
  },
  {
   "cell_type": "code",
   "execution_count": null,
   "id": "ceee726f",
   "metadata": {},
   "outputs": [],
   "source": [
    "for i in descriptions:\n",
    "    description=i.text\n",
    "    product_description.append(description)\n",
    "product_description"
   ]
  },
  {
   "cell_type": "code",
   "execution_count": null,
   "id": "e95049ab",
   "metadata": {},
   "outputs": [],
   "source": [
    "next_button=driver_chrome.find_element_by_xpath(\"/html/body/div[1]/div[2]/div[1]/div[1]/div/span[3]/div[2]/div[68]/div/div/span/a[3]\")\n",
    "next_button.click()"
   ]
  },
  {
   "cell_type": "code",
   "execution_count": null,
   "id": "735bb483",
   "metadata": {},
   "outputs": [],
   "source": [
    "for i in range(3):\n",
    "    descriptions=driver_chrome.find_elements_by_xpath(\"//span[@class='a-color-information a-text-bold']\")\n",
    "    descriptions"
   ]
  },
  {
   "cell_type": "code",
   "execution_count": null,
   "id": "d10022ee",
   "metadata": {},
   "outputs": [],
   "source": [
    "for i in descriptions:\n",
    "    description=i.text\n",
    "    product_description.append(description)\n",
    "product_description"
   ]
  },
  {
   "cell_type": "code",
   "execution_count": null,
   "id": "fc4e02e3",
   "metadata": {},
   "outputs": [],
   "source": [
    "next_button_1=driver_chrome.find_element_by_xpath(\"/html/body/div[1]/div[2]/div[1]/div[1]/div/span[3]/div[2]/div[67]/div/div/span/a[4]\")\n",
    "next_button_1.click()"
   ]
  },
  {
   "cell_type": "code",
   "execution_count": null,
   "id": "9aa7263c",
   "metadata": {},
   "outputs": [],
   "source": [
    "for i in range(3):\n",
    "    descriptions=driver_chrome.find_elements_by_xpath(\"//span[@class='a-color-information a-text-bold']\")\n",
    "    descriptions"
   ]
  },
  {
   "cell_type": "code",
   "execution_count": null,
   "id": "927c5cce",
   "metadata": {},
   "outputs": [],
   "source": [
    "for i in descriptions:\n",
    "    description=i.text\n",
    "    product_description.append(description)\n",
    "product_description"
   ]
  },
  {
   "cell_type": "code",
   "execution_count": null,
   "id": "b2f65b71",
   "metadata": {},
   "outputs": [],
   "source": [
    "previous_button=driver_chrome.find_element_by_xpath(\"/html/body/div[1]/div[2]/div[1]/div[1]/div/span[3]/div[2]/div[66]/div/div/span/a[3]\")\n",
    "previous_button.click()"
   ]
  },
  {
   "cell_type": "code",
   "execution_count": null,
   "id": "223a488a",
   "metadata": {},
   "outputs": [],
   "source": [
    "previous_button=driver_chrome.find_element_by_xpath(\"/html/body/div[1]/div[2]/div[1]/div[1]/div/span[3]/div[2]/div[67]/div/div/span/a[2]\")\n",
    "previous_button.click()"
   ]
  },
  {
   "cell_type": "code",
   "execution_count": null,
   "id": "1f4f34dc",
   "metadata": {},
   "outputs": [],
   "source": [
    "for i in range(3):\n",
    "    prices=driver_chrome.find_elements_by_xpath(\"//span[@class='a-price-whole']\")\n",
    "    prices"
   ]
  },
  {
   "cell_type": "code",
   "execution_count": null,
   "id": "cc8ac07b",
   "metadata": {},
   "outputs": [],
   "source": [
    "for i in prices:\n",
    "    price=i.text\n",
    "    prices_product.append(price)\n",
    "prices_product"
   ]
  },
  {
   "cell_type": "code",
   "execution_count": null,
   "id": "a010dcf9",
   "metadata": {},
   "outputs": [],
   "source": [
    "next_button=driver_chrome.find_element_by_xpath(\"/html/body/div[1]/div[2]/div[1]/div[1]/div/span[3]/div[2]/div[69]/div/div/span/a[3]\")\n",
    "next_button.click()"
   ]
  },
  {
   "cell_type": "code",
   "execution_count": null,
   "id": "f6640f1c",
   "metadata": {},
   "outputs": [],
   "source": [
    "for i in range(3):\n",
    "    prices=driver_chrome.find_elements_by_xpath(\"//span[@class='a-price-whole']\")\n",
    "    prices"
   ]
  },
  {
   "cell_type": "code",
   "execution_count": null,
   "id": "4ab11abf",
   "metadata": {},
   "outputs": [],
   "source": [
    "for i in prices:\n",
    "    price=i.text\n",
    "    prices_product.append(price)\n",
    "prices_product"
   ]
  },
  {
   "cell_type": "code",
   "execution_count": null,
   "id": "5516cbfc",
   "metadata": {},
   "outputs": [],
   "source": [
    "next_button_1=driver_chrome.find_element_by_xpath(\"/html/body/div[1]/div[2]/div[1]/div[1]/div/span[3]/div[2]/div[69]/div/div/span/a[4]\")\n",
    "next_button_1.click()"
   ]
  },
  {
   "cell_type": "code",
   "execution_count": null,
   "id": "e76959be",
   "metadata": {},
   "outputs": [],
   "source": [
    "for i in range(3):\n",
    "    prices=driver_chrome.find_elements_by_xpath(\"//span[@class='a-price-whole']\")\n",
    "    prices"
   ]
  },
  {
   "cell_type": "code",
   "execution_count": null,
   "id": "40712131",
   "metadata": {},
   "outputs": [],
   "source": [
    "for i in prices:\n",
    "    price=i.text\n",
    "    prices_product.append(price)\n",
    "prices_product"
   ]
  },
  {
   "cell_type": "code",
   "execution_count": null,
   "id": "02c8f98f",
   "metadata": {},
   "outputs": [],
   "source": [
    "for i in range(3):\n",
    "    expected=driver_chrome.find_elements_by_xpath(\"//span[@class='a-color-base a-text-bold']\")\n",
    "    expected"
   ]
  },
  {
   "cell_type": "code",
   "execution_count": null,
   "id": "5f421a65",
   "metadata": {},
   "outputs": [],
   "source": [
    "for i in expected:\n",
    "    opinion=i.text\n",
    "    expected_delivery.append(opinion)\n",
    "expected_delivery"
   ]
  },
  {
   "cell_type": "code",
   "execution_count": null,
   "id": "a7932498",
   "metadata": {},
   "outputs": [],
   "source": [
    "next_button=driver_chrome.find_element_by_xpath(\"/html/body/div[1]/div[2]/div[1]/div[1]/div/span[3]/div[2]/div[69]/div/div/span/a[3]\")\n",
    "next_button.click()"
   ]
  },
  {
   "cell_type": "code",
   "execution_count": null,
   "id": "0d4cf071",
   "metadata": {},
   "outputs": [],
   "source": [
    "for i in range(3):\n",
    "    expected=driver_chrome.find_elements_by_xpath(\"//span[@class='a-color-base a-text-bold']\")\n",
    "    expected"
   ]
  },
  {
   "cell_type": "code",
   "execution_count": null,
   "id": "f8d21076",
   "metadata": {},
   "outputs": [],
   "source": [
    "for i in expected:\n",
    "    opinion=i.text\n",
    "    expected_delivery.append(opinion)\n",
    "expected_delivery"
   ]
  },
  {
   "cell_type": "code",
   "execution_count": null,
   "id": "cfd38f72",
   "metadata": {},
   "outputs": [],
   "source": [
    "next_button_1=driver_chrome.find_element_by_xpath(\"/html/body/div[1]/div[2]/div[1]/div[1]/div/span[3]/div[2]/div[69]/div/div/span/a[4]\")\n",
    "next_button_1.click()"
   ]
  },
  {
   "cell_type": "code",
   "execution_count": null,
   "id": "559f6572",
   "metadata": {},
   "outputs": [],
   "source": [
    "for i in range(3):\n",
    "    expected=driver_chrome.find_elements_by_xpath(\"//span[@class='a-color-base a-text-bold']\")\n",
    "    expected"
   ]
  },
  {
   "cell_type": "code",
   "execution_count": null,
   "id": "eed8bd8a",
   "metadata": {},
   "outputs": [],
   "source": [
    "for i in expected:\n",
    "    opinion=i.text\n",
    "    expected_delivery.append(opinion)\n",
    "expected_delivery"
   ]
  },
  {
   "cell_type": "code",
   "execution_count": null,
   "id": "30eca0e4",
   "metadata": {},
   "outputs": [],
   "source": [
    "df=pd.DataFrame()\n",
    "df[\"brand_name\"]=brand_name\n",
    "df[\"product_description\"]=product_description\n",
    "df[\"prices_product\"]=prices_product\n",
    "df[\"expected_delivery\"]=expected_delivery\n",
    "df"
   ]
  },
  {
   "cell_type": "code",
   "execution_count": null,
   "id": "0a6401e2",
   "metadata": {},
   "outputs": [],
   "source": [
    "#3 python program to scarp the images from google "
   ]
  },
  {
   "cell_type": "code",
   "execution_count": null,
   "id": "d1bd7e32",
   "metadata": {},
   "outputs": [],
   "source": [
    "!pip install selenium"
   ]
  },
  {
   "cell_type": "code",
   "execution_count": null,
   "id": "3e8760b2",
   "metadata": {},
   "outputs": [],
   "source": [
    "import selenium\n",
    "import pandas as pd\n",
    "from selenium import webdriver\n",
    "import warnings\n",
    "warnings.filterwarnings(\"ignore\")\n",
    "import time\n",
    "import requests\n",
    "from PIL import Image\n",
    "import os\n",
    "import io\n",
    "import urllib\n",
    "from time import sleep\n",
    "from selenium.webdriver.common.keys import Keys\n",
    "from selenium.webdriver.support.ui import WebDriverWait\n",
    "from selenium.common.exceptions import ElementClickInterceptedException"
   ]
  },
  {
   "cell_type": "code",
   "execution_count": null,
   "id": "73088978",
   "metadata": {},
   "outputs": [],
   "source": [
    "driver_chrome=webdriver.Chrome(\"chromedriver.exe\")"
   ]
  },
  {
   "cell_type": "code",
   "execution_count": null,
   "id": "29be6b72",
   "metadata": {},
   "outputs": [],
   "source": [
    "driver_chrome.get('https://images.google.com/')"
   ]
  },
  {
   "cell_type": "code",
   "execution_count": null,
   "id": "ea4ecb4e",
   "metadata": {},
   "outputs": [],
   "source": [
    "driver_chrome.maximize_window()"
   ]
  },
  {
   "cell_type": "code",
   "execution_count": null,
   "id": "4c691992",
   "metadata": {},
   "outputs": [],
   "source": [
    "google_search=driver_chrome.find_element_by_xpath(\"/html/body/div[1]/div[3]/form/div[1]/div[1]/div[1]/div/div[2]/input\")\n",
    "google_search.send_keys(\"fruits\")"
   ]
  },
  {
   "cell_type": "code",
   "execution_count": null,
   "id": "8bdfd7ff",
   "metadata": {},
   "outputs": [],
   "source": [
    "search_button=driver_chrome.find_element_by_xpath(\"/html/body/div[1]/div[3]/form/div[1]/div[1]/div[1]/button/div/span\")\n",
    "search_button.click()"
   ]
  },
  {
   "cell_type": "code",
   "execution_count": null,
   "id": "97125968",
   "metadata": {},
   "outputs": [],
   "source": [
    "fruits_img=[]\n",
    "cars_img=[]\n",
    "mac_learn_img=[]\n",
    "guitars_img=[]\n",
    "cakes_img=[]"
   ]
  },
  {
   "cell_type": "code",
   "execution_count": null,
   "id": "c0923720",
   "metadata": {},
   "outputs": [],
   "source": [
    "fruits=driver_chrome.find_elements_by_xpath(\"//img[@class='rg_i Q4LuWd']\")\n",
    "fruits[0:10]"
   ]
  },
  {
   "cell_type": "code",
   "execution_count": null,
   "id": "2477bf45",
   "metadata": {
    "scrolled": false
   },
   "outputs": [],
   "source": [
    "for image in fruits:\n",
    "    fruit=image.get_attribute('src')\n",
    "    fruits_img.append(fruit)\n",
    "fruits_img[0:10]\n",
    "    "
   ]
  },
  {
   "cell_type": "code",
   "execution_count": null,
   "id": "e3a407b6",
   "metadata": {},
   "outputs": [],
   "source": [
    "driver_chrome=webdriver.Chrome(\"chromedriver.exe\")"
   ]
  },
  {
   "cell_type": "code",
   "execution_count": null,
   "id": "a3b5fe2f",
   "metadata": {},
   "outputs": [],
   "source": [
    "driver_chrome.get('https://images.google.com/')"
   ]
  },
  {
   "cell_type": "code",
   "execution_count": null,
   "id": "080ffbe2",
   "metadata": {},
   "outputs": [],
   "source": [
    "driver_chrome.maximize_window()"
   ]
  },
  {
   "cell_type": "code",
   "execution_count": null,
   "id": "4a1443e4",
   "metadata": {},
   "outputs": [],
   "source": [
    "google_search=driver_chrome.find_element_by_xpath(\"/html/body/div[1]/div[3]/form/div[1]/div[1]/div[1]/div/div[2]/input\")\n",
    "google_search.send_keys(\"cars\")"
   ]
  },
  {
   "cell_type": "code",
   "execution_count": null,
   "id": "732752ad",
   "metadata": {},
   "outputs": [],
   "source": [
    "search_button=driver_chrome.find_element_by_xpath(\"/html/body/div[1]/div[3]/form/div[1]/div[1]/div[1]/button/div/span\")\n",
    "search_button.click()"
   ]
  },
  {
   "cell_type": "code",
   "execution_count": null,
   "id": "efe065ca",
   "metadata": {},
   "outputs": [],
   "source": [
    "cars=driver_chrome.find_elements_by_xpath(\"//img[@class='rg_i Q4LuWd']\")\n",
    "cars[0:10]"
   ]
  },
  {
   "cell_type": "code",
   "execution_count": null,
   "id": "7c64bcd4",
   "metadata": {},
   "outputs": [],
   "source": [
    "for i in cars:\n",
    "    car=i.get_attribute('src')\n",
    "    cars_img.append(car)\n",
    "cars_img[0:10]"
   ]
  },
  {
   "cell_type": "code",
   "execution_count": null,
   "id": "6bf82eb7",
   "metadata": {},
   "outputs": [],
   "source": [
    "driver_chrome=webdriver.Chrome(\"chromedriver.exe\")"
   ]
  },
  {
   "cell_type": "code",
   "execution_count": null,
   "id": "adfa15fb",
   "metadata": {},
   "outputs": [],
   "source": [
    "driver_chrome.get('https://images.google.com/')"
   ]
  },
  {
   "cell_type": "code",
   "execution_count": null,
   "id": "3852d813",
   "metadata": {},
   "outputs": [],
   "source": [
    "driver_chrome.maximize_window()"
   ]
  },
  {
   "cell_type": "code",
   "execution_count": null,
   "id": "99a431f9",
   "metadata": {},
   "outputs": [],
   "source": [
    "google_search=driver_chrome.find_element_by_xpath(\"/html/body/div[1]/div[3]/form/div[1]/div[1]/div[1]/div/div[2]/input\")\n",
    "google_search.send_keys(\"machine learning images\")"
   ]
  },
  {
   "cell_type": "code",
   "execution_count": null,
   "id": "c0f8cb25",
   "metadata": {},
   "outputs": [],
   "source": [
    "search_button=driver_chrome.find_element_by_xpath(\"/html/body/div[1]/div[3]/form/div[1]/div[1]/div[1]/button/div/span\")\n",
    "search_button.click()"
   ]
  },
  {
   "cell_type": "code",
   "execution_count": null,
   "id": "4063d8b9",
   "metadata": {},
   "outputs": [],
   "source": [
    "macs=driver_chrome.find_elements_by_xpath(\"//img[@class='rg_i Q4LuWd']\")\n",
    "macs[0:10]"
   ]
  },
  {
   "cell_type": "code",
   "execution_count": null,
   "id": "f247505e",
   "metadata": {},
   "outputs": [],
   "source": [
    "for i in macs:\n",
    "    mac=i.get_attribute('src')\n",
    "    mac_learn_img.append(mac)\n",
    "mac_learn_img[0:10]"
   ]
  },
  {
   "cell_type": "code",
   "execution_count": null,
   "id": "6cf68a08",
   "metadata": {},
   "outputs": [],
   "source": [
    "driver_chrome=webdriver.Chrome(\"chromedriver.exe\")"
   ]
  },
  {
   "cell_type": "code",
   "execution_count": null,
   "id": "7b93dd09",
   "metadata": {},
   "outputs": [],
   "source": [
    "driver_chrome.get('https://images.google.com/')"
   ]
  },
  {
   "cell_type": "code",
   "execution_count": null,
   "id": "12b52fa3",
   "metadata": {},
   "outputs": [],
   "source": [
    "driver_chrome.maximize_window()"
   ]
  },
  {
   "cell_type": "code",
   "execution_count": null,
   "id": "665af146",
   "metadata": {},
   "outputs": [],
   "source": [
    "google_search=driver_chrome.find_element_by_xpath(\"/html/body/div[1]/div[3]/form/div[1]/div[1]/div[1]/div/div[2]/input\")\n",
    "google_search.send_keys(\"guitars\")"
   ]
  },
  {
   "cell_type": "code",
   "execution_count": null,
   "id": "eed81712",
   "metadata": {},
   "outputs": [],
   "source": [
    "search_button=driver_chrome.find_element_by_xpath(\"/html/body/div[1]/div[3]/form/div[1]/div[1]/div[1]/button/div/span\")\n",
    "search_button.click()"
   ]
  },
  {
   "cell_type": "code",
   "execution_count": null,
   "id": "e3f0fef3",
   "metadata": {},
   "outputs": [],
   "source": [
    "guitars=driver_chrome.find_elements_by_xpath(\"//img[@class='rg_i Q4LuWd']\")\n",
    "guitars[0:10]"
   ]
  },
  {
   "cell_type": "code",
   "execution_count": null,
   "id": "78d20c05",
   "metadata": {},
   "outputs": [],
   "source": [
    "for i in guitars:\n",
    "    guitar=i.get_attribute('src')\n",
    "    guitars_img.append(guitar)\n",
    "guitars_img[0:10]"
   ]
  },
  {
   "cell_type": "code",
   "execution_count": null,
   "id": "36cc6b16",
   "metadata": {},
   "outputs": [],
   "source": [
    "driver_chrome=webdriver.Chrome(\"chromedriver.exe\")"
   ]
  },
  {
   "cell_type": "code",
   "execution_count": null,
   "id": "dcbcd2fb",
   "metadata": {},
   "outputs": [],
   "source": [
    "driver_chrome.get('https://images.google.com/')"
   ]
  },
  {
   "cell_type": "code",
   "execution_count": null,
   "id": "aad0ebc4",
   "metadata": {},
   "outputs": [],
   "source": [
    "driver_chrome.maximize_window()"
   ]
  },
  {
   "cell_type": "code",
   "execution_count": null,
   "id": "113dd508",
   "metadata": {},
   "outputs": [],
   "source": [
    "google_search=driver_chrome.find_element_by_xpath(\"/html/body/div[1]/div[3]/form/div[1]/div[1]/div[1]/div/div[2]/input\")\n",
    "google_search.send_keys(\"cakes\")"
   ]
  },
  {
   "cell_type": "code",
   "execution_count": null,
   "id": "27c6a115",
   "metadata": {},
   "outputs": [],
   "source": [
    "search_button=driver_chrome.find_element_by_xpath(\"/html/body/div[1]/div[3]/form/div[1]/div[1]/div[1]/button/div/span\")\n",
    "search_button.click()"
   ]
  },
  {
   "cell_type": "code",
   "execution_count": null,
   "id": "4f178fb9",
   "metadata": {},
   "outputs": [],
   "source": [
    "cakes=driver_chrome.find_elements_by_xpath(\"//img[@class='rg_i Q4LuWd']\")\n",
    "cakes[0:10]"
   ]
  },
  {
   "cell_type": "code",
   "execution_count": null,
   "id": "70cce495",
   "metadata": {},
   "outputs": [],
   "source": [
    "for i in cakes:\n",
    "    cake=i.get_attribute('src')\n",
    "    cakes_img.append(cake)\n",
    "cakes_img[0:10]"
   ]
  },
  {
   "cell_type": "code",
   "execution_count": null,
   "id": "0de2c9af",
   "metadata": {},
   "outputs": [],
   "source": [
    "#4 python program to scrap from filpkart"
   ]
  },
  {
   "cell_type": "code",
   "execution_count": null,
   "id": "ec0752d1",
   "metadata": {},
   "outputs": [],
   "source": [
    "!pip install selenium"
   ]
  },
  {
   "cell_type": "code",
   "execution_count": null,
   "id": "bf07bf8a",
   "metadata": {},
   "outputs": [],
   "source": [
    "import selenium\n",
    "import pandas as pd\n",
    "from selenium import webdriver\n",
    "import warnings\n",
    "warnings.filterwarnings(\"ignore\")\n",
    "import time\n",
    "from time import sleep\n",
    "import requests\n",
    "from selenium.webdriver.common.keys import Keys\n",
    "from selenium.webdriver.support.ui import WebDriverWait\n",
    "from selenium.common.exceptions import NoSuchElementException\n",
    "from bs4 import BeautifulSoup"
   ]
  },
  {
   "cell_type": "code",
   "execution_count": null,
   "id": "a8c9901a",
   "metadata": {},
   "outputs": [],
   "source": [
    "driver_chrome=webdriver.Chrome(\"chromedriver.exe\")"
   ]
  },
  {
   "cell_type": "code",
   "execution_count": null,
   "id": "7eae24e1",
   "metadata": {},
   "outputs": [],
   "source": [
    "driver_chrome.get('https://www.flipkart.com/')"
   ]
  },
  {
   "cell_type": "code",
   "execution_count": null,
   "id": "7a04cf83",
   "metadata": {},
   "outputs": [],
   "source": [
    "driver_chrome.maximize_window()"
   ]
  },
  {
   "cell_type": "code",
   "execution_count": null,
   "id": "36a77b30",
   "metadata": {},
   "outputs": [],
   "source": [
    "flipkart_search=driver_chrome.find_element_by_xpath(\"/html/body/div/div/div[1]/div[1]/div[2]/div[2]/form/div/div/input\")\n",
    "flipkart_search.send_keys(\"oneplus Nord\")"
   ]
  },
  {
   "cell_type": "code",
   "execution_count": null,
   "id": "513e17ff",
   "metadata": {},
   "outputs": [],
   "source": [
    "search_button=driver_chrome.find_element_by_xpath(\"/html/body/div/div/div[1]/div[1]/div[2]/div[2]/form/div/button\")\n",
    "search_button.click()"
   ]
  },
  {
   "cell_type": "code",
   "execution_count": null,
   "id": "27c31b94",
   "metadata": {},
   "outputs": [],
   "source": [
    "brand_name=[]\n",
    "smartphone_name=[]\n",
    "color_phone=[]\n",
    "ram_and_rom=[]\n",
    "storage_phone=[]\n",
    "primary_camera=[]\n",
    "secondary_camera=[]\n",
    "display_size=[]\n",
    "battery_capacity=[]\n",
    "price_phone=[]\n",
    "product_url=[]\n",
    "detalis_phone=[]\n",
    "start_link=\"https://www.flipkart.com/\""
   ]
  },
  {
   "cell_type": "code",
   "execution_count": null,
   "id": "5bdea1a7",
   "metadata": {},
   "outputs": [],
   "source": [
    "urls=\"https://www.flipkart.com/search?q=oneplus%20Nord&otracker=search&otracker1=search&marketplace=FLIPKART&as-show=off&as=off\""
   ]
  },
  {
   "cell_type": "code",
   "execution_count": null,
   "id": "eb8ecd22",
   "metadata": {},
   "outputs": [],
   "source": [
    "req=requests.get(urls)"
   ]
  },
  {
   "cell_type": "code",
   "execution_count": null,
   "id": "09458005",
   "metadata": {},
   "outputs": [],
   "source": [
    "content=BeautifulSoup(req.content)\n",
    "content"
   ]
  },
  {
   "cell_type": "code",
   "execution_count": null,
   "id": "b9ef738b",
   "metadata": {},
   "outputs": [],
   "source": [
    "data=content.find_all('div',{'class':'_2kHMtA'})"
   ]
  },
  {
   "cell_type": "code",
   "execution_count": null,
   "id": "3cd397a9",
   "metadata": {},
   "outputs": [],
   "source": [
    "for i in data:\n",
    "    rest_link=i.find('a')['href']\n",
    "    names=i.find('div',attrs={'class':'_4rR01T'})\n",
    "    smartphone_name.append(names.text)\n",
    "    product_url.append(start_link+rest_link)\n",
    "    "
   ]
  },
  {
   "cell_type": "code",
   "execution_count": null,
   "id": "da1c18c7",
   "metadata": {},
   "outputs": [],
   "source": [
    "for i in data:\n",
    "    ram_rom=i.find('li',attrs={'class':'rgWa7D'})\n",
    "    ram_and_rom.append(ram.text)\n",
    "    display=i.find('div',attrs={'class':'fMghEO'})\n",
    "    display_size.append(display.text)"
   ]
  },
  {
   "cell_type": "code",
   "execution_count": null,
   "id": "70830617",
   "metadata": {},
   "outputs": [],
   "source": [
    "for i in data:\n",
    "    display=i.find('ul',attrs={'class':'_1xgFaf'})\n",
    "    display_size.append(display.text)"
   ]
  },
  {
   "cell_type": "code",
   "execution_count": null,
   "id": "5d98382e",
   "metadata": {},
   "outputs": [],
   "source": [
    "print(smartphone_name)\n",
    "print(product_url)\n",
    "print(ram_and_rom)\n",
    "print(display)"
   ]
  },
  {
   "cell_type": "code",
   "execution_count": null,
   "id": "271937f3",
   "metadata": {},
   "outputs": [],
   "source": [
    "details=driver_chrome.find_elements_by_xpath(\"//li[@class='rgWa7D']\")\n",
    "details"
   ]
  },
  {
   "cell_type": "code",
   "execution_count": null,
   "id": "7e289e5c",
   "metadata": {},
   "outputs": [],
   "source": [
    "for i in details:\n",
    "    de=i.text\n",
    "    detalis_phone.append(de)\n",
    "detalis_phone"
   ]
  },
  {
   "cell_type": "code",
   "execution_count": null,
   "id": "23755117",
   "metadata": {},
   "outputs": [],
   "source": [
    "df=pd.DataFrame()\n",
    "\n",
    "df[\"detalis_phone\"]=detalis_phone\n",
    "df"
   ]
  },
  {
   "cell_type": "code",
   "execution_count": null,
   "id": "746997fe",
   "metadata": {},
   "outputs": [],
   "source": [
    "df.to_csv('mobilephones_data.csv')"
   ]
  },
  {
   "cell_type": "code",
   "execution_count": null,
   "id": "d5b978df",
   "metadata": {},
   "outputs": [],
   "source": [
    "#5 python program to scrap from google maps"
   ]
  },
  {
   "cell_type": "code",
   "execution_count": null,
   "id": "1a1636ae",
   "metadata": {},
   "outputs": [],
   "source": [
    "!pip install selenium"
   ]
  },
  {
   "cell_type": "code",
   "execution_count": null,
   "id": "dc6bb139",
   "metadata": {},
   "outputs": [],
   "source": [
    "import selenium\n",
    "import pandas as pd\n",
    "from selenium import webdriver\n",
    "import warnings\n",
    "warnings.filterwarnings(\"ignore\")\n",
    "import time\n",
    "from time import sleep\n",
    "from selenium.webdriver.common.keys import Keys\n",
    "from selenium.webdriver.support.ui import WebDriverWait\n",
    "from selenium.common.exceptions import NoSuchElementException"
   ]
  },
  {
   "cell_type": "code",
   "execution_count": null,
   "id": "6ac4e023",
   "metadata": {},
   "outputs": [],
   "source": [
    "driver_chrome=webdriver.Chrome(\"chromedriver.exe\")"
   ]
  },
  {
   "cell_type": "code",
   "execution_count": null,
   "id": "e93222ee",
   "metadata": {},
   "outputs": [],
   "source": [
    "driver_chrome.get('https://www.google.com/maps/')"
   ]
  },
  {
   "cell_type": "code",
   "execution_count": null,
   "id": "bff3c413",
   "metadata": {},
   "outputs": [],
   "source": [
    "driver_chrome.maximize_window()"
   ]
  },
  {
   "cell_type": "code",
   "execution_count": null,
   "id": "e2d32751",
   "metadata": {},
   "outputs": [],
   "source": [
    "google_search=driver_chrome.find_element_by_xpath(\"/html/body/div[3]/div[9]/div[3]/div[1]/div[1]/div[1]/div[2]/form/div[2]/div[3]/div/input[1]\")\n",
    "google_search.send_keys(\"dharmaram(B)\")"
   ]
  },
  {
   "cell_type": "code",
   "execution_count": null,
   "id": "df30e61d",
   "metadata": {},
   "outputs": [],
   "source": [
    "search_button=driver_chrome.find_element_by_xpath(\"/html/body/div[3]/div[9]/div[3]/div[1]/div[1]/div[1]/div[2]/div[1]/button\")\n",
    "search_button.click()\n",
    "time.sleep(3)"
   ]
  },
  {
   "cell_type": "code",
   "execution_count": null,
   "id": "faa5684b",
   "metadata": {},
   "outputs": [],
   "source": [
    "latitude_and_longitude=[]\n",
    "time.sleep(4)"
   ]
  },
  {
   "cell_type": "code",
   "execution_count": null,
   "id": "6c541739",
   "metadata": {},
   "outputs": [],
   "source": [
    "lat_and_long=driver_chrome.find_elements_by_xpath(\"//button[@class='ZqLNQd t9f27']\")\n",
    "lat_and_long\n",
    "time.sleep(3)"
   ]
  },
  {
   "cell_type": "code",
   "execution_count": null,
   "id": "ee4c0949",
   "metadata": {},
   "outputs": [],
   "source": [
    "for i in lat_and_long:\n",
    "    lat=i.text\n",
    "    latitude_and_longitude.append(lat)\n",
    "latitude_and_longitude"
   ]
  },
  {
   "cell_type": "code",
   "execution_count": null,
   "id": "f16dfdb4",
   "metadata": {},
   "outputs": [],
   "source": [
    "#6 python program to scrap funding deals"
   ]
  },
  {
   "cell_type": "code",
   "execution_count": null,
   "id": "8adcc1a2",
   "metadata": {},
   "outputs": [],
   "source": [
    "!pip install selenium"
   ]
  },
  {
   "cell_type": "code",
   "execution_count": null,
   "id": "36158a3d",
   "metadata": {},
   "outputs": [],
   "source": [
    "import selenium\n",
    "import pandas as pd\n",
    "from selenium import webdriver\n",
    "import warnings\n",
    "warnings.filterwarnings(\"ignore\")\n",
    "import time\n",
    "from time import sleep\n",
    "from selenium.webdriver.common.keys import Keys\n",
    "from selenium.webdriver.support.ui import WebDriverWait\n",
    "from selenium.common.exceptions import NoSuchElementException"
   ]
  },
  {
   "cell_type": "code",
   "execution_count": null,
   "id": "a48b7b35",
   "metadata": {},
   "outputs": [],
   "source": [
    "driver_chrome=webdriver.Chrome(\"chromedriver.exe\")"
   ]
  },
  {
   "cell_type": "code",
   "execution_count": null,
   "id": "442ec0cc",
   "metadata": {},
   "outputs": [],
   "source": [
    "driver_chrome.get('https://trak.in/india-startup-funding-investment-2015/')"
   ]
  },
  {
   "cell_type": "code",
   "execution_count": null,
   "id": "e2bd0a9e",
   "metadata": {},
   "outputs": [],
   "source": [
    "driver_chrome.maximize_window()"
   ]
  },
  {
   "cell_type": "code",
   "execution_count": null,
   "id": "c17b521f",
   "metadata": {},
   "outputs": [],
   "source": [
    "\n",
    "date_funding=[]\n",
    "startup_name=[]\n",
    "industry_vertical=[]\n",
    "sub_vertical=[]\n",
    "city_funding=[]\n",
    "investors_name=[]\n",
    "investors_type=[]\n",
    "amount_funding=[]\n"
   ]
  },
  {
   "cell_type": "code",
   "execution_count": null,
   "id": "f75012bc",
   "metadata": {},
   "outputs": [],
   "source": [
    "dates=driver_chrome.find_elements_by_xpath(\"//td[@class='column-2']\")\n",
    "dates"
   ]
  },
  {
   "cell_type": "code",
   "execution_count": null,
   "id": "d751c4c0",
   "metadata": {},
   "outputs": [],
   "source": [
    "for i in dates:\n",
    "    date=i.text\n",
    "    date_funding.append(date)\n",
    "date_funding"
   ]
  },
  {
   "cell_type": "code",
   "execution_count": null,
   "id": "c4dcc4c0",
   "metadata": {},
   "outputs": [],
   "source": [
    "starts=driver_chrome.find_elements_by_xpath(\"//td[@class='column-3']\")\n",
    "starts"
   ]
  },
  {
   "cell_type": "code",
   "execution_count": null,
   "id": "f4a0f6e7",
   "metadata": {},
   "outputs": [],
   "source": [
    "for i in starts:\n",
    "    start=i.text\n",
    "    startup_name.append(start)\n",
    "startup_name"
   ]
  },
  {
   "cell_type": "code",
   "execution_count": null,
   "id": "53eb5bb0",
   "metadata": {},
   "outputs": [],
   "source": [
    "ind_ver=driver_chrome.find_elements_by_xpath(\"//td[@class='column-4']\")\n",
    "ind_ver"
   ]
  },
  {
   "cell_type": "code",
   "execution_count": null,
   "id": "fafa054e",
   "metadata": {},
   "outputs": [],
   "source": [
    "for i in ind_ver:\n",
    "    ind=i.text\n",
    "    industry_vertical.append(ind)\n",
    "industry_vertical"
   ]
  },
  {
   "cell_type": "code",
   "execution_count": null,
   "id": "db5ba878",
   "metadata": {},
   "outputs": [],
   "source": [
    "sub_ver=driver_chrome.find_elements_by_xpath(\"//td[@class='column-5']\")\n",
    "sub_ver"
   ]
  },
  {
   "cell_type": "code",
   "execution_count": null,
   "id": "ce864fe0",
   "metadata": {},
   "outputs": [],
   "source": [
    "for i in sub_ver:\n",
    "    sub=i.text\n",
    "    sub_vertical.append(sub)\n",
    "sub_vertical"
   ]
  },
  {
   "cell_type": "code",
   "execution_count": null,
   "id": "029c848f",
   "metadata": {},
   "outputs": [],
   "source": [
    "cities=driver_chrome.find_elements_by_xpath(\"//td[@class='column-6']\")\n",
    "cities"
   ]
  },
  {
   "cell_type": "code",
   "execution_count": null,
   "id": "f8d2fb24",
   "metadata": {},
   "outputs": [],
   "source": [
    "for i in cities:\n",
    "    city=i.text\n",
    "    city_funding.append(city)\n",
    "city_funding"
   ]
  },
  {
   "cell_type": "code",
   "execution_count": null,
   "id": "faea0388",
   "metadata": {},
   "outputs": [],
   "source": [
    "inv_names=driver_chrome.find_elements_by_xpath(\"//td[@class='column-7']\")\n",
    "inv_names"
   ]
  },
  {
   "cell_type": "code",
   "execution_count": null,
   "id": "692e6466",
   "metadata": {},
   "outputs": [],
   "source": [
    "for i in inv_names:\n",
    "    in_n=i.text\n",
    "    investors_name.append(in_n)\n",
    "investors_name"
   ]
  },
  {
   "cell_type": "code",
   "execution_count": null,
   "id": "b2ba976a",
   "metadata": {},
   "outputs": [],
   "source": [
    "inv_type=driver_chrome.find_elements_by_xpath(\"//td[@class='column-8']\")\n",
    "inv_type"
   ]
  },
  {
   "cell_type": "code",
   "execution_count": null,
   "id": "98ede2cc",
   "metadata": {},
   "outputs": [],
   "source": [
    "for i in inv_type:\n",
    "    in_t=i.text\n",
    "    investors_type.append(in_t)\n",
    "investors_type"
   ]
  },
  {
   "cell_type": "code",
   "execution_count": null,
   "id": "a570c28a",
   "metadata": {},
   "outputs": [],
   "source": [
    "amounts=driver_chrome.find_elements_by_xpath(\"//td[@class='column-9']\")\n",
    "amounts"
   ]
  },
  {
   "cell_type": "code",
   "execution_count": null,
   "id": "07b83674",
   "metadata": {},
   "outputs": [],
   "source": [
    "for i in amounts:\n",
    "    amo=i.text\n",
    "    amount_funding.append(amo)\n",
    "amount_funding"
   ]
  },
  {
   "cell_type": "code",
   "execution_count": null,
   "id": "96741cb8",
   "metadata": {},
   "outputs": [],
   "source": [
    "df=pd.DataFrame()\n",
    "df[\"date\"]=date_funding\n",
    "df[\"startup\"]=startup_name\n",
    "df[\"industry_vertical\"]=industry_vertical\n",
    "df[\"sub_vertical\"]=sub_vertical\n",
    "df[\"city\"]=city_funding\n",
    "df[\"investors_name\"]=investors_name\n",
    "df[\"investors_type\"]=investors_type\n",
    "df[\"amount\"]=amount_funding"
   ]
  },
  {
   "cell_type": "code",
   "execution_count": null,
   "id": "006e0573",
   "metadata": {},
   "outputs": [],
   "source": [
    "df.head(29)"
   ]
  },
  {
   "cell_type": "code",
   "execution_count": null,
   "id": "16b9cec0",
   "metadata": {},
   "outputs": [],
   "source": [
    "# 7 python program to scarp from digit.in"
   ]
  },
  {
   "cell_type": "code",
   "execution_count": null,
   "id": "ae4815cf",
   "metadata": {},
   "outputs": [],
   "source": [
    "!pip install selenium"
   ]
  },
  {
   "cell_type": "code",
   "execution_count": null,
   "id": "fcdcd166",
   "metadata": {},
   "outputs": [],
   "source": [
    "import selenium\n",
    "import pandas as pd\n",
    "from selenium import webdriver\n",
    "import warnings\n",
    "warnings.filterwarnings(\"ignore\")\n",
    "import time\n",
    "from time import sleep\n",
    "from selenium.webdriver.common.keys import Keys\n",
    "from selenium.webdriver.support.ui import WebDriverWait\n",
    "from selenium.common.exceptions import NoSuchElementException"
   ]
  },
  {
   "cell_type": "code",
   "execution_count": null,
   "id": "dbc59ef1",
   "metadata": {},
   "outputs": [],
   "source": [
    "driver_chrome=webdriver.Chrome(\"chromedriver.exe\")"
   ]
  },
  {
   "cell_type": "code",
   "execution_count": null,
   "id": "693203be",
   "metadata": {},
   "outputs": [],
   "source": [
    "driver_chrome.get('https://www.digit.in/top-products/best-gaming-laptops-40.html')"
   ]
  },
  {
   "cell_type": "code",
   "execution_count": null,
   "id": "1abe8b74",
   "metadata": {},
   "outputs": [],
   "source": [
    "driver_chrome.maximize_window()"
   ]
  },
  {
   "cell_type": "code",
   "execution_count": null,
   "id": "c81105a0",
   "metadata": {},
   "outputs": [],
   "source": [
    "laptop_name=[]\n",
    "seller_name=[]\n",
    "price_lap=[]\n",
    "specfications_lap=[]"
   ]
  },
  {
   "cell_type": "code",
   "execution_count": null,
   "id": "ecc77c05",
   "metadata": {},
   "outputs": [],
   "source": [
    "names=driver_chrome.find_elements_by_xpath(\"//td[@class='MSI Raider GE76']\")\n",
    "names"
   ]
  },
  {
   "cell_type": "code",
   "execution_count": null,
   "id": "40da4030",
   "metadata": {},
   "outputs": [],
   "source": [
    "for i in names:\n",
    "    name=i.text\n",
    "    laptop_name.append(name)\n",
    "laptop_name"
   ]
  },
  {
   "cell_type": "code",
   "execution_count": null,
   "id": "93b375c5",
   "metadata": {},
   "outputs": [],
   "source": [
    "sellers=driver_chrome.find_elements_by_xpath(\"//td[@class='smmerchant']\")\n",
    "sellers"
   ]
  },
  {
   "cell_type": "code",
   "execution_count": null,
   "id": "2359acd4",
   "metadata": {},
   "outputs": [],
   "source": [
    "for i in sellers:\n",
    "    sell=i.text\n",
    "    seller_name.append(sell)\n",
    "seller_name"
   ]
  },
  {
   "cell_type": "code",
   "execution_count": null,
   "id": "2b3a4083",
   "metadata": {},
   "outputs": [],
   "source": [
    "prices=driver_chrome.find_elements_by_xpath(\"//td[@class='smprice']\")\n",
    "prices"
   ]
  },
  {
   "cell_type": "code",
   "execution_count": null,
   "id": "bff1c976",
   "metadata": {},
   "outputs": [],
   "source": [
    "for i in prices:\n",
    "    price=i.text\n",
    "    price_lap.append(price)\n",
    "price_lap"
   ]
  },
  {
   "cell_type": "code",
   "execution_count": null,
   "id": "d71f5df9",
   "metadata": {},
   "outputs": [],
   "source": [
    "specs=driver_chrome.find_elements_by_xpath(\"//div[@class='Spcs-details']\")\n",
    "specs"
   ]
  },
  {
   "cell_type": "code",
   "execution_count": null,
   "id": "d3c59b21",
   "metadata": {},
   "outputs": [],
   "source": [
    "for i in specs:\n",
    "    sp=i.text\n",
    "    specfications_lap.append(sp)\n",
    "specfications_lap"
   ]
  },
  {
   "cell_type": "code",
   "execution_count": null,
   "id": "e7d3d680",
   "metadata": {},
   "outputs": [],
   "source": [
    "df1=pd.DataFrame()\n",
    "df1[\"seller\"]=seller_name\n",
    "df1[\"prices\"]=price_lap\n",
    "df1[\"specifications\"]=specfications_lap\n",
    "df1"
   ]
  },
  {
   "cell_type": "code",
   "execution_count": null,
   "id": "a2b3afd4",
   "metadata": {},
   "outputs": [],
   "source": [
    "#8 python program to scarp from forbes"
   ]
  },
  {
   "cell_type": "code",
   "execution_count": null,
   "id": "ca25e3d2",
   "metadata": {},
   "outputs": [],
   "source": [
    "!pip install selenium"
   ]
  },
  {
   "cell_type": "code",
   "execution_count": null,
   "id": "eaa4d669",
   "metadata": {},
   "outputs": [],
   "source": [
    "import selenium\n",
    "import pandas as pd\n",
    "from selenium import webdriver\n",
    "import warnings\n",
    "warnings.filterwarnings(\"ignore\")\n",
    "import time\n",
    "from time import sleep\n",
    "from selenium.webdriver.common.keys import Keys\n",
    "from selenium.webdriver.support.ui import WebDriverWait\n",
    "from selenium.common.exceptions import NoSuchElementException"
   ]
  },
  {
   "cell_type": "code",
   "execution_count": null,
   "id": "ee987f87",
   "metadata": {},
   "outputs": [],
   "source": [
    "driver_chrome=webdriver.Chrome(\"chromedriver.exe\")"
   ]
  },
  {
   "cell_type": "code",
   "execution_count": null,
   "id": "e1b85ce9",
   "metadata": {},
   "outputs": [],
   "source": [
    "driver_chrome.get('https://www.forbes.com/billionaires/')"
   ]
  },
  {
   "cell_type": "code",
   "execution_count": null,
   "id": "2b5cf355",
   "metadata": {},
   "outputs": [],
   "source": [
    "driver_chrome.maximize_window()"
   ]
  },
  {
   "cell_type": "code",
   "execution_count": null,
   "id": "a29e22ed",
   "metadata": {},
   "outputs": [],
   "source": [
    "rank_forbes=[]\n",
    "name_persons=[]\n",
    "net_worth=[]\n",
    "age_persons=[]\n",
    "citizenships=[]\n",
    "source_forbes=[]\n",
    "industry_person=[]"
   ]
  },
  {
   "cell_type": "code",
   "execution_count": null,
   "id": "634815e6",
   "metadata": {},
   "outputs": [],
   "source": [
    "ranks=driver_chrome.find_elements_by_xpath(\"//div[@class='rank']\")\n",
    "ranks"
   ]
  },
  {
   "cell_type": "code",
   "execution_count": null,
   "id": "c655f807",
   "metadata": {},
   "outputs": [],
   "source": [
    "for i in ranks:\n",
    "    rank=i.text\n",
    "    rank_forbes.append(rank)\n",
    "rank_forbes[0:100]"
   ]
  },
  {
   "cell_type": "code",
   "execution_count": null,
   "id": "799a25e9",
   "metadata": {},
   "outputs": [],
   "source": [
    "names=driver_chrome.find_elements_by_xpath(\"//div[@class='personName']\")\n",
    "names"
   ]
  },
  {
   "cell_type": "code",
   "execution_count": null,
   "id": "5dedf84f",
   "metadata": {},
   "outputs": [],
   "source": [
    "for i in names:\n",
    "    name=i.text\n",
    "    name_persons.append(name)\n",
    "name_persons[0:100]"
   ]
  },
  {
   "cell_type": "code",
   "execution_count": null,
   "id": "91bc25af",
   "metadata": {},
   "outputs": [],
   "source": [
    "net=driver_chrome.find_elements_by_xpath(\"//div[@class='netWorth']\")\n",
    "net"
   ]
  },
  {
   "cell_type": "code",
   "execution_count": null,
   "id": "8775b00f",
   "metadata": {},
   "outputs": [],
   "source": [
    "for i in net:\n",
    "    amount=i.text\n",
    "    net_worth.append(amount)\n",
    "net_worth[0:100]"
   ]
  },
  {
   "cell_type": "code",
   "execution_count": null,
   "id": "d1296a24",
   "metadata": {},
   "outputs": [],
   "source": [
    "ages=driver_chrome.find_elements_by_xpath(\"//div[@class='age']\")\n",
    "ages"
   ]
  },
  {
   "cell_type": "code",
   "execution_count": null,
   "id": "8fb51ff8",
   "metadata": {},
   "outputs": [],
   "source": [
    "for i in ages:\n",
    "    age=i.text\n",
    "    age_persons.append(age)\n",
    "age_persons[0:100]"
   ]
  },
  {
   "cell_type": "code",
   "execution_count": null,
   "id": "f3327109",
   "metadata": {},
   "outputs": [],
   "source": [
    "citizens=driver_chrome.find_elements_by_xpath(\"//div[@class='countryOfCitizenship']\")\n",
    "citizens"
   ]
  },
  {
   "cell_type": "code",
   "execution_count": null,
   "id": "c61da121",
   "metadata": {},
   "outputs": [],
   "source": [
    "for i in citizens:\n",
    "    citizen=i.text\n",
    "    citizenships.append(citizen)\n",
    "citizenships[0:100]"
   ]
  },
  {
   "cell_type": "code",
   "execution_count": null,
   "id": "62840cee",
   "metadata": {},
   "outputs": [],
   "source": [
    "sources=driver_chrome.find_elements_by_xpath(\"//span[@class='source-text']\")\n",
    "sources"
   ]
  },
  {
   "cell_type": "code",
   "execution_count": null,
   "id": "4c9fe897",
   "metadata": {},
   "outputs": [],
   "source": [
    "for i in sources:\n",
    "    source=i.text\n",
    "    source_forbes.append(source)\n",
    "source_forbes[0:100]"
   ]
  },
  {
   "cell_type": "code",
   "execution_count": null,
   "id": "3d25109a",
   "metadata": {},
   "outputs": [],
   "source": [
    "industries=driver_chrome.find_elements_by_xpath(\"//div[@class='category']\")\n",
    "industries"
   ]
  },
  {
   "cell_type": "code",
   "execution_count": null,
   "id": "b328411b",
   "metadata": {},
   "outputs": [],
   "source": [
    "for i in industries:\n",
    "    industry=i.text\n",
    "    industry_person.append(industry)\n",
    "industry_person[0:100]"
   ]
  },
  {
   "cell_type": "code",
   "execution_count": null,
   "id": "00afc481",
   "metadata": {},
   "outputs": [],
   "source": [
    "df=pd.DataFrame()\n",
    "df[\"ranks\"]=rank_forbes\n",
    "df[\"names\"]=name_persons\n",
    "df[\"net_worth\"]=net_worth\n",
    "df[\"ages\"]=age_persons\n",
    "df[\"citizenship\"]=citizenships\n",
    "df[\"source\"]=source_forbes\n",
    "df[\"industry\"]=industry_person"
   ]
  },
  {
   "cell_type": "code",
   "execution_count": null,
   "id": "1b0d907a",
   "metadata": {},
   "outputs": [],
   "source": [
    "df\n"
   ]
  },
  {
   "cell_type": "code",
   "execution_count": null,
   "id": "4b5ef0a4",
   "metadata": {},
   "outputs": [],
   "source": [
    "df.to_csv('billionaires_data.csv')"
   ]
  },
  {
   "cell_type": "code",
   "execution_count": null,
   "id": "519515e1",
   "metadata": {},
   "outputs": [],
   "source": [
    "#9 python progarm to scarp from youtube"
   ]
  },
  {
   "cell_type": "code",
   "execution_count": null,
   "id": "8e4da63a",
   "metadata": {},
   "outputs": [],
   "source": [
    "!pip install selenium"
   ]
  },
  {
   "cell_type": "code",
   "execution_count": null,
   "id": "d9c03b0d",
   "metadata": {},
   "outputs": [],
   "source": [
    "import selenium\n",
    "import pandas as pd\n",
    "from selenium import webdriver\n",
    "import warnings\n",
    "warnings.filterwarnings(\"ignore\")\n",
    "import time\n",
    "from time import sleep\n",
    "from selenium.webdriver.common.keys import Keys\n",
    "from selenium.webdriver.support.ui import WebDriverWait\n",
    "from selenium.common.exceptions import NoSuchElementException"
   ]
  },
  {
   "cell_type": "code",
   "execution_count": null,
   "id": "edb6ff5b",
   "metadata": {},
   "outputs": [],
   "source": [
    "driver_chrome=webdriver.Chrome(\"chromedriver.exe\")"
   ]
  },
  {
   "cell_type": "code",
   "execution_count": null,
   "id": "f84ed2e0",
   "metadata": {},
   "outputs": [],
   "source": [
    "driver_chrome.get('https://www.youtube.com/')"
   ]
  },
  {
   "cell_type": "code",
   "execution_count": null,
   "id": "96f84def",
   "metadata": {},
   "outputs": [],
   "source": [
    "driver_chrome.maximize_window()"
   ]
  },
  {
   "cell_type": "code",
   "execution_count": null,
   "id": "4c7b1448",
   "metadata": {},
   "outputs": [],
   "source": [
    "search=driver_chrome.find_element_by_xpath(\"/html/body/ytd-app/div[1]/div/ytd-masthead/div[3]/div[2]/ytd-searchbox/form/div[1]/div[1]/input\")\n",
    "search.send_keys(\"rrr movir tralier\")\n",
    "time.sleep(2)"
   ]
  },
  {
   "cell_type": "code",
   "execution_count": null,
   "id": "57a0e728",
   "metadata": {},
   "outputs": [],
   "source": [
    "search_button=driver_chrome.find_element_by_xpath(\"/html/body/ytd-app/div[1]/div/ytd-masthead/div[3]/div[2]/ytd-searchbox/button/yt-icon\")\n",
    "search_button.click()"
   ]
  },
  {
   "cell_type": "code",
   "execution_count": null,
   "id": "bd6b460e",
   "metadata": {},
   "outputs": [],
   "source": [
    "click_video=driver_chrome.find_element_by_xpath(\"/html/body/ytd-app/div[1]/ytd-page-manager/ytd-search/div[1]/ytd-two-column-search-results-renderer/div/ytd-section-list-renderer/div[2]/ytd-item-section-renderer/div[3]/ytd-video-renderer[1]/div[1]/div/div[1]/div/h3/a\")\n",
    "click_video.click()\n",
    "time.sleep(15)"
   ]
  },
  {
   "cell_type": "code",
   "execution_count": null,
   "id": "a04358bb",
   "metadata": {},
   "outputs": [],
   "source": [
    "comments_rrr=[]\n",
    "comment_upvote=[]\n",
    "time_posted=[]"
   ]
  },
  {
   "cell_type": "code",
   "execution_count": null,
   "id": "7b84a466",
   "metadata": {},
   "outputs": [],
   "source": [
    "comments=driver_chrome.find_elements_by_xpath(\"//yt-formatted-string[@class='style-scope ytd-comment-renderer']\")\n",
    "comments[0:500]"
   ]
  },
  {
   "cell_type": "code",
   "execution_count": null,
   "id": "3a1c3382",
   "metadata": {},
   "outputs": [],
   "source": [
    "for i in comments:\n",
    "    comment=i.text\n",
    "    comments_rrr.append(comment)\n",
    "comments_rrr[0:500]"
   ]
  },
  {
   "cell_type": "code",
   "execution_count": null,
   "id": "16023e8e",
   "metadata": {},
   "outputs": [],
   "source": [
    "commentsup=driver_chrome.find_elements_by_xpath(\"//yt-icon[@class='style-scope ytd-toggle-button-renderer']\")\n",
    "commentsup[0:500]"
   ]
  },
  {
   "cell_type": "code",
   "execution_count": null,
   "id": "d4ea73e6",
   "metadata": {},
   "outputs": [],
   "source": [
    "for i in commentsup:\n",
    "    commentu=i.text\n",
    "    comment_upvote.append(commentu)\n",
    "comment_upvote[0:500]"
   ]
  },
  {
   "cell_type": "code",
   "execution_count": null,
   "id": "959ea017",
   "metadata": {},
   "outputs": [],
   "source": [
    "commentstime=driver_chrome.find_elements_by_xpath(\"//a[@class='yt-simple-endpoint style-scope yt-formatted-string']\")\n",
    "commentstime[0:500]"
   ]
  },
  {
   "cell_type": "code",
   "execution_count": null,
   "id": "608b1d20",
   "metadata": {},
   "outputs": [],
   "source": [
    "for i in commentstime:\n",
    "    commentt=i.text\n",
    "    time_posted.append(commentt)\n",
    "time_posted[0:500]"
   ]
  },
  {
   "cell_type": "code",
   "execution_count": null,
   "id": "a43bc11c",
   "metadata": {},
   "outputs": [],
   "source": [
    "# 10 python program to scrap from hostelsworld website"
   ]
  },
  {
   "cell_type": "code",
   "execution_count": null,
   "id": "d77917ed",
   "metadata": {},
   "outputs": [],
   "source": [
    "!pip install selenium"
   ]
  },
  {
   "cell_type": "code",
   "execution_count": null,
   "id": "8788c803",
   "metadata": {},
   "outputs": [],
   "source": [
    "import selenium\n",
    "import pandas as pd\n",
    "import numpy as np\n",
    "from selenium import webdriver\n",
    "import warnings\n",
    "warnings.filterwarnings(\"ignore\")\n",
    "import time\n",
    "from time import sleep\n",
    "from selenium.webdriver.common.keys import Keys\n",
    "from selenium.webdriver.support.ui import WebDriverWait\n",
    "from selenium.common.exceptions import NoSuchElementException"
   ]
  },
  {
   "cell_type": "code",
   "execution_count": null,
   "id": "5304f4c1",
   "metadata": {},
   "outputs": [],
   "source": [
    "driver_chrome=webdriver.Chrome(\"chromedriver.exe\")"
   ]
  },
  {
   "cell_type": "code",
   "execution_count": null,
   "id": "5a2ee363",
   "metadata": {},
   "outputs": [],
   "source": [
    "driver_chrome.get('https://www.hostelworld.com/s?q=London,%20England&country=England&city=London&type=city&id=3&from=2022-06-29&to=2022-07-02&guests=2&HostelNumber=&page=1')"
   ]
  },
  {
   "cell_type": "code",
   "execution_count": null,
   "id": "2b3cac46",
   "metadata": {},
   "outputs": [],
   "source": [
    "driver_chrome.maximize_window()"
   ]
  },
  {
   "cell_type": "code",
   "execution_count": null,
   "id": "f677b87f",
   "metadata": {},
   "outputs": [],
   "source": [
    "hostel_names=[]\n",
    "distance_city=[]\n",
    "ratings_hostel=[]\n",
    "total_reviews=[]\n",
    "overall_reviews=[]\n",
    "privates_from_price=[]\n",
    "dorms_from_price=[]\n",
    "facilities_hostel=[]\n",
    "property_description=[]"
   ]
  },
  {
   "cell_type": "code",
   "execution_count": null,
   "id": "38080753",
   "metadata": {},
   "outputs": [],
   "source": [
    "hostels=driver_chrome.find_elements_by_xpath(\"//h2[@class='title title-6']\")\n",
    "hostels"
   ]
  },
  {
   "cell_type": "code",
   "execution_count": null,
   "id": "90bdf9d2",
   "metadata": {},
   "outputs": [],
   "source": [
    "for i in hostels:\n",
    "    hostel=i.text\n",
    "    hostel_names.append(hostel)\n",
    "hostel_names"
   ]
  },
  {
   "cell_type": "code",
   "execution_count": null,
   "id": "7d517eb1",
   "metadata": {},
   "outputs": [],
   "source": [
    "distance=driver_chrome.find_elements_by_xpath(\"//span[@class='description']\")\n",
    "distance"
   ]
  },
  {
   "cell_type": "code",
   "execution_count": null,
   "id": "040f69a2",
   "metadata": {},
   "outputs": [],
   "source": [
    "for i in distance:\n",
    "    dis=i.text\n",
    "    distance_city.append(dis)\n",
    "distance_city"
   ]
  },
  {
   "cell_type": "code",
   "execution_count": null,
   "id": "ab8f3005",
   "metadata": {},
   "outputs": [],
   "source": [
    "rating=driver_chrome.find_elements_by_xpath(\"//div[@class='score orange big']\")\n",
    "rating"
   ]
  },
  {
   "cell_type": "code",
   "execution_count": null,
   "id": "e645720c",
   "metadata": {},
   "outputs": [],
   "source": [
    "for i in rating:\n",
    "    rate=i.text\n",
    "    ratings_hostel.append(rate)\n",
    "ratings_hostel"
   ]
  },
  {
   "cell_type": "code",
   "execution_count": null,
   "id": "a43ca046",
   "metadata": {},
   "outputs": [],
   "source": [
    "tot_reviews=driver_chrome.find_elements_by_xpath(\"//div[@class='reviews']\")\n",
    "tot_reviews"
   ]
  },
  {
   "cell_type": "code",
   "execution_count": null,
   "id": "1fd0382d",
   "metadata": {},
   "outputs": [],
   "source": [
    "for i in tot_reviews:\n",
    "    total=i.text\n",
    "    total_reviews.append(total)\n",
    "total_reviews"
   ]
  },
  {
   "cell_type": "code",
   "execution_count": null,
   "id": "498f0140",
   "metadata": {},
   "outputs": [],
   "source": [
    "overall=driver_chrome.find_elements_by_xpath(\"//div[@class='keyword']\")\n",
    "overall"
   ]
  },
  {
   "cell_type": "code",
   "execution_count": null,
   "id": "ba8c8c92",
   "metadata": {},
   "outputs": [],
   "source": [
    "for i in overall:\n",
    "    over=i.text\n",
    "    overall_reviews.append(over)\n",
    "overall_reviews"
   ]
  },
  {
   "cell_type": "code",
   "execution_count": null,
   "id": "1304c6c2",
   "metadata": {},
   "outputs": [],
   "source": [
    "prices=driver_chrome.find_elements_by_xpath(\"//a[@class='prices']\")\n",
    "prices"
   ]
  },
  {
   "cell_type": "code",
   "execution_count": null,
   "id": "622e6032",
   "metadata": {},
   "outputs": [],
   "source": [
    "for i in prices:\n",
    "    price=i.text\n",
    "    privates_from_price.append(price)\n",
    "privates_from_price"
   ]
  },
  {
   "cell_type": "code",
   "execution_count": null,
   "id": "e0c61d86",
   "metadata": {},
   "outputs": [],
   "source": [
    "dorms=driver_chrome.find_elements_by_xpath(\"//a[@class='prices']\")\n",
    "dorms"
   ]
  },
  {
   "cell_type": "code",
   "execution_count": null,
   "id": "0195e6e3",
   "metadata": {},
   "outputs": [],
   "source": [
    "for i in dorms:\n",
    "    dorm=i.text\n",
    "    dorms_from_price.append(dorm)\n",
    "dorms_from_price"
   ]
  },
  {
   "cell_type": "code",
   "execution_count": null,
   "id": "76680274",
   "metadata": {},
   "outputs": [],
   "source": [
    "facilities=driver_chrome.find_elements_by_xpath(\"//div[@class='facilities-label facilities']\")\n",
    "facilities"
   ]
  },
  {
   "cell_type": "code",
   "execution_count": null,
   "id": "f310b7ef",
   "metadata": {},
   "outputs": [],
   "source": [
    "for i in facilities:\n",
    "    fac=i.text\n",
    "    facilities_hostel.append(fac)\n",
    "facilities_hostel"
   ]
  },
  {
   "cell_type": "code",
   "execution_count": null,
   "id": "50a60eff",
   "metadata": {},
   "outputs": [],
   "source": [
    "description=driver_chrome.find_elements_by_xpath(\"//div[@class='rating-factors prop-card-tablet rating-factors small']\")\n",
    "description"
   ]
  },
  {
   "cell_type": "code",
   "execution_count": null,
   "id": "ca67a3b7",
   "metadata": {},
   "outputs": [],
   "source": [
    "for i in description:\n",
    "    des=i.text\n",
    "    property_description.append(des)\n",
    "property_description"
   ]
  },
  {
   "cell_type": "code",
   "execution_count": null,
   "id": "a9be3491",
   "metadata": {},
   "outputs": [],
   "source": []
  },
  {
   "cell_type": "code",
   "execution_count": null,
   "id": "09fe0930",
   "metadata": {},
   "outputs": [],
   "source": []
  },
  {
   "cell_type": "code",
   "execution_count": null,
   "id": "7eedc0b1",
   "metadata": {},
   "outputs": [],
   "source": []
  },
  {
   "cell_type": "code",
   "execution_count": null,
   "id": "1199b7c6",
   "metadata": {},
   "outputs": [],
   "source": []
  },
  {
   "cell_type": "code",
   "execution_count": null,
   "id": "969f891a",
   "metadata": {},
   "outputs": [],
   "source": []
  }
 ],
 "metadata": {
  "kernelspec": {
   "display_name": "Python 3 (ipykernel)",
   "language": "python",
   "name": "python3"
  },
  "language_info": {
   "codemirror_mode": {
    "name": "ipython",
    "version": 3
   },
   "file_extension": ".py",
   "mimetype": "text/x-python",
   "name": "python",
   "nbconvert_exporter": "python",
   "pygments_lexer": "ipython3",
   "version": "3.9.12"
  }
 },
 "nbformat": 4,
 "nbformat_minor": 5
}
